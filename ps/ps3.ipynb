{
 "cells": [
  {
   "cell_type": "code",
   "execution_count": 6,
   "metadata": {},
   "outputs": [],
   "source": [
    "using CSV, DataFrames"
   ]
  },
  {
   "cell_type": "markdown",
   "metadata": {},
   "source": [
    "# Problem Set 3\n",
    "**Due: May 24, 2021** (in class; subject to change if COVID restrictions apply)"
   ]
  },
  {
   "cell_type": "markdown",
   "metadata": {},
   "source": [
    "## Problem 1 (Gibbs Sampling)"
   ]
  },
  {
   "cell_type": "markdown",
   "metadata": {},
   "source": [
    "Distributions of sizes and frequencies often tend to follow a Pareto distributions. Examples include:\n",
    "- wealth of individuals\n",
    "- size of oil reserves\n",
    "- size of cities\n",
    "- word frequency\n",
    "- return on stocks\n",
    "\n",
    "The Pareto distribution with shape $\\alpha>0$ and scale $c>0$ has pdf \n",
    "$$\\text{Pareto}(x\\vert \\alpha,c)=\\frac{\\alpha c^{\\alpha}}{x^{\\alpha+1}}\\mathbb{1}(x>c)$$\n",
    "- This is referred to as a power law distribution, because the pdf is proportional to x raised to a power\n",
    "- $\\alpha$ tells us the scaling relationship between the size of cities and their probability of occurring. \n",
    "    - Let $\\alpha=1$\n",
    "    - Density looks like $1/x^{\\alpha+1}=1/x^{2}$\n",
    "    - Cities with 10,000-20,000 inhabitants occur roughly $10^{\\alpha+1}=100$ times as frequently as cities with 100,000-110,000 inhabitants.\n",
    " \n",
    "- c is a lower bound on the observed values; c represents the cut off point\n",
    "- We will use Gibbs sampling to perform inference for $\\alpha$ and $c$.\n"
   ]
  },
  {
   "cell_type": "markdown",
   "metadata": {},
   "source": [
    "Let us use an improper **prior**:\n",
    "$$p(\\alpha,c) \\propto \\mathbb{1}(\\alpha,c>0)$$\n",
    "\n",
    "Note: An improper prior is a nonnegative function of the parameters which integrates to infinity,\n",
    "so it can’t really be considered to define a prior distribution. But, we can still plug it into\n",
    "Bayes’ formula, and often (but not always!) the resulting “posterior” will be proper—in other\n",
    "words, the likelihood times the prior integrates to a finite value, and so this “posterior” is a\n",
    "well-defined a probability distribution. It is important that the “posterior” be proper, since\n",
    "otherwise the whole Bayesian framework breaks down. Improper priors are often used in an\n",
    "attempt to make a prior as non-informative as possible, in other words, to represent as\n",
    "little prior knowledge as possible. They are sometimes also mathematically convenient."
   ]
  },
  {
   "cell_type": "markdown",
   "metadata": {},
   "source": [
    "Plugging into the Bayes' theorem, we define the **posterior** to be proportional to the likelihood times the prior:\n",
    "\n",
    "$$p(\\alpha,c\\vert x_{1:n})\\propto p(x_{1:n} \\vert \\alpha,c)p(\\alpha,c)\n",
    "\\propto \\mathbb{1}(\\alpha,c>0) \\prod _{i=1}^{n}\\frac{\\alpha c^{\\alpha}}{x_i^{\\alpha+1}}\\mathbb{1}(x_1>c)\n",
    "= \\frac{\\alpha c^{n\\alpha}}{(\\prod x_i)^{\\alpha+1}}\\mathbb{1}(c<x_*)\\mathbb{1}(\\alpha,c>0)$$\n",
    "\n",
    "where $x_*=\\min{x_1,\\dots,x_n}$. "
   ]
  },
  {
   "cell_type": "markdown",
   "metadata": {},
   "source": [
    "To use Gibbs, we need to be able to sample $\\alpha \\vert x_{1:n}$ and $c\\vert x_{1:n}$:\n",
    "\n",
    "$$\\alpha \\vert x_{1:n} \\sim \\text{Gamma}(n+1,\\sum \\log x_i-n\\log c)$$\n",
    "$$c\\vert x_{1:n} \\sim \\text{Mono}(n\\alpha+1,x_*)$$\n",
    "\n",
    "\n",
    "To see the derivation, please reference: https://jwmi.github.io/BMS/chapter6-gibbs-sampling.pdf."
   ]
  },
  {
   "cell_type": "markdown",
   "metadata": {},
   "source": [
    "(1.a) Download the data that is of your interest.  It could be any data from the population size of the cities in Spain to income distribution of the U.S. working population, and etc.\n",
    "\n",
    "(1.b) Estimate the posterior distribuiton of $\\alpha$ and $c$. Show the plot of the distributions.\n",
    "\n",
    "(1.c) Calculate the mean of the $\\alpha$ and $c$ as you increase the iteration size. In other words plot $k\\in {1,\\dots,\\text{number of simulations}}$ on x-axis and $\\frac{1}{k}\\sum_i^k\\alpha_i$ on y-axis.\n",
    "\n",
    "(1.d) Given the estimated $\\alpha$ and $c$, generate data using $Pareto(𝑥|𝛼,𝑐)$. Plot the distribution. Compare the distribution with the data you have downloaded."
   ]
  },
  {
   "cell_type": "markdown",
   "metadata": {},
   "source": [
    "## Problem 2 (Time Series)\n",
    "\n",
    "Let's examine historical stock price of Google. "
   ]
  },
  {
   "cell_type": "code",
   "execution_count": 8,
   "metadata": {},
   "outputs": [
    {
     "data": {
      "text/html": [
       "<table class=\"data-frame\"><thead><tr><th></th><th>Date</th><th>Open</th><th>High</th><th>Low</th><th>Close</th><th>Adj Close</th><th>Volume</th></tr><tr><th></th><th>Date…</th><th>Float64</th><th>Float64</th><th>Float64</th><th>Float64</th><th>Float64</th><th>Int64</th></tr></thead><tbody><p>6 rows × 7 columns</p><tr><th>1</th><td>2020-05-11</td><td>1378.28</td><td>1416.53</td><td>1377.15</td><td>1403.26</td><td>1403.26</td><td>1412100</td></tr><tr><th>2</th><td>2020-05-12</td><td>1407.12</td><td>1415.0</td><td>1374.77</td><td>1375.74</td><td>1375.74</td><td>1390600</td></tr><tr><th>3</th><td>2020-05-13</td><td>1377.05</td><td>1385.48</td><td>1328.4</td><td>1349.33</td><td>1349.33</td><td>1812600</td></tr><tr><th>4</th><td>2020-05-14</td><td>1335.02</td><td>1357.42</td><td>1323.91</td><td>1356.13</td><td>1356.13</td><td>1603100</td></tr><tr><th>5</th><td>2020-05-15</td><td>1350.0</td><td>1374.48</td><td>1339.0</td><td>1373.19</td><td>1373.19</td><td>1707700</td></tr><tr><th>6</th><td>2020-05-18</td><td>1361.75</td><td>1392.32</td><td>1354.25</td><td>1383.94</td><td>1383.94</td><td>1822400</td></tr></tbody></table>"
      ],
      "text/latex": [
       "\\begin{tabular}{r|ccccccc}\n",
       "\t& Date & Open & High & Low & Close & Adj Close & Volume\\\\\n",
       "\t\\hline\n",
       "\t& Date… & Float64 & Float64 & Float64 & Float64 & Float64 & Int64\\\\\n",
       "\t\\hline\n",
       "\t1 & 2020-05-11 & 1378.28 & 1416.53 & 1377.15 & 1403.26 & 1403.26 & 1412100 \\\\\n",
       "\t2 & 2020-05-12 & 1407.12 & 1415.0 & 1374.77 & 1375.74 & 1375.74 & 1390600 \\\\\n",
       "\t3 & 2020-05-13 & 1377.05 & 1385.48 & 1328.4 & 1349.33 & 1349.33 & 1812600 \\\\\n",
       "\t4 & 2020-05-14 & 1335.02 & 1357.42 & 1323.91 & 1356.13 & 1356.13 & 1603100 \\\\\n",
       "\t5 & 2020-05-15 & 1350.0 & 1374.48 & 1339.0 & 1373.19 & 1373.19 & 1707700 \\\\\n",
       "\t6 & 2020-05-18 & 1361.75 & 1392.32 & 1354.25 & 1383.94 & 1383.94 & 1822400 \\\\\n",
       "\\end{tabular}\n"
      ],
      "text/plain": [
       "\u001b[1m6×7 DataFrame\u001b[0m\n",
       "\u001b[1m Row \u001b[0m│\u001b[1m Date       \u001b[0m\u001b[1m Open    \u001b[0m\u001b[1m High    \u001b[0m\u001b[1m Low     \u001b[0m\u001b[1m Close   \u001b[0m\u001b[1m Adj Close \u001b[0m\u001b[1m Volume  \u001b[0m\n",
       "\u001b[1m     \u001b[0m│\u001b[90m Date…      \u001b[0m\u001b[90m Float64 \u001b[0m\u001b[90m Float64 \u001b[0m\u001b[90m Float64 \u001b[0m\u001b[90m Float64 \u001b[0m\u001b[90m Float64   \u001b[0m\u001b[90m Int64   \u001b[0m\n",
       "─────┼────────────────────────────────────────────────────────────────────\n",
       "   1 │ 2020-05-11  1378.28  1416.53  1377.15  1403.26    1403.26  1412100\n",
       "   2 │ 2020-05-12  1407.12  1415.0   1374.77  1375.74    1375.74  1390600\n",
       "   3 │ 2020-05-13  1377.05  1385.48  1328.4   1349.33    1349.33  1812600\n",
       "   4 │ 2020-05-14  1335.02  1357.42  1323.91  1356.13    1356.13  1603100\n",
       "   5 │ 2020-05-15  1350.0   1374.48  1339.0   1373.19    1373.19  1707700\n",
       "   6 │ 2020-05-18  1361.75  1392.32  1354.25  1383.94    1383.94  1822400"
      ]
     },
     "execution_count": 8,
     "metadata": {},
     "output_type": "execute_result"
    }
   ],
   "source": [
    "data = DataFrame(CSV.File(\"../data/GOOG.csv\",header=true))\n",
    "first(data,6)"
   ]
  },
  {
   "cell_type": "markdown",
   "metadata": {},
   "source": [
    "(2.a) Estimate the following models: GARCH(1,1); GARCH(1,2); GARCH(2,1); and GARCH(2,2) of the adjusted closing price.\n",
    "\n",
    "(2.b) Calculate  AIC for all four models above.\n",
    "\n",
    "(2.c) Calculate  BIC for all four models above.\n",
    "\n",
    "(2.d) Choose the optimal model (i.e., choose the combination of (p,q) that maximizes either AIC or BIC) and explain your result. \n",
    "\n"
   ]
  }
 ],
 "metadata": {
  "kernelspec": {
   "display_name": "Julia 1.4.2",
   "language": "julia",
   "name": "julia-1.4"
  },
  "language_info": {
   "file_extension": ".jl",
   "mimetype": "application/julia",
   "name": "julia",
   "version": "1.4.2"
  }
 },
 "nbformat": 4,
 "nbformat_minor": 4
}
