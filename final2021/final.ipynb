{
 "cells": [
  {
   "cell_type": "markdown",
   "metadata": {},
   "source": [
    "## 1. MLE (35 points)"
   ]
  },
  {
   "cell_type": "markdown",
   "metadata": {},
   "source": [
    "You have the following data:\n",
    "$$\\text{data:} {(t_i,x_i):i=1,\\dots,N}$$\n",
    "where $t_i$ measures the duration of an unemployment spell, and $x_i$ is a $K \\times 1$ vector of observable characteristics. You plot the empirical CDF of the data and believe that the durations follow an exponential distribution. You assume that the density of durations is given by:\n",
    "$$f(t\\vert x,\\beta)=\\lambda (x;\\beta)e^{-\\lambda(x;\\beta)t}$$\n",
    "where $\\ln \\lambda(x;\\beta)=x'\\beta$, where $\\beta$ is $K \\times 1$ vector of parameters."
   ]
  },
  {
   "cell_type": "markdown",
   "metadata": {},
   "source": [
    "1. (10 points)Write down the log likelihood, and its first order conditions to find expressions for $\\beta$'s"
   ]
  },
  {
   "cell_type": "markdown",
   "metadata": {},
   "source": [
    "2. (5 points) Assume that:\n",
    "$$x_i \\sim N(0,1)$$\n",
    "\n",
    "$$\n",
    "\\beta = \n",
    "\\left(\\begin{array}{cc} \n",
    "1\\\\ \n",
    "4 \n",
    "\\end{array}\\right)\n",
    "$$ \n",
    "Write a Julia program that creates a simulated data set with the information above for N=100 individuals.\n",
    "\n",
    "HINT: to create $t_i$, please use the following formula"
   ]
  },
  {
   "cell_type": "code",
   "execution_count": null,
   "metadata": {},
   "outputs": [],
   "source": [
    "t = -log.(rand(Uniform(0,1),N))./lambda;"
   ]
  },
  {
   "cell_type": "markdown",
   "metadata": {},
   "source": [
    "3. (10 points) Using the optimizers, find MLE estimates. Verify that they are close to the true value for $\\beta$."
   ]
  },
  {
   "cell_type": "markdown",
   "metadata": {},
   "source": [
    "4. (10 points) Empirically show consistency and asymptotic normality of beta parameter.\n",
    "\n",
    "Note: this may take time, so solve other parts first to save some time. "
   ]
  },
  {
   "cell_type": "markdown",
   "metadata": {},
   "source": [
    "## 2. GMM (35 points)"
   ]
  },
  {
   "cell_type": "markdown",
   "metadata": {},
   "source": [
    "Consider the model\n",
    "$$\n",
    "\\begin{align*}\n",
    "y_i & = x'_i\\beta+\\epsilon_i \\\\\n",
    "E(z_i\\epsilon_i)&=0\\\\\n",
    "R'\\beta&=0\n",
    "\\end{align*}\n",
    "$$\n",
    "with $y_i$ scalar, $x_i$ a $k$ vector and $z_i$ an $l$ vector with $l>k$. The matrix $R$ is $k\\times q$ with $1\\leq q<k$. You have a random sample ($y_i,x_i,z_i:i=1,\\dots,n$).\n",
    "\n",
    "Assume the efficient weighting matrix $W=\\Omega^{-1}=\\big(E(z_iz'_i\\epsilon_i^2)\\big)^{-1}$."
   ]
  },
  {
   "cell_type": "markdown",
   "metadata": {},
   "source": [
    "1. (10 points) Write out the GMM estimator $\\hat{\\beta}$ of $\\beta$ given the moment condition $E(z_i\\epsilon_i)=0$ **but ignoring** $R'\\beta=0$."
   ]
  },
  {
   "cell_type": "markdown",
   "metadata": {},
   "source": [
    "2. (10 points) Write out the GMM estimator $\\tilde{\\beta}$ of $\\beta$ given the moment condition $R'\\beta=0$ **and** $E(z_i\\epsilon_i)=0$.\n",
    "\n",
    "Hint: The objective function should use the Lagrangian:\n",
    "$$Q_n(\\beta,\\lambda)=\\frac{1}{2}(Y-X\\beta)'Z\\Omega^{-1}Z'(Y-X\\beta)+\\lambda'R'\\beta$$\n",
    "where $\\lambda$ is $q\\times 1$ Lagrange multiplier.\n",
    "You are welcome to Google for properties of matrix algebra, of course :)"
   ]
  },
  {
   "cell_type": "markdown",
   "metadata": {},
   "source": [
    "3. (10 points) Find the asymptotic distribution $\\sqrt{n}(\\tilde{\\beta}-\\beta)$ as $n\\rightarrow \\infty$ under the assumption that $E(z_i\\epsilon_i)=0$ and $R'\\beta=0$ are correct. "
   ]
  },
  {
   "cell_type": "markdown",
   "metadata": {},
   "source": [
    "4. (5 points) Sketch how you would code this problem if you were to have the the data:\n",
    "$$\\text{data:} {(y_i,x_i,z_i):i=1,\\dots,N}$$\n",
    "where $y_i$ scalar, $x_i$ a $k$ vector and $z_i$ an $l$ vector with $l>k$. The matrix $R$ is $k\\times q$ with $1\\leq q<k$."
   ]
  },
  {
   "cell_type": "markdown",
   "metadata": {},
   "source": [
    "## 3. Nonparametrics (30 points)"
   ]
  },
  {
   "cell_type": "markdown",
   "metadata": {},
   "source": [
    "Load the following data:"
   ]
  },
  {
   "cell_type": "code",
   "execution_count": 140,
   "metadata": {
    "scrolled": false
   },
   "outputs": [],
   "source": [
    "data = DataFrame(CSV.File(\"data1.csv\"))\n",
    "y = data[:,1]\n",
    "x = data[:,2]\n",
    "ydata = convert(Array,y)\n",
    "xdata = convert(Array,x)\n",
    ";"
   ]
  },
  {
   "cell_type": "markdown",
   "metadata": {},
   "source": [
    "1. (10 points) using Nadaraya-Watson estimator, evaluate $\\hat{f(x)}$ at the following points of x."
   ]
  },
  {
   "cell_type": "code",
   "execution_count": 130,
   "metadata": {},
   "outputs": [],
   "source": [
    "collect(range(0,1,step=0.01));"
   ]
  },
  {
   "cell_type": "markdown",
   "metadata": {},
   "source": [
    "Hint: the code given in class is written for multivariate X. To adapt to this situation where $x_i$ is one dimension, you can just erase repeat() functions. "
   ]
  },
  {
   "cell_type": "markdown",
   "metadata": {},
   "source": [
    "2. (10 points) In a separate window, (1) first scatter plot xdata and ydata, and then in the same window (2) plot $\\hat{f(x)}$.\n",
    "\n",
    "Hint: you can add to the previous plot by using \"plot!\" function. Moreover, if you cannot see the second plot/line, increase the thickness of the line of the second plot by using linewidth option (lw=5). \n",
    "\n",
    "Looking at the graph, how does the estimated $\\hat{f(x)}$ at different $x$ values different? In other words, can you present your $\\hat{f(x)}$ at each $x$ values with same confidence? How would you present this finding? Please **discuss** how you would present this result. "
   ]
  },
  {
   "cell_type": "markdown",
   "metadata": {},
   "source": [
    "3. (10 points) Notice that you have used Silverman's rule for picking the hyperparameter \"gamma\" in the notes. Estimate and plot $\\hat{f(x)}$ using different gamma's (within reason - with the xdata, gamma is 0.0619, so maybe try gamma = 0.5 and gamma = 0.001). Please **discuss** the bias and variance tradeoff given different gamma value. If the gamma is too high, how does it increase the risk; if gamma is too low, how does it increase the risk?"
   ]
  },
  {
   "cell_type": "code",
   "execution_count": 210,
   "metadata": {},
   "outputs": [
    {
     "data": {
      "text/plain": [
       "1-element Array{Float64,1}:\n",
       " 0.06194252878418682"
      ]
     },
     "execution_count": 210,
     "metadata": {},
     "output_type": "execute_result"
    }
   ],
   "source": [
    "gamma = 1.06.*std(xdata,dims=1).*(size(xdata,1)^-0.2)"
   ]
  }
 ],
 "metadata": {
  "kernelspec": {
   "display_name": "Julia 1.4.2",
   "language": "julia",
   "name": "julia-1.4"
  },
  "language_info": {
   "file_extension": ".jl",
   "mimetype": "application/julia",
   "name": "julia",
   "version": "1.4.2"
  }
 },
 "nbformat": 4,
 "nbformat_minor": 4
}
