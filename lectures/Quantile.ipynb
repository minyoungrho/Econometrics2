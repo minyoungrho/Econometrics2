{
 "cells": [
  {
   "cell_type": "code",
   "execution_count": 1,
   "metadata": {
    "scrolled": true
   },
   "outputs": [],
   "source": [
    "using Distributions, Plots, StatsPlots\n",
    "using CSV, DataFrames\n",
    "using QuantileRegressions\n",
    "using GLM"
   ]
  },
  {
   "cell_type": "markdown",
   "metadata": {},
   "source": [
    "# Quantile Regression"
   ]
  },
  {
   "cell_type": "markdown",
   "metadata": {},
   "source": [
    "The $\\alpha$ quantile of a random variable $Y$, conditional on $X=x$\n",
    "(notation: $Y_{\\alpha|X=x})$ is the smallest value $z$ such that\n",
    "$Pr(Y\\leq z|X=x)=\\alpha$. \n",
    "\n",
    "If $F_{Y|X=x}$ is the conditional CDF of $Y,$ then the $\\alpha$-conditional\n",
    "quantile is \n",
    "$$\n",
    "Y_{\\alpha|X=x}=\\inf y:\\alpha\\leq F_{Y|X=x}(y).\n",
    "$$\n",
    " \n"
   ]
  },
  {
   "cell_type": "code",
   "execution_count": 2,
   "metadata": {
    "scrolled": true
   },
   "outputs": [
    {
     "data": {
      "image/svg+xml": [
       "<?xml version=\"1.0\" encoding=\"utf-8\"?>\n",
       "<svg xmlns=\"http://www.w3.org/2000/svg\" xmlns:xlink=\"http://www.w3.org/1999/xlink\" width=\"600\" height=\"400\" viewBox=\"0 0 2400 1600\">\n",
       "<defs>\n",
       "  <clipPath id=\"clip170\">\n",
       "    <rect x=\"0\" y=\"0\" width=\"2400\" height=\"1600\"/>\n",
       "  </clipPath>\n",
       "</defs>\n",
       "<path clip-path=\"url(#clip170)\" d=\"\n",
       "M0 1600 L2400 1600 L2400 0 L0 0  Z\n",
       "  \" fill=\"#ffffff\" fill-rule=\"evenodd\" fill-opacity=\"1\"/>\n",
       "<defs>\n",
       "  <clipPath id=\"clip171\">\n",
       "    <rect x=\"480\" y=\"0\" width=\"1681\" height=\"1600\"/>\n",
       "  </clipPath>\n",
       "</defs>\n",
       "<path clip-path=\"url(#clip170)\" d=\"\n",
       "M143.033 1486.45 L2352.76 1486.45 L2352.76 47.2441 L143.033 47.2441  Z\n",
       "  \" fill=\"#ffffff\" fill-rule=\"evenodd\" fill-opacity=\"1\"/>\n",
       "<defs>\n",
       "  <clipPath id=\"clip172\">\n",
       "    <rect x=\"143\" y=\"47\" width=\"2211\" height=\"1440\"/>\n",
       "  </clipPath>\n",
       "</defs>\n",
       "<polyline clip-path=\"url(#clip172)\" style=\"stroke:#000000; stroke-width:2; stroke-opacity:0.1; fill:none\" points=\"\n",
       "  203.484,1486.45 203.484,47.2441 \n",
       "  \"/>\n",
       "<polyline clip-path=\"url(#clip172)\" style=\"stroke:#000000; stroke-width:2; stroke-opacity:0.1; fill:none\" points=\"\n",
       "  725.689,1486.45 725.689,47.2441 \n",
       "  \"/>\n",
       "<polyline clip-path=\"url(#clip172)\" style=\"stroke:#000000; stroke-width:2; stroke-opacity:0.1; fill:none\" points=\"\n",
       "  1247.89,1486.45 1247.89,47.2441 \n",
       "  \"/>\n",
       "<polyline clip-path=\"url(#clip172)\" style=\"stroke:#000000; stroke-width:2; stroke-opacity:0.1; fill:none\" points=\"\n",
       "  1770.1,1486.45 1770.1,47.2441 \n",
       "  \"/>\n",
       "<polyline clip-path=\"url(#clip172)\" style=\"stroke:#000000; stroke-width:2; stroke-opacity:0.1; fill:none\" points=\"\n",
       "  2292.31,1486.45 2292.31,47.2441 \n",
       "  \"/>\n",
       "<polyline clip-path=\"url(#clip170)\" style=\"stroke:#000000; stroke-width:4; stroke-opacity:1; fill:none\" points=\"\n",
       "  143.033,1486.45 2352.76,1486.45 \n",
       "  \"/>\n",
       "<polyline clip-path=\"url(#clip170)\" style=\"stroke:#000000; stroke-width:4; stroke-opacity:1; fill:none\" points=\"\n",
       "  203.484,1486.45 203.484,1469.18 \n",
       "  \"/>\n",
       "<polyline clip-path=\"url(#clip170)\" style=\"stroke:#000000; stroke-width:4; stroke-opacity:1; fill:none\" points=\"\n",
       "  725.689,1486.45 725.689,1469.18 \n",
       "  \"/>\n",
       "<polyline clip-path=\"url(#clip170)\" style=\"stroke:#000000; stroke-width:4; stroke-opacity:1; fill:none\" points=\"\n",
       "  1247.89,1486.45 1247.89,1469.18 \n",
       "  \"/>\n",
       "<polyline clip-path=\"url(#clip170)\" style=\"stroke:#000000; stroke-width:4; stroke-opacity:1; fill:none\" points=\"\n",
       "  1770.1,1486.45 1770.1,1469.18 \n",
       "  \"/>\n",
       "<polyline clip-path=\"url(#clip170)\" style=\"stroke:#000000; stroke-width:4; stroke-opacity:1; fill:none\" points=\"\n",
       "  2292.31,1486.45 2292.31,1469.18 \n",
       "  \"/>\n",
       "<path clip-path=\"url(#clip170)\" d=\"M 0 0 M171.493 1515.64 Q167.882 1515.64 166.054 1519.2 Q164.248 1522.75 164.248 1529.87 Q164.248 1536.98 166.054 1540.55 Q167.882 1544.09 171.493 1544.09 Q175.128 1544.09 176.933 1540.55 Q178.762 1536.98 178.762 1529.87 Q178.762 1522.75 176.933 1519.2 Q175.128 1515.64 171.493 1515.64 M171.493 1511.93 Q177.304 1511.93 180.359 1516.54 Q183.438 1521.12 183.438 1529.87 Q183.438 1538.6 180.359 1543.21 Q177.304 1547.79 171.493 1547.79 Q165.683 1547.79 162.605 1543.21 Q159.549 1538.6 159.549 1529.87 Q159.549 1521.12 162.605 1516.54 Q165.683 1511.93 171.493 1511.93 Z\" fill=\"#000000\" fill-rule=\"evenodd\" fill-opacity=\"1\" /><path clip-path=\"url(#clip170)\" d=\"M 0 0 M188.507 1541.24 L193.391 1541.24 L193.391 1547.12 L188.507 1547.12 L188.507 1541.24 Z\" fill=\"#000000\" fill-rule=\"evenodd\" fill-opacity=\"1\" /><path clip-path=\"url(#clip170)\" d=\"M 0 0 M208.461 1515.64 Q204.85 1515.64 203.021 1519.2 Q201.215 1522.75 201.215 1529.87 Q201.215 1536.98 203.021 1540.55 Q204.85 1544.09 208.461 1544.09 Q212.095 1544.09 213.901 1540.55 Q215.729 1536.98 215.729 1529.87 Q215.729 1522.75 213.901 1519.2 Q212.095 1515.64 208.461 1515.64 M208.461 1511.93 Q214.271 1511.93 217.327 1516.54 Q220.405 1521.12 220.405 1529.87 Q220.405 1538.6 217.327 1543.21 Q214.271 1547.79 208.461 1547.79 Q202.651 1547.79 199.572 1543.21 Q196.516 1538.6 196.516 1529.87 Q196.516 1521.12 199.572 1516.54 Q202.651 1511.93 208.461 1511.93 Z\" fill=\"#000000\" fill-rule=\"evenodd\" fill-opacity=\"1\" /><path clip-path=\"url(#clip170)\" d=\"M 0 0 M235.475 1515.64 Q231.863 1515.64 230.035 1519.2 Q228.229 1522.75 228.229 1529.87 Q228.229 1536.98 230.035 1540.55 Q231.863 1544.09 235.475 1544.09 Q239.109 1544.09 240.914 1540.55 Q242.743 1536.98 242.743 1529.87 Q242.743 1522.75 240.914 1519.2 Q239.109 1515.64 235.475 1515.64 M235.475 1511.93 Q241.285 1511.93 244.34 1516.54 Q247.419 1521.12 247.419 1529.87 Q247.419 1538.6 244.34 1543.21 Q241.285 1547.79 235.475 1547.79 Q229.664 1547.79 226.586 1543.21 Q223.53 1538.6 223.53 1529.87 Q223.53 1521.12 226.586 1516.54 Q229.664 1511.93 235.475 1511.93 Z\" fill=\"#000000\" fill-rule=\"evenodd\" fill-opacity=\"1\" /><path clip-path=\"url(#clip170)\" d=\"M 0 0 M694.995 1515.64 Q691.384 1515.64 689.555 1519.2 Q687.75 1522.75 687.75 1529.87 Q687.75 1536.98 689.555 1540.55 Q691.384 1544.09 694.995 1544.09 Q698.629 1544.09 700.435 1540.55 Q702.264 1536.98 702.264 1529.87 Q702.264 1522.75 700.435 1519.2 Q698.629 1515.64 694.995 1515.64 M694.995 1511.93 Q700.805 1511.93 703.861 1516.54 Q706.939 1521.12 706.939 1529.87 Q706.939 1538.6 703.861 1543.21 Q700.805 1547.79 694.995 1547.79 Q689.185 1547.79 686.106 1543.21 Q683.051 1538.6 683.051 1529.87 Q683.051 1521.12 686.106 1516.54 Q689.185 1511.93 694.995 1511.93 Z\" fill=\"#000000\" fill-rule=\"evenodd\" fill-opacity=\"1\" /><path clip-path=\"url(#clip170)\" d=\"M 0 0 M712.009 1541.24 L716.893 1541.24 L716.893 1547.12 L712.009 1547.12 L712.009 1541.24 Z\" fill=\"#000000\" fill-rule=\"evenodd\" fill-opacity=\"1\" /><path clip-path=\"url(#clip170)\" d=\"M 0 0 M725.99 1543.18 L742.31 1543.18 L742.31 1547.12 L720.365 1547.12 L720.365 1543.18 Q723.027 1540.43 727.611 1535.8 Q732.217 1531.15 733.398 1529.81 Q735.643 1527.28 736.523 1525.55 Q737.425 1523.79 737.425 1522.1 Q737.425 1519.34 735.481 1517.61 Q733.56 1515.87 730.458 1515.87 Q728.259 1515.87 725.805 1516.63 Q723.375 1517.4 720.597 1518.95 L720.597 1514.23 Q723.421 1513.09 725.875 1512.51 Q728.328 1511.93 730.365 1511.93 Q735.736 1511.93 738.93 1514.62 Q742.124 1517.31 742.124 1521.8 Q742.124 1523.93 741.314 1525.85 Q740.527 1527.74 738.421 1530.34 Q737.842 1531.01 734.74 1534.23 Q731.638 1537.42 725.99 1543.18 Z\" fill=\"#000000\" fill-rule=\"evenodd\" fill-opacity=\"1\" /><path clip-path=\"url(#clip170)\" d=\"M 0 0 M747.425 1512.56 L765.782 1512.56 L765.782 1516.5 L751.708 1516.5 L751.708 1524.97 Q752.726 1524.62 753.745 1524.46 Q754.763 1524.27 755.782 1524.27 Q761.569 1524.27 764.948 1527.44 Q768.328 1530.62 768.328 1536.03 Q768.328 1541.61 764.856 1544.71 Q761.384 1547.79 755.064 1547.79 Q752.888 1547.79 750.62 1547.42 Q748.374 1547.05 745.967 1546.31 L745.967 1541.61 Q748.05 1542.74 750.273 1543.3 Q752.495 1543.86 754.972 1543.86 Q758.976 1543.86 761.314 1541.75 Q763.652 1539.64 763.652 1536.03 Q763.652 1532.42 761.314 1530.31 Q758.976 1528.21 754.972 1528.21 Q753.097 1528.21 751.222 1528.62 Q749.37 1529.04 747.425 1529.92 L747.425 1512.56 Z\" fill=\"#000000\" fill-rule=\"evenodd\" fill-opacity=\"1\" /><path clip-path=\"url(#clip170)\" d=\"M 0 0 M1216.4 1515.64 Q1212.79 1515.64 1210.96 1519.2 Q1209.16 1522.75 1209.16 1529.87 Q1209.16 1536.98 1210.96 1540.55 Q1212.79 1544.09 1216.4 1544.09 Q1220.04 1544.09 1221.84 1540.55 Q1223.67 1536.98 1223.67 1529.87 Q1223.67 1522.75 1221.84 1519.2 Q1220.04 1515.64 1216.4 1515.64 M1216.4 1511.93 Q1222.21 1511.93 1225.27 1516.54 Q1228.35 1521.12 1228.35 1529.87 Q1228.35 1538.6 1225.27 1543.21 Q1222.21 1547.79 1216.4 1547.79 Q1210.59 1547.79 1207.51 1543.21 Q1204.46 1538.6 1204.46 1529.87 Q1204.46 1521.12 1207.51 1516.54 Q1210.59 1511.93 1216.4 1511.93 Z\" fill=\"#000000\" fill-rule=\"evenodd\" fill-opacity=\"1\" /><path clip-path=\"url(#clip170)\" d=\"M 0 0 M1233.42 1541.24 L1238.3 1541.24 L1238.3 1547.12 L1233.42 1547.12 L1233.42 1541.24 Z\" fill=\"#000000\" fill-rule=\"evenodd\" fill-opacity=\"1\" /><path clip-path=\"url(#clip170)\" d=\"M 0 0 M1243.42 1512.56 L1261.77 1512.56 L1261.77 1516.5 L1247.7 1516.5 L1247.7 1524.97 Q1248.72 1524.62 1249.73 1524.46 Q1250.75 1524.27 1251.77 1524.27 Q1257.56 1524.27 1260.94 1527.44 Q1264.32 1530.62 1264.32 1536.03 Q1264.32 1541.61 1260.85 1544.71 Q1257.37 1547.79 1251.05 1547.79 Q1248.88 1547.79 1246.61 1547.42 Q1244.36 1547.05 1241.96 1546.31 L1241.96 1541.61 Q1244.04 1542.74 1246.26 1543.3 Q1248.48 1543.86 1250.96 1543.86 Q1254.97 1543.86 1257.3 1541.75 Q1259.64 1539.64 1259.64 1536.03 Q1259.64 1532.42 1257.3 1530.31 Q1254.97 1528.21 1250.96 1528.21 Q1249.09 1528.21 1247.21 1528.62 Q1245.36 1529.04 1243.42 1529.92 L1243.42 1512.56 Z\" fill=\"#000000\" fill-rule=\"evenodd\" fill-opacity=\"1\" /><path clip-path=\"url(#clip170)\" d=\"M 0 0 M1279.39 1515.64 Q1275.78 1515.64 1273.95 1519.2 Q1272.14 1522.75 1272.14 1529.87 Q1272.14 1536.98 1273.95 1540.55 Q1275.78 1544.09 1279.39 1544.09 Q1283.02 1544.09 1284.83 1540.55 Q1286.66 1536.98 1286.66 1529.87 Q1286.66 1522.75 1284.83 1519.2 Q1283.02 1515.64 1279.39 1515.64 M1279.39 1511.93 Q1285.2 1511.93 1288.25 1516.54 Q1291.33 1521.12 1291.33 1529.87 Q1291.33 1538.6 1288.25 1543.21 Q1285.2 1547.79 1279.39 1547.79 Q1273.58 1547.79 1270.5 1543.21 Q1267.44 1538.6 1267.44 1529.87 Q1267.44 1521.12 1270.5 1516.54 Q1273.58 1511.93 1279.39 1511.93 Z\" fill=\"#000000\" fill-rule=\"evenodd\" fill-opacity=\"1\" /><path clip-path=\"url(#clip170)\" d=\"M 0 0 M1739.06 1515.64 Q1735.45 1515.64 1733.62 1519.2 Q1731.81 1522.75 1731.81 1529.87 Q1731.81 1536.98 1733.62 1540.55 Q1735.45 1544.09 1739.06 1544.09 Q1742.69 1544.09 1744.5 1540.55 Q1746.33 1536.98 1746.33 1529.87 Q1746.33 1522.75 1744.5 1519.2 Q1742.69 1515.64 1739.06 1515.64 M1739.06 1511.93 Q1744.87 1511.93 1747.92 1516.54 Q1751 1521.12 1751 1529.87 Q1751 1538.6 1747.92 1543.21 Q1744.87 1547.79 1739.06 1547.79 Q1733.25 1547.79 1730.17 1543.21 Q1727.11 1538.6 1727.11 1529.87 Q1727.11 1521.12 1730.17 1516.54 Q1733.25 1511.93 1739.06 1511.93 Z\" fill=\"#000000\" fill-rule=\"evenodd\" fill-opacity=\"1\" /><path clip-path=\"url(#clip170)\" d=\"M 0 0 M1756.07 1541.24 L1760.96 1541.24 L1760.96 1547.12 L1756.07 1547.12 L1756.07 1541.24 Z\" fill=\"#000000\" fill-rule=\"evenodd\" fill-opacity=\"1\" /><path clip-path=\"url(#clip170)\" d=\"M 0 0 M1764.85 1512.56 L1787.07 1512.56 L1787.07 1514.55 L1774.52 1547.12 L1769.64 1547.12 L1781.44 1516.5 L1764.85 1516.5 L1764.85 1512.56 Z\" fill=\"#000000\" fill-rule=\"evenodd\" fill-opacity=\"1\" /><path clip-path=\"url(#clip170)\" d=\"M 0 0 M1792.18 1512.56 L1810.54 1512.56 L1810.54 1516.5 L1796.47 1516.5 L1796.47 1524.97 Q1797.48 1524.62 1798.5 1524.46 Q1799.52 1524.27 1800.54 1524.27 Q1806.33 1524.27 1809.71 1527.44 Q1813.09 1530.62 1813.09 1536.03 Q1813.09 1541.61 1809.61 1544.71 Q1806.14 1547.79 1799.82 1547.79 Q1797.65 1547.79 1795.38 1547.42 Q1793.13 1547.05 1790.72 1546.31 L1790.72 1541.61 Q1792.81 1542.74 1795.03 1543.3 Q1797.25 1543.86 1799.73 1543.86 Q1803.73 1543.86 1806.07 1541.75 Q1808.41 1539.64 1808.41 1536.03 Q1808.41 1532.42 1806.07 1530.31 Q1803.73 1528.21 1799.73 1528.21 Q1797.85 1528.21 1795.98 1528.62 Q1794.13 1529.04 1792.18 1529.92 L1792.18 1512.56 Z\" fill=\"#000000\" fill-rule=\"evenodd\" fill-opacity=\"1\" /><path clip-path=\"url(#clip170)\" d=\"M 0 0 M2250.7 1543.18 L2258.34 1543.18 L2258.34 1516.82 L2250.03 1518.49 L2250.03 1514.23 L2258.29 1512.56 L2262.97 1512.56 L2262.97 1543.18 L2270.6 1543.18 L2270.6 1547.12 L2250.7 1547.12 L2250.7 1543.18 Z\" fill=\"#000000\" fill-rule=\"evenodd\" fill-opacity=\"1\" /><path clip-path=\"url(#clip170)\" d=\"M 0 0 M2275.67 1541.24 L2280.56 1541.24 L2280.56 1547.12 L2275.67 1547.12 L2275.67 1541.24 Z\" fill=\"#000000\" fill-rule=\"evenodd\" fill-opacity=\"1\" /><path clip-path=\"url(#clip170)\" d=\"M 0 0 M2295.63 1515.64 Q2292.02 1515.64 2290.19 1519.2 Q2288.38 1522.75 2288.38 1529.87 Q2288.38 1536.98 2290.19 1540.55 Q2292.02 1544.09 2295.63 1544.09 Q2299.26 1544.09 2301.07 1540.55 Q2302.9 1536.98 2302.9 1529.87 Q2302.9 1522.75 2301.07 1519.2 Q2299.26 1515.64 2295.63 1515.64 M2295.63 1511.93 Q2301.44 1511.93 2304.49 1516.54 Q2307.57 1521.12 2307.57 1529.87 Q2307.57 1538.6 2304.49 1543.21 Q2301.44 1547.79 2295.63 1547.79 Q2289.82 1547.79 2286.74 1543.21 Q2283.68 1538.6 2283.68 1529.87 Q2283.68 1521.12 2286.74 1516.54 Q2289.82 1511.93 2295.63 1511.93 Z\" fill=\"#000000\" fill-rule=\"evenodd\" fill-opacity=\"1\" /><path clip-path=\"url(#clip170)\" d=\"M 0 0 M2322.64 1515.64 Q2319.03 1515.64 2317.2 1519.2 Q2315.4 1522.75 2315.4 1529.87 Q2315.4 1536.98 2317.2 1540.55 Q2319.03 1544.09 2322.64 1544.09 Q2326.28 1544.09 2328.08 1540.55 Q2329.91 1536.98 2329.91 1529.87 Q2329.91 1522.75 2328.08 1519.2 Q2326.28 1515.64 2322.64 1515.64 M2322.64 1511.93 Q2328.45 1511.93 2331.51 1516.54 Q2334.59 1521.12 2334.59 1529.87 Q2334.59 1538.6 2331.51 1543.21 Q2328.45 1547.79 2322.64 1547.79 Q2316.83 1547.79 2313.75 1543.21 Q2310.7 1538.6 2310.7 1529.87 Q2310.7 1521.12 2313.75 1516.54 Q2316.83 1511.93 2322.64 1511.93 Z\" fill=\"#000000\" fill-rule=\"evenodd\" fill-opacity=\"1\" /><polyline clip-path=\"url(#clip172)\" style=\"stroke:#000000; stroke-width:2; stroke-opacity:0.1; fill:none\" points=\"\n",
       "  143.033,1425.89 2352.76,1425.89 \n",
       "  \"/>\n",
       "<polyline clip-path=\"url(#clip172)\" style=\"stroke:#000000; stroke-width:2; stroke-opacity:0.1; fill:none\" points=\"\n",
       "  143.033,1206.21 2352.76,1206.21 \n",
       "  \"/>\n",
       "<polyline clip-path=\"url(#clip172)\" style=\"stroke:#000000; stroke-width:2; stroke-opacity:0.1; fill:none\" points=\"\n",
       "  143.033,986.528 2352.76,986.528 \n",
       "  \"/>\n",
       "<polyline clip-path=\"url(#clip172)\" style=\"stroke:#000000; stroke-width:2; stroke-opacity:0.1; fill:none\" points=\"\n",
       "  143.033,766.846 2352.76,766.846 \n",
       "  \"/>\n",
       "<polyline clip-path=\"url(#clip172)\" style=\"stroke:#000000; stroke-width:2; stroke-opacity:0.1; fill:none\" points=\"\n",
       "  143.033,547.164 2352.76,547.164 \n",
       "  \"/>\n",
       "<polyline clip-path=\"url(#clip172)\" style=\"stroke:#000000; stroke-width:2; stroke-opacity:0.1; fill:none\" points=\"\n",
       "  143.033,327.481 2352.76,327.481 \n",
       "  \"/>\n",
       "<polyline clip-path=\"url(#clip172)\" style=\"stroke:#000000; stroke-width:2; stroke-opacity:0.1; fill:none\" points=\"\n",
       "  143.033,107.799 2352.76,107.799 \n",
       "  \"/>\n",
       "<polyline clip-path=\"url(#clip170)\" style=\"stroke:#000000; stroke-width:4; stroke-opacity:1; fill:none\" points=\"\n",
       "  143.033,1486.45 143.033,47.2441 \n",
       "  \"/>\n",
       "<polyline clip-path=\"url(#clip170)\" style=\"stroke:#000000; stroke-width:4; stroke-opacity:1; fill:none\" points=\"\n",
       "  143.033,1425.89 169.55,1425.89 \n",
       "  \"/>\n",
       "<polyline clip-path=\"url(#clip170)\" style=\"stroke:#000000; stroke-width:4; stroke-opacity:1; fill:none\" points=\"\n",
       "  143.033,1206.21 169.55,1206.21 \n",
       "  \"/>\n",
       "<polyline clip-path=\"url(#clip170)\" style=\"stroke:#000000; stroke-width:4; stroke-opacity:1; fill:none\" points=\"\n",
       "  143.033,986.528 169.55,986.528 \n",
       "  \"/>\n",
       "<polyline clip-path=\"url(#clip170)\" style=\"stroke:#000000; stroke-width:4; stroke-opacity:1; fill:none\" points=\"\n",
       "  143.033,766.846 169.55,766.846 \n",
       "  \"/>\n",
       "<polyline clip-path=\"url(#clip170)\" style=\"stroke:#000000; stroke-width:4; stroke-opacity:1; fill:none\" points=\"\n",
       "  143.033,547.164 169.55,547.164 \n",
       "  \"/>\n",
       "<polyline clip-path=\"url(#clip170)\" style=\"stroke:#000000; stroke-width:4; stroke-opacity:1; fill:none\" points=\"\n",
       "  143.033,327.481 169.55,327.481 \n",
       "  \"/>\n",
       "<polyline clip-path=\"url(#clip170)\" style=\"stroke:#000000; stroke-width:4; stroke-opacity:1; fill:none\" points=\"\n",
       "  143.033,107.799 169.55,107.799 \n",
       "  \"/>\n",
       "<path clip-path=\"url(#clip170)\" d=\"M 0 0 M50.9921 1426.34 L80.6679 1426.34 L80.6679 1430.28 L50.9921 1430.28 L50.9921 1426.34 Z\" fill=\"#000000\" fill-rule=\"evenodd\" fill-opacity=\"1\" /><path clip-path=\"url(#clip170)\" d=\"M 0 0 M99.9039 1424.54 Q103.26 1425.26 105.135 1427.53 Q107.033 1429.79 107.033 1433.13 Q107.033 1438.24 103.515 1441.04 Q99.9965 1443.84 93.515 1443.84 Q91.3391 1443.84 89.0243 1443.4 Q86.7327 1442.99 84.279 1442.13 L84.279 1437.62 Q86.2234 1438.75 88.5382 1439.33 Q90.853 1439.91 93.3762 1439.91 Q97.7743 1439.91 100.066 1438.17 Q102.381 1436.44 102.381 1433.13 Q102.381 1430.07 100.228 1428.36 Q98.0984 1426.62 94.2789 1426.62 L90.2512 1426.62 L90.2512 1422.78 L94.4641 1422.78 Q97.9132 1422.78 99.7419 1421.41 Q101.571 1420.03 101.571 1417.43 Q101.571 1414.77 99.6724 1413.36 Q97.7974 1411.92 94.2789 1411.92 Q92.3576 1411.92 90.1586 1412.34 Q87.9595 1412.76 85.3206 1413.64 L85.3206 1409.47 Q87.9827 1408.73 90.2975 1408.36 Q92.6354 1407.99 94.6956 1407.99 Q100.02 1407.99 103.121 1410.42 Q106.223 1412.83 106.223 1416.95 Q106.223 1419.82 104.58 1421.81 Q102.936 1423.78 99.9039 1424.54 Z\" fill=\"#000000\" fill-rule=\"evenodd\" fill-opacity=\"1\" /><path clip-path=\"url(#clip170)\" d=\"M 0 0 M51.9412 1206.66 L81.617 1206.66 L81.617 1210.6 L51.9412 1210.6 L51.9412 1206.66 Z\" fill=\"#000000\" fill-rule=\"evenodd\" fill-opacity=\"1\" /><path clip-path=\"url(#clip170)\" d=\"M 0 0 M90.7141 1219.56 L107.033 1219.56 L107.033 1223.49 L85.0892 1223.49 L85.0892 1219.56 Q87.7512 1216.8 92.3345 1212.17 Q96.941 1207.52 98.1215 1206.18 Q100.367 1203.65 101.246 1201.92 Q102.149 1200.16 102.149 1198.47 Q102.149 1195.71 100.205 1193.98 Q98.2835 1192.24 95.1817 1192.24 Q92.9826 1192.24 90.529 1193 Q88.0984 1193.77 85.3206 1195.32 L85.3206 1190.6 Q88.1447 1189.46 90.5984 1188.88 Q93.0521 1188.31 95.0891 1188.31 Q100.459 1188.31 103.654 1190.99 Q106.848 1193.68 106.848 1198.17 Q106.848 1200.3 106.038 1202.22 Q105.251 1204.12 103.145 1206.71 Q102.566 1207.38 99.4641 1210.6 Q96.3623 1213.79 90.7141 1219.56 Z\" fill=\"#000000\" fill-rule=\"evenodd\" fill-opacity=\"1\" /><path clip-path=\"url(#clip170)\" d=\"M 0 0 M51.5708 986.98 L81.2466 986.98 L81.2466 990.915 L51.5708 990.915 L51.5708 986.98 Z\" fill=\"#000000\" fill-rule=\"evenodd\" fill-opacity=\"1\" /><path clip-path=\"url(#clip170)\" d=\"M 0 0 M87.1262 999.873 L94.765 999.873 L94.765 973.508 L86.4549 975.174 L86.4549 970.915 L94.7187 969.248 L99.3946 969.248 L99.3946 999.873 L107.033 999.873 L107.033 1003.81 L87.1262 1003.81 L87.1262 999.873 Z\" fill=\"#000000\" fill-rule=\"evenodd\" fill-opacity=\"1\" /><path clip-path=\"url(#clip170)\" d=\"M 0 0 M95.0891 752.645 Q91.478 752.645 89.6493 756.209 Q87.8438 759.751 87.8438 766.881 Q87.8438 773.987 89.6493 777.552 Q91.478 781.094 95.0891 781.094 Q98.7234 781.094 100.529 777.552 Q102.358 773.987 102.358 766.881 Q102.358 759.751 100.529 756.209 Q98.7234 752.645 95.0891 752.645 M95.0891 748.941 Q100.899 748.941 103.955 753.547 Q107.033 758.131 107.033 766.881 Q107.033 775.608 103.955 780.214 Q100.899 784.797 95.0891 784.797 Q89.279 784.797 86.2003 780.214 Q83.1447 775.608 83.1447 766.881 Q83.1447 758.131 86.2003 753.547 Q89.279 748.941 95.0891 748.941 Z\" fill=\"#000000\" fill-rule=\"evenodd\" fill-opacity=\"1\" /><path clip-path=\"url(#clip170)\" d=\"M 0 0 M87.1262 560.508 L94.765 560.508 L94.765 534.143 L86.4549 535.809 L86.4549 531.55 L94.7187 529.884 L99.3946 529.884 L99.3946 560.508 L107.033 560.508 L107.033 564.444 L87.1262 564.444 L87.1262 560.508 Z\" fill=\"#000000\" fill-rule=\"evenodd\" fill-opacity=\"1\" /><path clip-path=\"url(#clip170)\" d=\"M 0 0 M90.7141 340.826 L107.033 340.826 L107.033 344.761 L85.0892 344.761 L85.0892 340.826 Q87.7512 338.071 92.3345 333.442 Q96.941 328.789 98.1215 327.446 Q100.367 324.923 101.246 323.187 Q102.149 321.428 102.149 319.738 Q102.149 316.984 100.205 315.247 Q98.2835 313.511 95.1817 313.511 Q92.9826 313.511 90.529 314.275 Q88.0984 315.039 85.3206 316.59 L85.3206 311.868 Q88.1447 310.734 90.5984 310.155 Q93.0521 309.576 95.0891 309.576 Q100.459 309.576 103.654 312.261 Q106.848 314.946 106.848 319.437 Q106.848 321.567 106.038 323.488 Q105.251 325.386 103.145 327.979 Q102.566 328.65 99.4641 331.868 Q96.3623 335.062 90.7141 340.826 Z\" fill=\"#000000\" fill-rule=\"evenodd\" fill-opacity=\"1\" /><path clip-path=\"url(#clip170)\" d=\"M 0 0 M99.9039 106.445 Q103.26 107.162 105.135 109.431 Q107.033 111.699 107.033 115.032 Q107.033 120.148 103.515 122.949 Q99.9965 125.75 93.515 125.75 Q91.3391 125.75 89.0243 125.31 Q86.7327 124.894 84.279 124.037 L84.279 119.523 Q86.2234 120.657 88.5382 121.236 Q90.853 121.815 93.3762 121.815 Q97.7743 121.815 100.066 120.079 Q102.381 118.343 102.381 115.032 Q102.381 111.977 100.228 110.264 Q98.0984 108.528 94.2789 108.528 L90.2512 108.528 L90.2512 104.685 L94.4641 104.685 Q97.9132 104.685 99.7419 103.32 Q101.571 101.931 101.571 99.3381 Q101.571 96.6761 99.6724 95.2641 Q97.7974 93.8289 94.2789 93.8289 Q92.3576 93.8289 90.1586 94.2456 Q87.9595 94.6622 85.3206 95.5418 L85.3206 91.3752 Q87.9827 90.6345 90.2975 90.2641 Q92.6354 89.8937 94.6956 89.8937 Q100.02 89.8937 103.121 92.3243 Q106.223 94.7317 106.223 98.852 Q106.223 101.722 104.58 103.713 Q102.936 105.681 99.9039 106.445 Z\" fill=\"#000000\" fill-rule=\"evenodd\" fill-opacity=\"1\" /><polyline clip-path=\"url(#clip172)\" style=\"stroke:#009af9; stroke-width:4; stroke-opacity:1; fill:none\" points=\"\n",
       "  205.573,1445.72 226.63,1269.39 247.687,1212.87 268.744,1176.08 289.801,1148.11 310.858,1125.23 331.915,1105.69 352.972,1088.51 374.029,1073.1 395.086,1059.07 \n",
       "  416.143,1046.13 437.2,1034.1 458.257,1022.82 479.314,1012.18 500.371,1002.08 521.428,992.458 542.485,983.25 563.542,974.408 584.599,965.889 605.656,957.66 \n",
       "  626.713,949.691 647.77,941.954 668.827,934.43 689.884,927.097 710.941,919.938 731.998,912.938 753.055,906.084 774.112,899.362 795.169,892.763 816.226,886.275 \n",
       "  837.283,879.89 858.34,873.598 879.397,867.393 900.454,861.268 921.511,855.215 942.568,849.228 963.625,843.302 984.682,837.431 1005.74,831.61 1026.8,825.834 \n",
       "  1047.85,820.099 1068.91,814.399 1089.97,808.732 1111.02,803.092 1132.08,797.476 1153.14,791.88 1174.2,786.3 1195.25,780.733 1216.31,775.175 1237.37,769.622 \n",
       "  1258.42,764.07 1279.48,758.517 1300.54,752.959 1321.59,747.392 1342.65,741.812 1363.71,736.216 1384.77,730.6 1405.82,724.96 1426.88,719.293 1447.94,713.593 \n",
       "  1468.99,707.858 1490.05,702.082 1511.11,696.261 1532.16,690.39 1553.22,684.464 1574.28,678.477 1595.34,672.424 1616.39,666.298 1637.45,660.094 1658.51,653.802 \n",
       "  1679.56,647.417 1700.62,640.929 1721.68,634.33 1742.73,627.608 1763.79,620.754 1784.85,613.754 1805.91,606.595 1826.96,599.262 1848.02,591.738 1869.08,584.001 \n",
       "  1890.13,576.032 1911.19,567.803 1932.25,559.284 1953.3,550.442 1974.36,541.234 1995.42,531.612 2016.48,521.516 2037.53,510.873 2058.59,499.593 2079.65,487.56 \n",
       "  2100.7,474.626 2121.76,460.591 2142.82,445.181 2163.87,428.002 2184.93,408.458 2205.99,385.58 2227.05,357.613 2248.1,320.819 2269.16,264.303 2290.22,87.9763 \n",
       "  \n",
       "  \"/>\n",
       "</svg>\n"
      ]
     },
     "execution_count": 2,
     "metadata": {},
     "output_type": "execute_result"
    }
   ],
   "source": [
    "N=100\n",
    "grid = range(0.001,stop=0.999,length=N)\n",
    "plot(grid,quantile.(Normal(),grid),legend=false)"
   ]
  },
  {
   "cell_type": "markdown",
   "metadata": {},
   "source": [
    "When $\\alpha=0.5,$ we are talking about the conditional median $Y_{0.5|X=x}$,\n",
    "but we could be interested in other quantiles, too. \n",
    "\n",
    "The linear regression model is focused on the conditional mean of\n",
    "the dependent variable. \n",
    "\n",
    "However, when looking at economic policies, we're often interested in distributional effects:\n",
    "- we may like to know how the rich and poor may be differentially affected\n",
    "by a policy that provides a public good\n",
    "- we might like to know how a training program affects low-performing\n",
    "students compared to high-performing students "
   ]
  },
  {
   "cell_type": "markdown",
   "metadata": {},
   "source": [
    "The classical linear regression model $y_{t}=x_{t}^{\\prime}\\beta+\\epsilon_{t}$\n",
    "with normal errors implies that the distribution of $y_{t}$ conditional\n",
    "on $x_{t}$ is\n",
    "$$\n",
    "y_{t}\\sim N(x_{t}^{\\prime}\\beta,\\sigma^{2})\n",
    "$$\n",
    "\n",
    " Note that $Pr(Y<x^{\\prime}\\beta|X=x)=0.5$ when the model follows\n",
    "the classical assumptions with normal errors, because the normal distribution\n",
    "is symmetric about the mean, so the mean and the median are the same,\n",
    "that is, $Y_{0.5|X=x}=x^{\\prime}\\beta$. \n"
   ]
  },
  {
   "cell_type": "markdown",
   "metadata": {},
   "source": [
    "We have $y=x^{\\prime}\\beta+\\epsilon$ and\n",
    "$\\epsilon\\sim N(0,\\sigma^{2})$. \n",
    "- Conditional on $x$, $x^{\\prime}\\beta$ is given, and the distribution\n",
    "of $\\epsilon$ does not depend on $x$. \n",
    "- Note that $\\epsilon/\\sigma$ is standard normal, and the $\\alpha$\n",
    "quantile of $\\epsilon/\\sigma$ is simply the inverse of the standard\n",
    "normal CDF evaulated at $\\alpha,$ $\\Phi^{-1}(\\alpha)$, where $\\Phi$\n",
    "is the standard normal CDF function. \n",
    "- The probit function $\\Phi^{-1}(\\alpha)$ is tabulated (or can be found\n",
    "in Julia using \\texttt{using Distributions; y = quantile.(Normal(),range(0.001,stop=0.999,length=200))}.\n",
    "It is plotted in Figure \\ref{fig:Inverse-CDF-for}. \n",
    "\n",
    "The $\\alpha$ quantile of $\\epsilon$ is $\\sigma\\Phi^{-1}(\\alpha).$\n",
    "Thus, the $\\alpha$ conditional quantile of $y$ is $Y_{\\alpha|X=x}=x^{\\prime}\\beta+$$\\sigma$$\\Phi^{-1}(\\alpha)$.\n",
    "\n",
    "These give confidence intervals for the the fitted value, $x^{\\prime}\\beta$. \n"
   ]
  },
  {
   "cell_type": "markdown",
   "metadata": {},
   "source": [
    "## Fully Nonparametric \n",
    "\n",
    "\n",
    "To compute conditional quantiles for the classical linear model, we\n",
    "used the assumption of normality. Can we estimate conditional quantiles\n",
    "without making distributional assumptions? Yes, we can! (nod to Obama)\n",
    "(a note from 2018: those were the good old days!). You can do fully\n",
    "nonparametric conditional density estimation\n",
    "and use the fitted conditional density to compute quantiles.\n",
    "- Note that estimating quantiles where $\\alpha$ is close to 0 or 1\n",
    "is difficult, because you have few observations that lie in the neighborhood\n",
    "of the quantile, so you should expect a large variance if you go the\n",
    "nonparametric route. For more central quantiles, like the median,\n",
    "this will be less of a problem.\n",
    "- For this reason, we may go the \\emph{semi-parametric} route, which\n",
    "imposes more structure. When people talk about quantile regression,\n",
    "they usually mean the semi-parametric approach."
   ]
  },
  {
   "cell_type": "markdown",
   "metadata": {},
   "source": [
    "## Quantile Regression as a Semi-Parametric Estimator"
   ]
  },
  {
   "cell_type": "markdown",
   "metadata": {},
   "source": [
    "The most widely used method does not take either of the extreme positions,\n",
    "it is not fully parametric, like the linear regression model with\n",
    "known distribution of errors, but some parametric restrictions are\n",
    "made, to improve efficiency compared to the fully nonparametric approach.\n",
    "\n",
    "\n",
    "The assumption is that the $\\alpha$-conditional quantile of the dependent\n",
    "variable $Y$ is a linear function of the conditioning variables $X$:\n",
    "$Y_{\\alpha|X=x}=x^{\\prime}\\beta_{\\alpha}$. \n",
    "\n",
    "This is a generalization of what we get from the classical model with\n",
    "normality, where the slopes of the quantiles with respect to the regressors\n",
    "are constant for all $\\alpha$: \n",
    "- For the classical model with normality, $\\frac{\\partial}{\\partial x}Y_{\\alpha|X=x}=\\beta$. \n",
    "- With the assumption of linear quantiles without distributional assumptions,\n",
    "$\\frac{\\partial}{\\partial x}Y_{\\alpha|X=x}=\\beta_{\\alpha}$, so the\n",
    "slopes (and constants) are allowed to change with $\\alpha$. \n",
    "\n",
    "This is a step in the direction of flexibility, but it also means\n",
    "we need to estimate many parameters if we're interested in many quantiles:\n",
    "there may be an efficiency loss due to using many parameters to avoid\n",
    "distributional assumptions.\n",
    "\n",
    "\n",
    "The question is how to estimate $\\beta_{\\alpha}$ when we don't make\n",
    "distributional assumptions.\n",
    "\n",
    "It turns out that the problem can be expressed as an extremum estimator:\n",
    "$\\widehat{\\beta_{\\alpha}}=\\arg\\min s_{n}(\\beta)$ where\n",
    "$$\n",
    "s_{n}(\\beta)=\\sum_{i=1}^{n}\\left[1(y_{i}\\geq x_{i}^{\\prime}\\beta_{\\alpha})\\alpha+1(y_{i}<x_{i}^{\\prime}\\beta_{\\alpha})(1-\\alpha)\\right]\\left|y_{i}-x_{i}^{\\prime}\\beta_{\\alpha}\\right|\n",
    "$$\n",
    "First, suppose that $\\alpha=0.5,$ so we are estimating the median.\n",
    "Then the objective simplifies to minimizing the absolute deviations:\n",
    "$$\n",
    "s_{n}(\\beta)=\\sum_{i=1}^{n}\\left|y_{i}-x_{i}^{\\prime}\\beta_{\\alpha}\\right|\n",
    "$$\n",
    "\n",
    "The presence of the weights in the general version accounts for the\n",
    "fact that if we're estimating the $\\alpha=0.1$ quantile, we expect\n",
    "90\\% of the $y_{i}$ to be greater than $x_{i}^{\\prime}\\beta_{\\alpha}$,\n",
    "and only 10\\% to be smaller. We need to down-weight the likely events\n",
    "and up-weight the unlikely events so that the objective function minimizes\n",
    "at the appropriate place."
   ]
  },
  {
   "cell_type": "markdown",
   "metadata": {},
   "source": [
    "## Example\n",
    "\n",
    "Koenker, Roger and Kevin F. Hallock. \"Quantile Regression\". Journal of Economic Perspectives, Volume 15, Number 4, Fall 2001, Pages 143–156\n",
    "\n",
    "\n",
    "We are interested in the relationship between income and expenditures on food for a sample of working class Belgian households in 1857 (the Engel data)."
   ]
  },
  {
   "cell_type": "code",
   "execution_count": 3,
   "metadata": {
    "scrolled": true
   },
   "outputs": [
    {
     "data": {
      "text/html": [
       "<table class=\"data-frame\"><thead><tr><th></th><th>Column1</th><th>income</th><th>foodexp</th></tr><tr><th></th><th>Int64</th><th>Float64</th><th>Float64</th></tr></thead><tbody><p>235 rows × 3 columns</p><tr><th>1</th><td>1</td><td>420.158</td><td>255.839</td></tr><tr><th>2</th><td>2</td><td>541.412</td><td>310.959</td></tr><tr><th>3</th><td>3</td><td>901.157</td><td>485.68</td></tr><tr><th>4</th><td>4</td><td>639.08</td><td>402.997</td></tr><tr><th>5</th><td>5</td><td>750.876</td><td>495.561</td></tr><tr><th>6</th><td>6</td><td>945.799</td><td>633.798</td></tr><tr><th>7</th><td>7</td><td>829.398</td><td>630.757</td></tr><tr><th>8</th><td>8</td><td>979.165</td><td>700.441</td></tr><tr><th>9</th><td>9</td><td>1309.88</td><td>830.959</td></tr><tr><th>10</th><td>10</td><td>1492.4</td><td>815.36</td></tr><tr><th>11</th><td>11</td><td>502.839</td><td>338.001</td></tr><tr><th>12</th><td>12</td><td>616.717</td><td>412.361</td></tr><tr><th>13</th><td>13</td><td>790.923</td><td>520.001</td></tr><tr><th>14</th><td>14</td><td>555.879</td><td>452.401</td></tr><tr><th>15</th><td>15</td><td>713.441</td><td>512.72</td></tr><tr><th>16</th><td>16</td><td>838.756</td><td>658.84</td></tr><tr><th>17</th><td>17</td><td>535.077</td><td>392.599</td></tr><tr><th>18</th><td>18</td><td>596.441</td><td>443.559</td></tr><tr><th>19</th><td>19</td><td>924.562</td><td>640.116</td></tr><tr><th>20</th><td>20</td><td>487.758</td><td>333.839</td></tr><tr><th>21</th><td>21</td><td>692.64</td><td>466.958</td></tr><tr><th>22</th><td>22</td><td>997.877</td><td>543.397</td></tr><tr><th>23</th><td>23</td><td>506.999</td><td>317.72</td></tr><tr><th>24</th><td>24</td><td>654.159</td><td>424.321</td></tr><tr><th>25</th><td>25</td><td>933.919</td><td>518.962</td></tr><tr><th>26</th><td>26</td><td>433.681</td><td>338.001</td></tr><tr><th>27</th><td>27</td><td>587.596</td><td>419.641</td></tr><tr><th>28</th><td>28</td><td>896.475</td><td>476.32</td></tr><tr><th>29</th><td>29</td><td>454.478</td><td>386.36</td></tr><tr><th>30</th><td>30</td><td>584.999</td><td>423.278</td></tr><tr><th>&vellip;</th><td>&vellip;</td><td>&vellip;</td><td>&vellip;</td></tr></tbody></table>"
      ],
      "text/latex": [
       "\\begin{tabular}{r|ccc}\n",
       "\t& Column1 & income & foodexp\\\\\n",
       "\t\\hline\n",
       "\t& Int64 & Float64 & Float64\\\\\n",
       "\t\\hline\n",
       "\t1 & 1 & 420.158 & 255.839 \\\\\n",
       "\t2 & 2 & 541.412 & 310.959 \\\\\n",
       "\t3 & 3 & 901.157 & 485.68 \\\\\n",
       "\t4 & 4 & 639.08 & 402.997 \\\\\n",
       "\t5 & 5 & 750.876 & 495.561 \\\\\n",
       "\t6 & 6 & 945.799 & 633.798 \\\\\n",
       "\t7 & 7 & 829.398 & 630.757 \\\\\n",
       "\t8 & 8 & 979.165 & 700.441 \\\\\n",
       "\t9 & 9 & 1309.88 & 830.959 \\\\\n",
       "\t10 & 10 & 1492.4 & 815.36 \\\\\n",
       "\t11 & 11 & 502.839 & 338.001 \\\\\n",
       "\t12 & 12 & 616.717 & 412.361 \\\\\n",
       "\t13 & 13 & 790.923 & 520.001 \\\\\n",
       "\t14 & 14 & 555.879 & 452.401 \\\\\n",
       "\t15 & 15 & 713.441 & 512.72 \\\\\n",
       "\t16 & 16 & 838.756 & 658.84 \\\\\n",
       "\t17 & 17 & 535.077 & 392.599 \\\\\n",
       "\t18 & 18 & 596.441 & 443.559 \\\\\n",
       "\t19 & 19 & 924.562 & 640.116 \\\\\n",
       "\t20 & 20 & 487.758 & 333.839 \\\\\n",
       "\t21 & 21 & 692.64 & 466.958 \\\\\n",
       "\t22 & 22 & 997.877 & 543.397 \\\\\n",
       "\t23 & 23 & 506.999 & 317.72 \\\\\n",
       "\t24 & 24 & 654.159 & 424.321 \\\\\n",
       "\t25 & 25 & 933.919 & 518.962 \\\\\n",
       "\t26 & 26 & 433.681 & 338.001 \\\\\n",
       "\t27 & 27 & 587.596 & 419.641 \\\\\n",
       "\t28 & 28 & 896.475 & 476.32 \\\\\n",
       "\t29 & 29 & 454.478 & 386.36 \\\\\n",
       "\t30 & 30 & 584.999 & 423.278 \\\\\n",
       "\t$\\dots$ & $\\dots$ & $\\dots$ & $\\dots$ \\\\\n",
       "\\end{tabular}\n"
      ],
      "text/plain": [
       "\u001b[1m235×3 DataFrame\u001b[0m\n",
       "\u001b[1m Row \u001b[0m│\u001b[1m Column1 \u001b[0m\u001b[1m income   \u001b[0m\u001b[1m foodexp  \u001b[0m\n",
       "\u001b[1m     \u001b[0m│\u001b[90m Int64   \u001b[0m\u001b[90m Float64  \u001b[0m\u001b[90m Float64  \u001b[0m\n",
       "─────┼─────────────────────────────\n",
       "   1 │       1   420.158   255.839\n",
       "   2 │       2   541.412   310.959\n",
       "   3 │       3   901.157   485.68\n",
       "   4 │       4   639.08    402.997\n",
       "   5 │       5   750.876   495.561\n",
       "   6 │       6   945.799   633.798\n",
       "   7 │       7   829.398   630.757\n",
       "   8 │       8   979.165   700.441\n",
       "   9 │       9  1309.88    830.959\n",
       "  10 │      10  1492.4     815.36\n",
       "  11 │      11   502.839   338.001\n",
       "  ⋮  │    ⋮        ⋮         ⋮\n",
       " 226 │     226  1595.16   1138.16\n",
       " 227 │     227   776.596   485.52\n",
       " 228 │     228  1230.92    772.761\n",
       " 229 │     229  1807.95    993.963\n",
       " 230 │     230   415.441   305.439\n",
       " 231 │     231   440.517   306.519\n",
       " 232 │     232   541.201   299.199\n",
       " 233 │     233   581.36    468.001\n",
       " 234 │     234   743.077   522.602\n",
       " 235 │     235  1057.68    750.32\n",
       "\u001b[36m                   214 rows omitted\u001b[0m"
      ]
     },
     "execution_count": 3,
     "metadata": {},
     "output_type": "execute_result"
    }
   ],
   "source": [
    "df = DataFrame(CSV.File(\"../data/engel.csv\"))"
   ]
  },
  {
   "cell_type": "code",
   "execution_count": 4,
   "metadata": {
    "scrolled": true
   },
   "outputs": [
    {
     "data": {
      "text/plain": [
       "StatsModels.TableRegressionModel{QuantileRegressions.QRegModel,Array{Float64,2}}\n",
       "\n",
       "foodexp ~ 1 + income\n",
       "\n",
       "Coefficients:\n",
       "──────────────────────────────────────────────────────\n",
       "             Quantile   Estimate   Std.Error   t value\n",
       "──────────────────────────────────────────────────────\n",
       "(Intercept)       0.5  81.4822    14.6345      5.56783\n",
       "income            0.5   0.560181   0.0131756  42.5164\n",
       "──────────────────────────────────────────────────────"
      ]
     },
     "execution_count": 4,
     "metadata": {},
     "output_type": "execute_result"
    }
   ],
   "source": [
    "qreg(@formula(foodexp ~ income), df, .5)"
   ]
  },
  {
   "cell_type": "code",
   "execution_count": 5,
   "metadata": {},
   "outputs": [
    {
     "data": {
      "text/plain": [
       "20×2 Array{Float64,2}:\n",
       " 0.05  0.047619\n",
       " 0.1   0.0952381\n",
       " 0.15  0.142857\n",
       " 0.2   0.190476\n",
       " 0.25  0.238095\n",
       " 0.3   0.285714\n",
       " 0.35  0.333333\n",
       " 0.4   0.380952\n",
       " 0.45  0.428571\n",
       " 0.5   0.47619\n",
       " 0.55  0.52381\n",
       " 0.6   0.571429\n",
       " 0.65  0.619048\n",
       " 0.7   0.666667\n",
       " 0.75  0.714286\n",
       " 0.8   0.761905\n",
       " 0.85  0.809524\n",
       " 0.9   0.857143\n",
       " 0.95  0.904762\n",
       " 1.0   0.952381"
      ]
     },
     "execution_count": 5,
     "metadata": {},
     "output_type": "execute_result"
    }
   ],
   "source": [
    "QNum = 20\n",
    "[[i/(QNum) for i in 1:QNum] [i/(QNum+1) for i in 1:QNum]]"
   ]
  },
  {
   "cell_type": "code",
   "execution_count": 6,
   "metadata": {
    "scrolled": false
   },
   "outputs": [
    {
     "data": {
      "text/plain": [
       "20×2 Array{Float64,2}:\n",
       " 0.343361  0.037963\n",
       " 0.381742  0.0263034\n",
       " 0.424312  0.0208779\n",
       " 0.445529  0.0193425\n",
       " 0.47569   0.0173738\n",
       " 0.482792  0.0170315\n",
       " 0.485657  0.0160995\n",
       " 0.494322  0.0156188\n",
       " 0.535414  0.0146762\n",
       " 0.55081   0.0136386\n",
       " 0.555628  0.0129735\n",
       " 0.577254  0.0122063\n",
       " 0.586615  0.0116107\n",
       " 0.610325  0.0111631\n",
       " 0.62253   0.0110336\n",
       " 0.65408   0.0106947\n",
       " 0.658167  0.0100558\n",
       " 0.676209  0.0106107\n",
       " 0.694096  0.0135442\n",
       " 0.709356  0.0100666"
      ]
     },
     "execution_count": 6,
     "metadata": {},
     "output_type": "execute_result"
    }
   ],
   "source": [
    "coef_inc = [coeftable(qreg(@formula(foodexp ~ income), df, i/(QNum+1), IP())).cols[2][2] for i in 1:QNum];\n",
    "std_inc = [coeftable(qreg(@formula(foodexp ~ income), df, i/(QNum+1), IP())).cols[3][2] for i in 1:QNum];\n",
    "QuantilePlot = [coef_inc std_inc]"
   ]
  },
  {
   "cell_type": "code",
   "execution_count": 7,
   "metadata": {
    "scrolled": true
   },
   "outputs": [
    {
     "data": {
      "text/plain": [
       "StatsModels.TableRegressionModel{LinearModel{GLM.LmResp{Array{Float64,1}},GLM.DensePredChol{Float64,LinearAlgebra.CholeskyPivoted{Float64,Array{Float64,2}}}},Array{Float64,2}}\n",
       "\n",
       "foodexp ~ 1 + income\n",
       "\n",
       "Coefficients:\n",
       "────────────────────────────────────────────────────────────────────────────\n",
       "                  Coef.  Std. Error      t  Pr(>|t|)   Lower 95%   Upper 95%\n",
       "────────────────────────────────────────────────────────────────────────────\n",
       "(Intercept)  147.475     15.9571      9.24    <1e-16  116.037     178.914\n",
       "income         0.485178   0.0143664  33.77    <1e-91    0.456874    0.513483\n",
       "────────────────────────────────────────────────────────────────────────────"
      ]
     },
     "execution_count": 7,
     "metadata": {},
     "output_type": "execute_result"
    }
   ],
   "source": [
    "lm(@formula(foodexp ~ income), df)"
   ]
  },
  {
   "cell_type": "code",
   "execution_count": 8,
   "metadata": {},
   "outputs": [
    {
     "data": {
      "text/plain": [
       "20×2 Array{Float64,2}:\n",
       " 0.485178  0.0143664\n",
       " 0.485178  0.0143664\n",
       " 0.485178  0.0143664\n",
       " 0.485178  0.0143664\n",
       " 0.485178  0.0143664\n",
       " 0.485178  0.0143664\n",
       " 0.485178  0.0143664\n",
       " 0.485178  0.0143664\n",
       " 0.485178  0.0143664\n",
       " 0.485178  0.0143664\n",
       " 0.485178  0.0143664\n",
       " 0.485178  0.0143664\n",
       " 0.485178  0.0143664\n",
       " 0.485178  0.0143664\n",
       " 0.485178  0.0143664\n",
       " 0.485178  0.0143664\n",
       " 0.485178  0.0143664\n",
       " 0.485178  0.0143664\n",
       " 0.485178  0.0143664\n",
       " 0.485178  0.0143664"
      ]
     },
     "execution_count": 8,
     "metadata": {},
     "output_type": "execute_result"
    }
   ],
   "source": [
    "coef_inc = [coeftable(lm(@formula(foodexp ~ income), df)).cols[1][2] for i in 1:QNum];\n",
    "std_inc = [coeftable(lm(@formula(foodexp ~ income), df)).cols[2][2] for i in 1:QNum];\n",
    "OLSPlot = [coef_inc std_inc]"
   ]
  },
  {
   "cell_type": "code",
   "execution_count": 9,
   "metadata": {
    "scrolled": true
   },
   "outputs": [
    {
     "data": {
      "text/html": [
       "<table class=\"data-frame\"><thead><tr><th></th><th>Quantile</th><th>Beta</th><th>OLSPlot</th><th>Beta_min</th><th>Beta_max</th></tr><tr><th></th><th>Float64</th><th>Float64</th><th>Float64</th><th>Float64</th><th>Float64</th></tr></thead><tbody><p>20 rows × 5 columns</p><tr><th>1</th><td>0.047619</td><td>0.343361</td><td>0.485178</td><td>0.268954</td><td>0.417769</td></tr><tr><th>2</th><td>0.0952381</td><td>0.381742</td><td>0.485178</td><td>0.330187</td><td>0.433296</td></tr><tr><th>3</th><td>0.142857</td><td>0.424312</td><td>0.485178</td><td>0.383391</td><td>0.465232</td></tr><tr><th>4</th><td>0.190476</td><td>0.445529</td><td>0.485178</td><td>0.407618</td><td>0.48344</td></tr><tr><th>5</th><td>0.238095</td><td>0.47569</td><td>0.485178</td><td>0.441637</td><td>0.509742</td></tr><tr><th>6</th><td>0.285714</td><td>0.482792</td><td>0.485178</td><td>0.44941</td><td>0.516173</td></tr><tr><th>7</th><td>0.333333</td><td>0.485657</td><td>0.485178</td><td>0.454102</td><td>0.517212</td></tr><tr><th>8</th><td>0.380952</td><td>0.494322</td><td>0.485178</td><td>0.463709</td><td>0.524935</td></tr><tr><th>9</th><td>0.428571</td><td>0.535414</td><td>0.485178</td><td>0.506649</td><td>0.56418</td></tr><tr><th>10</th><td>0.47619</td><td>0.55081</td><td>0.485178</td><td>0.524079</td><td>0.577542</td></tr><tr><th>11</th><td>0.52381</td><td>0.555628</td><td>0.485178</td><td>0.5302</td><td>0.581056</td></tr><tr><th>12</th><td>0.571429</td><td>0.577254</td><td>0.485178</td><td>0.55333</td><td>0.601178</td></tr><tr><th>13</th><td>0.619048</td><td>0.586615</td><td>0.485178</td><td>0.563859</td><td>0.609372</td></tr><tr><th>14</th><td>0.666667</td><td>0.610325</td><td>0.485178</td><td>0.588446</td><td>0.632205</td></tr><tr><th>15</th><td>0.714286</td><td>0.62253</td><td>0.485178</td><td>0.600904</td><td>0.644156</td></tr><tr><th>16</th><td>0.761905</td><td>0.65408</td><td>0.485178</td><td>0.633118</td><td>0.675042</td></tr><tr><th>17</th><td>0.809524</td><td>0.658167</td><td>0.485178</td><td>0.638458</td><td>0.677877</td></tr><tr><th>18</th><td>0.857143</td><td>0.676209</td><td>0.485178</td><td>0.655412</td><td>0.697006</td></tr><tr><th>19</th><td>0.904762</td><td>0.694096</td><td>0.485178</td><td>0.66755</td><td>0.720643</td></tr><tr><th>20</th><td>0.952381</td><td>0.709356</td><td>0.485178</td><td>0.689625</td><td>0.729086</td></tr></tbody></table>"
      ],
      "text/latex": [
       "\\begin{tabular}{r|ccccc}\n",
       "\t& Quantile & Beta & OLSPlot & Beta\\_min & Beta\\_max\\\\\n",
       "\t\\hline\n",
       "\t& Float64 & Float64 & Float64 & Float64 & Float64\\\\\n",
       "\t\\hline\n",
       "\t1 & 0.047619 & 0.343361 & 0.485178 & 0.268954 & 0.417769 \\\\\n",
       "\t2 & 0.0952381 & 0.381742 & 0.485178 & 0.330187 & 0.433296 \\\\\n",
       "\t3 & 0.142857 & 0.424312 & 0.485178 & 0.383391 & 0.465232 \\\\\n",
       "\t4 & 0.190476 & 0.445529 & 0.485178 & 0.407618 & 0.48344 \\\\\n",
       "\t5 & 0.238095 & 0.47569 & 0.485178 & 0.441637 & 0.509742 \\\\\n",
       "\t6 & 0.285714 & 0.482792 & 0.485178 & 0.44941 & 0.516173 \\\\\n",
       "\t7 & 0.333333 & 0.485657 & 0.485178 & 0.454102 & 0.517212 \\\\\n",
       "\t8 & 0.380952 & 0.494322 & 0.485178 & 0.463709 & 0.524935 \\\\\n",
       "\t9 & 0.428571 & 0.535414 & 0.485178 & 0.506649 & 0.56418 \\\\\n",
       "\t10 & 0.47619 & 0.55081 & 0.485178 & 0.524079 & 0.577542 \\\\\n",
       "\t11 & 0.52381 & 0.555628 & 0.485178 & 0.5302 & 0.581056 \\\\\n",
       "\t12 & 0.571429 & 0.577254 & 0.485178 & 0.55333 & 0.601178 \\\\\n",
       "\t13 & 0.619048 & 0.586615 & 0.485178 & 0.563859 & 0.609372 \\\\\n",
       "\t14 & 0.666667 & 0.610325 & 0.485178 & 0.588446 & 0.632205 \\\\\n",
       "\t15 & 0.714286 & 0.62253 & 0.485178 & 0.600904 & 0.644156 \\\\\n",
       "\t16 & 0.761905 & 0.65408 & 0.485178 & 0.633118 & 0.675042 \\\\\n",
       "\t17 & 0.809524 & 0.658167 & 0.485178 & 0.638458 & 0.677877 \\\\\n",
       "\t18 & 0.857143 & 0.676209 & 0.485178 & 0.655412 & 0.697006 \\\\\n",
       "\t19 & 0.904762 & 0.694096 & 0.485178 & 0.66755 & 0.720643 \\\\\n",
       "\t20 & 0.952381 & 0.709356 & 0.485178 & 0.689625 & 0.729086 \\\\\n",
       "\\end{tabular}\n"
      ],
      "text/plain": [
       "\u001b[1m20×5 DataFrame\u001b[0m\n",
       "\u001b[1m Row \u001b[0m│\u001b[1m Quantile  \u001b[0m\u001b[1m Beta     \u001b[0m\u001b[1m OLSPlot  \u001b[0m\u001b[1m Beta_min \u001b[0m\u001b[1m Beta_max \u001b[0m\n",
       "\u001b[1m     \u001b[0m│\u001b[90m Float64   \u001b[0m\u001b[90m Float64  \u001b[0m\u001b[90m Float64  \u001b[0m\u001b[90m Float64  \u001b[0m\u001b[90m Float64  \u001b[0m\n",
       "─────┼───────────────────────────────────────────────────\n",
       "   1 │ 0.047619   0.343361  0.485178  0.268954  0.417769\n",
       "   2 │ 0.0952381  0.381742  0.485178  0.330187  0.433296\n",
       "   3 │ 0.142857   0.424312  0.485178  0.383391  0.465232\n",
       "   4 │ 0.190476   0.445529  0.485178  0.407618  0.48344\n",
       "   5 │ 0.238095   0.47569   0.485178  0.441637  0.509742\n",
       "   6 │ 0.285714   0.482792  0.485178  0.44941   0.516173\n",
       "   7 │ 0.333333   0.485657  0.485178  0.454102  0.517212\n",
       "   8 │ 0.380952   0.494322  0.485178  0.463709  0.524935\n",
       "   9 │ 0.428571   0.535414  0.485178  0.506649  0.56418\n",
       "  10 │ 0.47619    0.55081   0.485178  0.524079  0.577542\n",
       "  11 │ 0.52381    0.555628  0.485178  0.5302    0.581056\n",
       "  12 │ 0.571429   0.577254  0.485178  0.55333   0.601178\n",
       "  13 │ 0.619048   0.586615  0.485178  0.563859  0.609372\n",
       "  14 │ 0.666667   0.610325  0.485178  0.588446  0.632205\n",
       "  15 │ 0.714286   0.62253   0.485178  0.600904  0.644156\n",
       "  16 │ 0.761905   0.65408   0.485178  0.633118  0.675042\n",
       "  17 │ 0.809524   0.658167  0.485178  0.638458  0.677877\n",
       "  18 │ 0.857143   0.676209  0.485178  0.655412  0.697006\n",
       "  19 │ 0.904762   0.694096  0.485178  0.66755   0.720643\n",
       "  20 │ 0.952381   0.709356  0.485178  0.689625  0.729086"
      ]
     },
     "execution_count": 9,
     "metadata": {},
     "output_type": "execute_result"
    }
   ],
   "source": [
    "PlotDF = DataFrame(\n",
    "    Quantile = range(1, length=QNum, stop=QNum)/(QNum+1),\n",
    "    Beta = QuantilePlot[:,1],\n",
    "    OLSPlot = OLSPlot[:,1],\n",
    "    Beta_min = QuantilePlot[:,1] - 1.96 * QuantilePlot[:,2],\n",
    "    Beta_max = QuantilePlot[:,1] + 1.96 * QuantilePlot[:,2])"
   ]
  },
  {
   "cell_type": "code",
   "execution_count": 10,
   "metadata": {},
   "outputs": [
    {
     "data": {
      "image/svg+xml": [
       "<?xml version=\"1.0\" encoding=\"utf-8\"?>\n",
       "<svg xmlns=\"http://www.w3.org/2000/svg\" xmlns:xlink=\"http://www.w3.org/1999/xlink\" width=\"600\" height=\"400\" viewBox=\"0 0 2400 1600\">\n",
       "<defs>\n",
       "  <clipPath id=\"clip210\">\n",
       "    <rect x=\"0\" y=\"0\" width=\"2400\" height=\"1600\"/>\n",
       "  </clipPath>\n",
       "</defs>\n",
       "<path clip-path=\"url(#clip210)\" d=\"\n",
       "M0 1600 L2400 1600 L2400 0 L0 0  Z\n",
       "  \" fill=\"#ffffff\" fill-rule=\"evenodd\" fill-opacity=\"1\"/>\n",
       "<defs>\n",
       "  <clipPath id=\"clip211\">\n",
       "    <rect x=\"480\" y=\"0\" width=\"1681\" height=\"1600\"/>\n",
       "  </clipPath>\n",
       "</defs>\n",
       "<path clip-path=\"url(#clip210)\" d=\"\n",
       "M148.334 1486.45 L2352.76 1486.45 L2352.76 47.2441 L148.334 47.2441  Z\n",
       "  \" fill=\"#ffffff\" fill-rule=\"evenodd\" fill-opacity=\"1\"/>\n",
       "<defs>\n",
       "  <clipPath id=\"clip212\">\n",
       "    <rect x=\"148\" y=\"47\" width=\"2205\" height=\"1440\"/>\n",
       "  </clipPath>\n",
       "</defs>\n",
       "<polyline clip-path=\"url(#clip212)\" style=\"stroke:#000000; stroke-width:2; stroke-opacity:0.1; fill:none\" points=\"\n",
       "  560.979,1486.45 560.979,47.2441 \n",
       "  \"/>\n",
       "<polyline clip-path=\"url(#clip212)\" style=\"stroke:#000000; stroke-width:2; stroke-opacity:0.1; fill:none\" points=\"\n",
       "  1020.69,1486.45 1020.69,47.2441 \n",
       "  \"/>\n",
       "<polyline clip-path=\"url(#clip212)\" style=\"stroke:#000000; stroke-width:2; stroke-opacity:0.1; fill:none\" points=\"\n",
       "  1480.4,1486.45 1480.4,47.2441 \n",
       "  \"/>\n",
       "<polyline clip-path=\"url(#clip212)\" style=\"stroke:#000000; stroke-width:2; stroke-opacity:0.1; fill:none\" points=\"\n",
       "  1940.11,1486.45 1940.11,47.2441 \n",
       "  \"/>\n",
       "<polyline clip-path=\"url(#clip210)\" style=\"stroke:#000000; stroke-width:4; stroke-opacity:1; fill:none\" points=\"\n",
       "  148.334,1486.45 2352.76,1486.45 \n",
       "  \"/>\n",
       "<polyline clip-path=\"url(#clip210)\" style=\"stroke:#000000; stroke-width:4; stroke-opacity:1; fill:none\" points=\"\n",
       "  560.979,1486.45 560.979,1469.18 \n",
       "  \"/>\n",
       "<polyline clip-path=\"url(#clip210)\" style=\"stroke:#000000; stroke-width:4; stroke-opacity:1; fill:none\" points=\"\n",
       "  1020.69,1486.45 1020.69,1469.18 \n",
       "  \"/>\n",
       "<polyline clip-path=\"url(#clip210)\" style=\"stroke:#000000; stroke-width:4; stroke-opacity:1; fill:none\" points=\"\n",
       "  1480.4,1486.45 1480.4,1469.18 \n",
       "  \"/>\n",
       "<polyline clip-path=\"url(#clip210)\" style=\"stroke:#000000; stroke-width:4; stroke-opacity:1; fill:none\" points=\"\n",
       "  1940.11,1486.45 1940.11,1469.18 \n",
       "  \"/>\n",
       "<path clip-path=\"url(#clip210)\" d=\"M 0 0 M543.294 1515.64 Q539.683 1515.64 537.854 1519.2 Q536.049 1522.75 536.049 1529.87 Q536.049 1536.98 537.854 1540.55 Q539.683 1544.09 543.294 1544.09 Q546.928 1544.09 548.734 1540.55 Q550.563 1536.98 550.563 1529.87 Q550.563 1522.75 548.734 1519.2 Q546.928 1515.64 543.294 1515.64 M543.294 1511.93 Q549.104 1511.93 552.16 1516.54 Q555.239 1521.12 555.239 1529.87 Q555.239 1538.6 552.16 1543.21 Q549.104 1547.79 543.294 1547.79 Q537.484 1547.79 534.405 1543.21 Q531.35 1538.6 531.35 1529.87 Q531.35 1521.12 534.405 1516.54 Q537.484 1511.93 543.294 1511.93 Z\" fill=\"#000000\" fill-rule=\"evenodd\" fill-opacity=\"1\" /><path clip-path=\"url(#clip210)\" d=\"M 0 0 M560.308 1541.24 L565.192 1541.24 L565.192 1547.12 L560.308 1547.12 L560.308 1541.24 Z\" fill=\"#000000\" fill-rule=\"evenodd\" fill-opacity=\"1\" /><path clip-path=\"url(#clip210)\" d=\"M 0 0 M574.289 1543.18 L590.609 1543.18 L590.609 1547.12 L568.664 1547.12 L568.664 1543.18 Q571.326 1540.43 575.91 1535.8 Q580.516 1531.15 581.697 1529.81 Q583.942 1527.28 584.822 1525.55 Q585.725 1523.79 585.725 1522.1 Q585.725 1519.34 583.78 1517.61 Q581.859 1515.87 578.757 1515.87 Q576.558 1515.87 574.104 1516.63 Q571.674 1517.4 568.896 1518.95 L568.896 1514.23 Q571.72 1513.09 574.174 1512.51 Q576.627 1511.93 578.664 1511.93 Q584.035 1511.93 587.229 1514.62 Q590.424 1517.31 590.424 1521.8 Q590.424 1523.93 589.613 1525.85 Q588.826 1527.74 586.72 1530.34 Q586.141 1531.01 583.039 1534.23 Q579.938 1537.42 574.289 1543.18 Z\" fill=\"#000000\" fill-rule=\"evenodd\" fill-opacity=\"1\" /><path clip-path=\"url(#clip210)\" d=\"M 0 0 M1001.96 1515.64 Q998.352 1515.64 996.523 1519.2 Q994.718 1522.75 994.718 1529.87 Q994.718 1536.98 996.523 1540.55 Q998.352 1544.09 1001.96 1544.09 Q1005.6 1544.09 1007.4 1540.55 Q1009.23 1536.98 1009.23 1529.87 Q1009.23 1522.75 1007.4 1519.2 Q1005.6 1515.64 1001.96 1515.64 M1001.96 1511.93 Q1007.77 1511.93 1010.83 1516.54 Q1013.91 1521.12 1013.91 1529.87 Q1013.91 1538.6 1010.83 1543.21 Q1007.77 1547.79 1001.96 1547.79 Q996.153 1547.79 993.074 1543.21 Q990.019 1538.6 990.019 1529.87 Q990.019 1521.12 993.074 1516.54 Q996.153 1511.93 1001.96 1511.93 Z\" fill=\"#000000\" fill-rule=\"evenodd\" fill-opacity=\"1\" /><path clip-path=\"url(#clip210)\" d=\"M 0 0 M1018.98 1541.24 L1023.86 1541.24 L1023.86 1547.12 L1018.98 1547.12 L1018.98 1541.24 Z\" fill=\"#000000\" fill-rule=\"evenodd\" fill-opacity=\"1\" /><path clip-path=\"url(#clip210)\" d=\"M 0 0 M1041.78 1516.63 L1029.97 1535.08 L1041.78 1535.08 L1041.78 1516.63 M1040.55 1512.56 L1046.43 1512.56 L1046.43 1535.08 L1051.36 1535.08 L1051.36 1538.97 L1046.43 1538.97 L1046.43 1547.12 L1041.78 1547.12 L1041.78 1538.97 L1026.18 1538.97 L1026.18 1534.46 L1040.55 1512.56 Z\" fill=\"#000000\" fill-rule=\"evenodd\" fill-opacity=\"1\" /><path clip-path=\"url(#clip210)\" d=\"M 0 0 M1461.84 1515.64 Q1458.22 1515.64 1456.4 1519.2 Q1454.59 1522.75 1454.59 1529.87 Q1454.59 1536.98 1456.4 1540.55 Q1458.22 1544.09 1461.84 1544.09 Q1465.47 1544.09 1467.28 1540.55 Q1469.1 1536.98 1469.1 1529.87 Q1469.1 1522.75 1467.28 1519.2 Q1465.47 1515.64 1461.84 1515.64 M1461.84 1511.93 Q1467.65 1511.93 1470.7 1516.54 Q1473.78 1521.12 1473.78 1529.87 Q1473.78 1538.6 1470.7 1543.21 Q1467.65 1547.79 1461.84 1547.79 Q1456.03 1547.79 1452.95 1543.21 Q1449.89 1538.6 1449.89 1529.87 Q1449.89 1521.12 1452.95 1516.54 Q1456.03 1511.93 1461.84 1511.93 Z\" fill=\"#000000\" fill-rule=\"evenodd\" fill-opacity=\"1\" /><path clip-path=\"url(#clip210)\" d=\"M 0 0 M1478.85 1541.24 L1483.73 1541.24 L1483.73 1547.12 L1478.85 1547.12 L1478.85 1541.24 Z\" fill=\"#000000\" fill-rule=\"evenodd\" fill-opacity=\"1\" /><path clip-path=\"url(#clip210)\" d=\"M 0 0 M1499.38 1527.98 Q1496.23 1527.98 1494.38 1530.13 Q1492.55 1532.28 1492.55 1536.03 Q1492.55 1539.76 1494.38 1541.93 Q1496.23 1544.09 1499.38 1544.09 Q1502.53 1544.09 1504.36 1541.93 Q1506.21 1539.76 1506.21 1536.03 Q1506.21 1532.28 1504.36 1530.13 Q1502.53 1527.98 1499.38 1527.98 M1508.66 1513.32 L1508.66 1517.58 Q1506.9 1516.75 1505.1 1516.31 Q1503.32 1515.87 1501.56 1515.87 Q1496.93 1515.87 1494.47 1519 Q1492.04 1522.12 1491.7 1528.44 Q1493.06 1526.43 1495.12 1525.36 Q1497.18 1524.27 1499.66 1524.27 Q1504.87 1524.27 1507.88 1527.44 Q1510.91 1530.59 1510.91 1536.03 Q1510.91 1541.36 1507.76 1544.57 Q1504.61 1547.79 1499.38 1547.79 Q1493.39 1547.79 1490.22 1543.21 Q1487.04 1538.6 1487.04 1529.87 Q1487.04 1521.68 1490.93 1516.82 Q1494.82 1511.93 1501.37 1511.93 Q1503.13 1511.93 1504.91 1512.28 Q1506.72 1512.63 1508.66 1513.32 Z\" fill=\"#000000\" fill-rule=\"evenodd\" fill-opacity=\"1\" /><path clip-path=\"url(#clip210)\" d=\"M 0 0 M1921.67 1515.64 Q1918.06 1515.64 1916.23 1519.2 Q1914.43 1522.75 1914.43 1529.87 Q1914.43 1536.98 1916.23 1540.55 Q1918.06 1544.09 1921.67 1544.09 Q1925.31 1544.09 1927.11 1540.55 Q1928.94 1536.98 1928.94 1529.87 Q1928.94 1522.75 1927.11 1519.2 Q1925.31 1515.64 1921.67 1515.64 M1921.67 1511.93 Q1927.48 1511.93 1930.54 1516.54 Q1933.62 1521.12 1933.62 1529.87 Q1933.62 1538.6 1930.54 1543.21 Q1927.48 1547.79 1921.67 1547.79 Q1915.86 1547.79 1912.78 1543.21 Q1909.73 1538.6 1909.73 1529.87 Q1909.73 1521.12 1912.78 1516.54 Q1915.86 1511.93 1921.67 1511.93 Z\" fill=\"#000000\" fill-rule=\"evenodd\" fill-opacity=\"1\" /><path clip-path=\"url(#clip210)\" d=\"M 0 0 M1938.69 1541.24 L1943.57 1541.24 L1943.57 1547.12 L1938.69 1547.12 L1938.69 1541.24 Z\" fill=\"#000000\" fill-rule=\"evenodd\" fill-opacity=\"1\" /><path clip-path=\"url(#clip210)\" d=\"M 0 0 M1958.64 1530.71 Q1955.31 1530.71 1953.39 1532.49 Q1951.49 1534.27 1951.49 1537.4 Q1951.49 1540.52 1953.39 1542.31 Q1955.31 1544.09 1958.64 1544.09 Q1961.97 1544.09 1963.9 1542.31 Q1965.82 1540.5 1965.82 1537.4 Q1965.82 1534.27 1963.9 1532.49 Q1962 1530.71 1958.64 1530.71 M1953.97 1528.72 Q1950.96 1527.98 1949.27 1525.92 Q1947.6 1523.86 1947.6 1520.89 Q1947.6 1516.75 1950.54 1514.34 Q1953.5 1511.93 1958.64 1511.93 Q1963.8 1511.93 1966.74 1514.34 Q1969.68 1516.75 1969.68 1520.89 Q1969.68 1523.86 1967.99 1525.92 Q1966.33 1527.98 1963.34 1528.72 Q1966.72 1529.5 1968.59 1531.8 Q1970.49 1534.09 1970.49 1537.4 Q1970.49 1542.42 1967.41 1545.11 Q1964.36 1547.79 1958.64 1547.79 Q1952.92 1547.79 1949.84 1545.11 Q1946.79 1542.42 1946.79 1537.4 Q1946.79 1534.09 1948.69 1531.8 Q1950.59 1529.5 1953.97 1528.72 M1952.25 1521.33 Q1952.25 1524.02 1953.92 1525.52 Q1955.61 1527.03 1958.64 1527.03 Q1961.65 1527.03 1963.34 1525.52 Q1965.05 1524.02 1965.05 1521.33 Q1965.05 1518.65 1963.34 1517.14 Q1961.65 1515.64 1958.64 1515.64 Q1955.61 1515.64 1953.92 1517.14 Q1952.25 1518.65 1952.25 1521.33 Z\" fill=\"#000000\" fill-rule=\"evenodd\" fill-opacity=\"1\" /><polyline clip-path=\"url(#clip212)\" style=\"stroke:#000000; stroke-width:2; stroke-opacity:0.1; fill:none\" points=\"\n",
       "  148.334,1354.11 2352.76,1354.11 \n",
       "  \"/>\n",
       "<polyline clip-path=\"url(#clip212)\" style=\"stroke:#000000; stroke-width:2; stroke-opacity:0.1; fill:none\" points=\"\n",
       "  148.334,1059.03 2352.76,1059.03 \n",
       "  \"/>\n",
       "<polyline clip-path=\"url(#clip212)\" style=\"stroke:#000000; stroke-width:2; stroke-opacity:0.1; fill:none\" points=\"\n",
       "  148.334,763.954 2352.76,763.954 \n",
       "  \"/>\n",
       "<polyline clip-path=\"url(#clip212)\" style=\"stroke:#000000; stroke-width:2; stroke-opacity:0.1; fill:none\" points=\"\n",
       "  148.334,468.878 2352.76,468.878 \n",
       "  \"/>\n",
       "<polyline clip-path=\"url(#clip212)\" style=\"stroke:#000000; stroke-width:2; stroke-opacity:0.1; fill:none\" points=\"\n",
       "  148.334,173.802 2352.76,173.802 \n",
       "  \"/>\n",
       "<polyline clip-path=\"url(#clip210)\" style=\"stroke:#000000; stroke-width:4; stroke-opacity:1; fill:none\" points=\"\n",
       "  148.334,1486.45 148.334,47.2441 \n",
       "  \"/>\n",
       "<polyline clip-path=\"url(#clip210)\" style=\"stroke:#000000; stroke-width:4; stroke-opacity:1; fill:none\" points=\"\n",
       "  148.334,1354.11 174.787,1354.11 \n",
       "  \"/>\n",
       "<polyline clip-path=\"url(#clip210)\" style=\"stroke:#000000; stroke-width:4; stroke-opacity:1; fill:none\" points=\"\n",
       "  148.334,1059.03 174.787,1059.03 \n",
       "  \"/>\n",
       "<polyline clip-path=\"url(#clip210)\" style=\"stroke:#000000; stroke-width:4; stroke-opacity:1; fill:none\" points=\"\n",
       "  148.334,763.954 174.787,763.954 \n",
       "  \"/>\n",
       "<polyline clip-path=\"url(#clip210)\" style=\"stroke:#000000; stroke-width:4; stroke-opacity:1; fill:none\" points=\"\n",
       "  148.334,468.878 174.787,468.878 \n",
       "  \"/>\n",
       "<polyline clip-path=\"url(#clip210)\" style=\"stroke:#000000; stroke-width:4; stroke-opacity:1; fill:none\" points=\"\n",
       "  148.334,173.802 174.787,173.802 \n",
       "  \"/>\n",
       "<path clip-path=\"url(#clip210)\" d=\"M 0 0 M64.0708 1339.9 Q60.4597 1339.9 58.631 1343.47 Q56.8254 1347.01 56.8254 1354.14 Q56.8254 1361.25 58.631 1364.81 Q60.4597 1368.35 64.0708 1368.35 Q67.705 1368.35 69.5105 1364.81 Q71.3392 1361.25 71.3392 1354.14 Q71.3392 1347.01 69.5105 1343.47 Q67.705 1339.9 64.0708 1339.9 M64.0708 1336.2 Q69.8809 1336.2 72.9365 1340.81 Q76.0151 1345.39 76.0151 1354.14 Q76.0151 1362.87 72.9365 1367.47 Q69.8809 1372.06 64.0708 1372.06 Q58.2606 1372.06 55.1819 1367.47 Q52.1264 1362.87 52.1264 1354.14 Q52.1264 1345.39 55.1819 1340.81 Q58.2606 1336.2 64.0708 1336.2 Z\" fill=\"#000000\" fill-rule=\"evenodd\" fill-opacity=\"1\" /><path clip-path=\"url(#clip210)\" d=\"M 0 0 M81.0846 1365.51 L85.9688 1365.51 L85.9688 1371.39 L81.0846 1371.39 L81.0846 1365.51 Z\" fill=\"#000000\" fill-rule=\"evenodd\" fill-opacity=\"1\" /><path clip-path=\"url(#clip210)\" d=\"M 0 0 M105.205 1352.75 Q108.561 1353.47 110.436 1355.74 Q112.334 1358.01 112.334 1361.34 Q112.334 1366.45 108.816 1369.26 Q105.297 1372.06 98.8159 1372.06 Q96.64 1372.06 94.3252 1371.62 Q92.0336 1371.2 89.5799 1370.34 L89.5799 1365.83 Q91.5243 1366.96 93.8391 1367.54 Q96.1539 1368.12 98.6771 1368.12 Q103.075 1368.12 105.367 1366.39 Q107.682 1364.65 107.682 1361.34 Q107.682 1358.28 105.529 1356.57 Q103.399 1354.83 99.5798 1354.83 L95.5521 1354.83 L95.5521 1350.99 L99.765 1350.99 Q103.214 1350.99 105.043 1349.63 Q106.871 1348.24 106.871 1345.64 Q106.871 1342.98 104.973 1341.57 Q103.098 1340.14 99.5798 1340.14 Q97.6585 1340.14 95.4595 1340.55 Q93.2604 1340.97 90.6215 1341.85 L90.6215 1337.68 Q93.2836 1336.94 95.5984 1336.57 Q97.9363 1336.2 99.9965 1336.2 Q105.321 1336.2 108.422 1338.63 Q111.524 1341.04 111.524 1345.16 Q111.524 1348.03 109.881 1350.02 Q108.237 1351.99 105.205 1352.75 Z\" fill=\"#000000\" fill-rule=\"evenodd\" fill-opacity=\"1\" /><path clip-path=\"url(#clip210)\" d=\"M 0 0 M62.9365 1044.83 Q59.3254 1044.83 57.4967 1048.39 Q55.6912 1051.93 55.6912 1059.06 Q55.6912 1066.17 57.4967 1069.74 Q59.3254 1073.28 62.9365 1073.28 Q66.5707 1073.28 68.3763 1069.74 Q70.205 1066.17 70.205 1059.06 Q70.205 1051.93 68.3763 1048.39 Q66.5707 1044.83 62.9365 1044.83 M62.9365 1041.12 Q68.7467 1041.12 71.8022 1045.73 Q74.8809 1050.31 74.8809 1059.06 Q74.8809 1067.79 71.8022 1072.4 Q68.7467 1076.98 62.9365 1076.98 Q57.1264 1076.98 54.0477 1072.4 Q50.9921 1067.79 50.9921 1059.06 Q50.9921 1050.31 54.0477 1045.73 Q57.1264 1041.12 62.9365 1041.12 Z\" fill=\"#000000\" fill-rule=\"evenodd\" fill-opacity=\"1\" /><path clip-path=\"url(#clip210)\" d=\"M 0 0 M79.9503 1070.43 L84.8345 1070.43 L84.8345 1076.31 L79.9503 1076.31 L79.9503 1070.43 Z\" fill=\"#000000\" fill-rule=\"evenodd\" fill-opacity=\"1\" /><path clip-path=\"url(#clip210)\" d=\"M 0 0 M102.751 1045.82 L90.9456 1064.27 L102.751 1064.27 L102.751 1045.82 M101.524 1041.75 L107.404 1041.75 L107.404 1064.27 L112.334 1064.27 L112.334 1068.16 L107.404 1068.16 L107.404 1076.31 L102.751 1076.31 L102.751 1068.16 L87.1493 1068.16 L87.1493 1063.65 L101.524 1041.75 Z\" fill=\"#000000\" fill-rule=\"evenodd\" fill-opacity=\"1\" /><path clip-path=\"url(#clip210)\" d=\"M 0 0 M64.418 749.752 Q60.8069 749.752 58.9782 753.317 Q57.1726 756.859 57.1726 763.988 Q57.1726 771.095 58.9782 774.66 Q60.8069 778.201 64.418 778.201 Q68.0522 778.201 69.8578 774.66 Q71.6865 771.095 71.6865 763.988 Q71.6865 756.859 69.8578 753.317 Q68.0522 749.752 64.418 749.752 M64.418 746.049 Q70.2281 746.049 73.2837 750.655 Q76.3624 755.239 76.3624 763.988 Q76.3624 772.715 73.2837 777.322 Q70.2281 781.905 64.418 781.905 Q58.6078 781.905 55.5291 777.322 Q52.4736 772.715 52.4736 763.988 Q52.4736 755.239 55.5291 750.655 Q58.6078 746.049 64.418 746.049 Z\" fill=\"#000000\" fill-rule=\"evenodd\" fill-opacity=\"1\" /><path clip-path=\"url(#clip210)\" d=\"M 0 0 M81.4318 775.354 L86.316 775.354 L86.316 781.234 L81.4318 781.234 L81.4318 775.354 Z\" fill=\"#000000\" fill-rule=\"evenodd\" fill-opacity=\"1\" /><path clip-path=\"url(#clip210)\" d=\"M 0 0 M91.4317 746.674 L109.788 746.674 L109.788 750.609 L95.7141 750.609 L95.7141 759.081 Q96.7326 758.734 97.7511 758.572 Q98.7696 758.387 99.7882 758.387 Q105.575 758.387 108.955 761.558 Q112.334 764.729 112.334 770.146 Q112.334 775.725 108.862 778.826 Q105.39 781.905 99.0706 781.905 Q96.8947 781.905 94.6262 781.535 Q92.3808 781.164 89.9734 780.424 L89.9734 775.725 Q92.0567 776.859 94.2789 777.414 Q96.5011 777.97 98.978 777.97 Q102.983 777.97 105.321 775.863 Q107.658 773.757 107.658 770.146 Q107.658 766.535 105.321 764.428 Q102.983 762.322 98.978 762.322 Q97.103 762.322 95.228 762.738 Q93.3762 763.155 91.4317 764.035 L91.4317 746.674 Z\" fill=\"#000000\" fill-rule=\"evenodd\" fill-opacity=\"1\" /><path clip-path=\"url(#clip210)\" d=\"M 0 0 M63.2606 454.677 Q59.6495 454.677 57.8208 458.242 Q56.0152 461.783 56.0152 468.913 Q56.0152 476.019 57.8208 479.584 Q59.6495 483.126 63.2606 483.126 Q66.8948 483.126 68.7004 479.584 Q70.5291 476.019 70.5291 468.913 Q70.5291 461.783 68.7004 458.242 Q66.8948 454.677 63.2606 454.677 M63.2606 450.973 Q69.0707 450.973 72.1263 455.579 Q75.205 460.163 75.205 468.913 Q75.205 477.64 72.1263 482.246 Q69.0707 486.829 63.2606 486.829 Q57.4504 486.829 54.3717 482.246 Q51.3162 477.64 51.3162 468.913 Q51.3162 460.163 54.3717 455.579 Q57.4504 450.973 63.2606 450.973 Z\" fill=\"#000000\" fill-rule=\"evenodd\" fill-opacity=\"1\" /><path clip-path=\"url(#clip210)\" d=\"M 0 0 M80.2744 480.278 L85.1586 480.278 L85.1586 486.158 L80.2744 486.158 L80.2744 480.278 Z\" fill=\"#000000\" fill-rule=\"evenodd\" fill-opacity=\"1\" /><path clip-path=\"url(#clip210)\" d=\"M 0 0 M100.807 467.015 Q97.6585 467.015 95.8067 469.167 Q93.978 471.32 93.978 475.07 Q93.978 478.797 95.8067 480.973 Q97.6585 483.126 100.807 483.126 Q103.955 483.126 105.783 480.973 Q107.635 478.797 107.635 475.07 Q107.635 471.32 105.783 469.167 Q103.955 467.015 100.807 467.015 M110.089 452.362 L110.089 456.621 Q108.33 455.788 106.524 455.348 Q104.742 454.908 102.983 454.908 Q98.353 454.908 95.8993 458.033 Q93.4688 461.158 93.1215 467.478 Q94.4873 465.464 96.5474 464.399 Q98.6076 463.311 101.084 463.311 Q106.293 463.311 109.302 466.482 Q112.334 469.63 112.334 475.07 Q112.334 480.394 109.186 483.612 Q106.038 486.829 100.807 486.829 Q94.8113 486.829 91.6401 482.246 Q88.4688 477.64 88.4688 468.913 Q88.4688 460.718 92.3576 455.857 Q96.2465 450.973 102.797 450.973 Q104.557 450.973 106.339 451.32 Q108.145 451.667 110.089 452.362 Z\" fill=\"#000000\" fill-rule=\"evenodd\" fill-opacity=\"1\" /><path clip-path=\"url(#clip210)\" d=\"M 0 0 M64.3254 159.601 Q60.7143 159.601 58.8856 163.166 Q57.0801 166.707 57.0801 173.837 Q57.0801 180.943 58.8856 184.508 Q60.7143 188.05 64.3254 188.05 Q67.9596 188.05 69.7652 184.508 Q71.5939 180.943 71.5939 173.837 Q71.5939 166.707 69.7652 163.166 Q67.9596 159.601 64.3254 159.601 M64.3254 155.897 Q70.1355 155.897 73.1911 160.504 Q76.2698 165.087 76.2698 173.837 Q76.2698 182.564 73.1911 187.17 Q70.1355 191.754 64.3254 191.754 Q58.5152 191.754 55.4365 187.17 Q52.381 182.564 52.381 173.837 Q52.381 165.087 55.4365 160.504 Q58.5152 155.897 64.3254 155.897 Z\" fill=\"#000000\" fill-rule=\"evenodd\" fill-opacity=\"1\" /><path clip-path=\"url(#clip210)\" d=\"M 0 0 M81.3392 185.203 L86.2234 185.203 L86.2234 191.082 L81.3392 191.082 L81.3392 185.203 Z\" fill=\"#000000\" fill-rule=\"evenodd\" fill-opacity=\"1\" /><path clip-path=\"url(#clip210)\" d=\"M 0 0 M90.1123 156.522 L112.334 156.522 L112.334 158.513 L99.7882 191.082 L94.9039 191.082 L106.709 160.457 L90.1123 160.457 L90.1123 156.522 Z\" fill=\"#000000\" fill-rule=\"evenodd\" fill-opacity=\"1\" /><polyline clip-path=\"url(#clip212)\" style=\"stroke:#009af9; stroke-width:4; stroke-opacity:1; fill:none\" points=\"\n",
       "  210.724,1226.16 320.179,1112.91 429.633,987.291 539.088,924.684 648.543,835.688 757.998,814.731 867.453,806.277 976.908,780.709 1086.36,659.455 1195.82,614.025 \n",
       "  1305.27,599.808 1414.73,535.996 1524.18,508.373 1633.64,438.411 1743.09,402.397 1852.55,309.301 1962,297.24 2071.46,244.003 2180.91,191.223 2290.37,146.196 \n",
       "  \n",
       "  \"/>\n",
       "<polyline clip-path=\"url(#clip212)\" style=\"stroke:#e26f46; stroke-width:4; stroke-opacity:1; fill:none\" points=\"\n",
       "  210.724,1445.72 320.179,1265.03 429.633,1108.04 539.088,1036.55 648.543,936.169 757.998,913.233 867.453,899.388 976.908,871.039 1086.36,744.335 1195.82,692.904 \n",
       "  1305.27,674.84 1414.73,606.591 1524.18,575.523 1633.64,502.972 1743.09,466.21 1852.55,371.153 1962,355.397 2071.46,305.37 2180.91,269.556 2290.37,204.416 \n",
       "  \n",
       "  \"/>\n",
       "<polyline clip-path=\"url(#clip212)\" style=\"stroke:#3da44d; stroke-width:4; stroke-opacity:1; fill:none\" points=\"\n",
       "  210.724,1006.6 320.179,960.78 429.633,866.544 539.088,812.817 648.543,735.207 757.998,716.23 867.453,713.166 976.908,690.378 1086.36,574.576 1195.82,535.147 \n",
       "  1305.27,524.776 1414.73,465.402 1524.18,441.222 1633.64,373.849 1743.09,338.585 1852.55,247.448 1962,239.082 2071.46,182.637 2180.91,112.89 2290.37,87.9763 \n",
       "  \n",
       "  \"/>\n",
       "<polyline clip-path=\"url(#clip212)\" style=\"stroke:#c271d2; stroke-width:4; stroke-opacity:1; fill:none\" points=\"\n",
       "  210.724,807.689 320.179,807.689 429.633,807.689 539.088,807.689 648.543,807.689 757.998,807.689 867.453,807.689 976.908,807.689 1086.36,807.689 1195.82,807.689 \n",
       "  1305.27,807.689 1414.73,807.689 1524.18,807.689 1633.64,807.689 1743.09,807.689 1852.55,807.689 1962,807.689 2071.46,807.689 2180.91,807.689 2290.37,807.689 \n",
       "  \n",
       "  \"/>\n",
       "<path clip-path=\"url(#clip210)\" d=\"\n",
       "M221.815 397.618 L677.676 397.618 L677.676 95.2176 L221.815 95.2176  Z\n",
       "  \" fill=\"#ffffff\" fill-rule=\"evenodd\" fill-opacity=\"1\"/>\n",
       "<polyline clip-path=\"url(#clip210)\" style=\"stroke:#000000; stroke-width:4; stroke-opacity:1; fill:none\" points=\"\n",
       "  221.815,397.618 677.676,397.618 677.676,95.2176 221.815,95.2176 221.815,397.618 \n",
       "  \"/>\n",
       "<polyline clip-path=\"url(#clip210)\" style=\"stroke:#009af9; stroke-width:4; stroke-opacity:1; fill:none\" points=\"\n",
       "  246.309,155.698 393.27,155.698 \n",
       "  \"/>\n",
       "<path clip-path=\"url(#clip210)\" d=\"M 0 0 M422.44 156.473 L422.44 169.135 L429.94 169.135 Q433.713 169.135 435.518 167.584 Q437.347 166.01 437.347 162.792 Q437.347 159.552 435.518 158.024 Q433.713 156.473 429.94 156.473 L422.44 156.473 M422.44 142.26 L422.44 152.677 L429.361 152.677 Q432.787 152.677 434.453 151.404 Q436.143 150.107 436.143 147.468 Q436.143 144.853 434.453 143.556 Q432.787 142.26 429.361 142.26 L422.44 142.26 M417.764 138.418 L429.708 138.418 Q435.055 138.418 437.949 140.64 Q440.842 142.862 440.842 146.959 Q440.842 150.13 439.361 152.005 Q437.879 153.88 435.009 154.343 Q438.458 155.084 440.356 157.445 Q442.277 159.783 442.277 163.302 Q442.277 167.931 439.129 170.454 Q435.981 172.978 430.171 172.978 L417.764 172.978 L417.764 138.418 Z\" fill=\"#000000\" fill-rule=\"evenodd\" fill-opacity=\"1\" /><path clip-path=\"url(#clip210)\" d=\"M 0 0 M468.921 158.95 L468.921 161.033 L449.338 161.033 Q449.615 165.431 451.976 167.746 Q454.361 170.038 458.597 170.038 Q461.05 170.038 463.342 169.436 Q465.657 168.834 467.925 167.63 L467.925 171.658 Q465.634 172.63 463.226 173.14 Q460.819 173.649 458.342 173.649 Q452.139 173.649 448.504 170.038 Q444.893 166.427 444.893 160.269 Q444.893 153.904 448.319 150.177 Q451.768 146.427 457.601 146.427 Q462.833 146.427 465.865 149.806 Q468.921 153.163 468.921 158.95 M464.662 157.7 Q464.615 154.205 462.694 152.121 Q460.796 150.038 457.648 150.038 Q454.083 150.038 451.93 152.052 Q449.801 154.066 449.476 157.723 L464.662 157.7 Z\" fill=\"#000000\" fill-rule=\"evenodd\" fill-opacity=\"1\" /><path clip-path=\"url(#clip210)\" d=\"M 0 0 M477.601 139.691 L477.601 147.052 L486.374 147.052 L486.374 150.362 L477.601 150.362 L477.601 164.436 Q477.601 167.607 478.458 168.51 Q479.337 169.413 481.999 169.413 L486.374 169.413 L486.374 172.978 L481.999 172.978 Q477.069 172.978 475.194 171.149 Q473.319 169.297 473.319 164.436 L473.319 150.362 L470.194 150.362 L470.194 147.052 L473.319 147.052 L473.319 139.691 L477.601 139.691 Z\" fill=\"#000000\" fill-rule=\"evenodd\" fill-opacity=\"1\" /><path clip-path=\"url(#clip210)\" d=\"M 0 0 M502.624 159.945 Q497.462 159.945 495.472 161.126 Q493.481 162.306 493.481 165.154 Q493.481 167.422 494.962 168.765 Q496.467 170.084 499.036 170.084 Q502.578 170.084 504.708 167.584 Q506.86 165.061 506.86 160.894 L506.86 159.945 L502.624 159.945 M511.12 158.186 L511.12 172.978 L506.86 172.978 L506.86 169.042 Q505.402 171.403 503.226 172.538 Q501.05 173.649 497.902 173.649 Q493.921 173.649 491.56 171.427 Q489.222 169.181 489.222 165.431 Q489.222 161.056 492.138 158.834 Q495.078 156.612 500.888 156.612 L506.86 156.612 L506.86 156.195 Q506.86 153.255 504.916 151.658 Q502.995 150.038 499.499 150.038 Q497.277 150.038 495.171 150.57 Q493.064 151.103 491.12 152.167 L491.12 148.232 Q493.458 147.33 495.657 146.89 Q497.856 146.427 499.939 146.427 Q505.564 146.427 508.342 149.343 Q511.12 152.26 511.12 158.186 Z\" fill=\"#000000\" fill-rule=\"evenodd\" fill-opacity=\"1\" /><polyline clip-path=\"url(#clip210)\" style=\"stroke:#e26f46; stroke-width:4; stroke-opacity:1; fill:none\" points=\"\n",
       "  246.309,216.178 393.27,216.178 \n",
       "  \"/>\n",
       "<path clip-path=\"url(#clip210)\" d=\"M 0 0 M422.44 216.953 L422.44 229.615 L429.94 229.615 Q433.713 229.615 435.518 228.064 Q437.347 226.49 437.347 223.272 Q437.347 220.032 435.518 218.504 Q433.713 216.953 429.94 216.953 L422.44 216.953 M422.44 202.74 L422.44 213.157 L429.361 213.157 Q432.787 213.157 434.453 211.884 Q436.143 210.587 436.143 207.948 Q436.143 205.333 434.453 204.036 Q432.787 202.74 429.361 202.74 L422.44 202.74 M417.764 198.898 L429.708 198.898 Q435.055 198.898 437.949 201.12 Q440.842 203.342 440.842 207.439 Q440.842 210.61 439.361 212.485 Q437.879 214.36 435.009 214.823 Q438.458 215.564 440.356 217.925 Q442.277 220.263 442.277 223.782 Q442.277 228.411 439.129 230.934 Q435.981 233.458 430.171 233.458 L417.764 233.458 L417.764 198.898 Z\" fill=\"#000000\" fill-rule=\"evenodd\" fill-opacity=\"1\" /><path clip-path=\"url(#clip210)\" d=\"M 0 0 M468.921 219.43 L468.921 221.513 L449.338 221.513 Q449.615 225.911 451.976 228.226 Q454.361 230.518 458.597 230.518 Q461.05 230.518 463.342 229.916 Q465.657 229.314 467.925 228.11 L467.925 232.138 Q465.634 233.11 463.226 233.62 Q460.819 234.129 458.342 234.129 Q452.139 234.129 448.504 230.518 Q444.893 226.907 444.893 220.749 Q444.893 214.384 448.319 210.657 Q451.768 206.907 457.601 206.907 Q462.833 206.907 465.865 210.286 Q468.921 213.643 468.921 219.43 M464.662 218.18 Q464.615 214.685 462.694 212.601 Q460.796 210.518 457.648 210.518 Q454.083 210.518 451.93 212.532 Q449.801 214.546 449.476 218.203 L464.662 218.18 Z\" fill=\"#000000\" fill-rule=\"evenodd\" fill-opacity=\"1\" /><path clip-path=\"url(#clip210)\" d=\"M 0 0 M477.601 200.171 L477.601 207.532 L486.374 207.532 L486.374 210.842 L477.601 210.842 L477.601 224.916 Q477.601 228.087 478.458 228.99 Q479.337 229.893 481.999 229.893 L486.374 229.893 L486.374 233.458 L481.999 233.458 Q477.069 233.458 475.194 231.629 Q473.319 229.777 473.319 224.916 L473.319 210.842 L470.194 210.842 L470.194 207.532 L473.319 207.532 L473.319 200.171 L477.601 200.171 Z\" fill=\"#000000\" fill-rule=\"evenodd\" fill-opacity=\"1\" /><path clip-path=\"url(#clip210)\" d=\"M 0 0 M502.624 220.425 Q497.462 220.425 495.472 221.606 Q493.481 222.786 493.481 225.634 Q493.481 227.902 494.962 229.245 Q496.467 230.564 499.036 230.564 Q502.578 230.564 504.708 228.064 Q506.86 225.541 506.86 221.374 L506.86 220.425 L502.624 220.425 M511.12 218.666 L511.12 233.458 L506.86 233.458 L506.86 229.522 Q505.402 231.883 503.226 233.018 Q501.05 234.129 497.902 234.129 Q493.921 234.129 491.56 231.907 Q489.222 229.661 489.222 225.911 Q489.222 221.536 492.138 219.314 Q495.078 217.092 500.888 217.092 L506.86 217.092 L506.86 216.675 Q506.86 213.735 504.916 212.138 Q502.995 210.518 499.499 210.518 Q497.277 210.518 495.171 211.05 Q493.064 211.583 491.12 212.647 L491.12 208.712 Q493.458 207.81 495.657 207.37 Q497.856 206.907 499.939 206.907 Q505.564 206.907 508.342 209.823 Q511.12 212.74 511.12 218.666 Z\" fill=\"#000000\" fill-rule=\"evenodd\" fill-opacity=\"1\" /><path clip-path=\"url(#clip210)\" d=\"M 0 0 M535.286 241.328 L535.286 244.638 L510.657 244.638 L510.657 241.328 L535.286 241.328 Z\" fill=\"#000000\" fill-rule=\"evenodd\" fill-opacity=\"1\" /><path clip-path=\"url(#clip210)\" d=\"M 0 0 M559.939 212.509 Q561.536 209.638 563.758 208.273 Q565.98 206.907 568.99 206.907 Q573.041 206.907 575.24 209.754 Q577.439 212.578 577.439 217.809 L577.439 233.458 L573.156 233.458 L573.156 217.948 Q573.156 214.222 571.837 212.416 Q570.517 210.61 567.809 210.61 Q564.499 210.61 562.578 212.81 Q560.656 215.009 560.656 218.805 L560.656 233.458 L556.374 233.458 L556.374 217.948 Q556.374 214.198 555.055 212.416 Q553.735 210.61 550.981 210.61 Q547.717 210.61 545.795 212.833 Q543.874 215.032 543.874 218.805 L543.874 233.458 L539.592 233.458 L539.592 207.532 L543.874 207.532 L543.874 211.56 Q545.332 209.175 547.369 208.041 Q549.406 206.907 552.207 206.907 Q555.031 206.907 556.999 208.342 Q558.99 209.777 559.939 212.509 Z\" fill=\"#000000\" fill-rule=\"evenodd\" fill-opacity=\"1\" /><path clip-path=\"url(#clip210)\" d=\"M 0 0 M581.906 207.532 L586.166 207.532 L586.166 233.458 L581.906 233.458 L581.906 207.532 M581.906 197.439 L586.166 197.439 L586.166 202.833 L581.906 202.833 L581.906 197.439 Z\" fill=\"#000000\" fill-rule=\"evenodd\" fill-opacity=\"1\" /><path clip-path=\"url(#clip210)\" d=\"M 0 0 M612.184 217.809 L612.184 233.458 L607.925 233.458 L607.925 217.948 Q607.925 214.268 606.49 212.439 Q605.054 210.61 602.184 210.61 Q598.735 210.61 596.744 212.81 Q594.753 215.009 594.753 218.805 L594.753 233.458 L590.471 233.458 L590.471 207.532 L594.753 207.532 L594.753 211.56 Q596.281 209.222 598.341 208.064 Q600.425 206.907 603.133 206.907 Q607.601 206.907 609.892 209.685 Q612.184 212.439 612.184 217.809 Z\" fill=\"#000000\" fill-rule=\"evenodd\" fill-opacity=\"1\" /><polyline clip-path=\"url(#clip210)\" style=\"stroke:#3da44d; stroke-width:4; stroke-opacity:1; fill:none\" points=\"\n",
       "  246.309,276.658 393.27,276.658 \n",
       "  \"/>\n",
       "<path clip-path=\"url(#clip210)\" d=\"M 0 0 M422.44 277.433 L422.44 290.095 L429.94 290.095 Q433.713 290.095 435.518 288.544 Q437.347 286.97 437.347 283.752 Q437.347 280.512 435.518 278.984 Q433.713 277.433 429.94 277.433 L422.44 277.433 M422.44 263.22 L422.44 273.637 L429.361 273.637 Q432.787 273.637 434.453 272.364 Q436.143 271.067 436.143 268.428 Q436.143 265.813 434.453 264.516 Q432.787 263.22 429.361 263.22 L422.44 263.22 M417.764 259.378 L429.708 259.378 Q435.055 259.378 437.949 261.6 Q440.842 263.822 440.842 267.919 Q440.842 271.09 439.361 272.965 Q437.879 274.84 435.009 275.303 Q438.458 276.044 440.356 278.405 Q442.277 280.743 442.277 284.262 Q442.277 288.891 439.129 291.414 Q435.981 293.938 430.171 293.938 L417.764 293.938 L417.764 259.378 Z\" fill=\"#000000\" fill-rule=\"evenodd\" fill-opacity=\"1\" /><path clip-path=\"url(#clip210)\" d=\"M 0 0 M468.921 279.91 L468.921 281.993 L449.338 281.993 Q449.615 286.391 451.976 288.706 Q454.361 290.998 458.597 290.998 Q461.05 290.998 463.342 290.396 Q465.657 289.794 467.925 288.59 L467.925 292.618 Q465.634 293.59 463.226 294.1 Q460.819 294.609 458.342 294.609 Q452.139 294.609 448.504 290.998 Q444.893 287.387 444.893 281.229 Q444.893 274.864 448.319 271.137 Q451.768 267.387 457.601 267.387 Q462.833 267.387 465.865 270.766 Q468.921 274.123 468.921 279.91 M464.662 278.66 Q464.615 275.165 462.694 273.081 Q460.796 270.998 457.648 270.998 Q454.083 270.998 451.93 273.012 Q449.801 275.026 449.476 278.683 L464.662 278.66 Z\" fill=\"#000000\" fill-rule=\"evenodd\" fill-opacity=\"1\" /><path clip-path=\"url(#clip210)\" d=\"M 0 0 M477.601 260.651 L477.601 268.012 L486.374 268.012 L486.374 271.322 L477.601 271.322 L477.601 285.396 Q477.601 288.567 478.458 289.47 Q479.337 290.373 481.999 290.373 L486.374 290.373 L486.374 293.938 L481.999 293.938 Q477.069 293.938 475.194 292.109 Q473.319 290.257 473.319 285.396 L473.319 271.322 L470.194 271.322 L470.194 268.012 L473.319 268.012 L473.319 260.651 L477.601 260.651 Z\" fill=\"#000000\" fill-rule=\"evenodd\" fill-opacity=\"1\" /><path clip-path=\"url(#clip210)\" d=\"M 0 0 M502.624 280.905 Q497.462 280.905 495.472 282.086 Q493.481 283.266 493.481 286.114 Q493.481 288.382 494.962 289.725 Q496.467 291.044 499.036 291.044 Q502.578 291.044 504.708 288.544 Q506.86 286.021 506.86 281.854 L506.86 280.905 L502.624 280.905 M511.12 279.146 L511.12 293.938 L506.86 293.938 L506.86 290.002 Q505.402 292.363 503.226 293.498 Q501.05 294.609 497.902 294.609 Q493.921 294.609 491.56 292.387 Q489.222 290.141 489.222 286.391 Q489.222 282.016 492.138 279.794 Q495.078 277.572 500.888 277.572 L506.86 277.572 L506.86 277.155 Q506.86 274.215 504.916 272.618 Q502.995 270.998 499.499 270.998 Q497.277 270.998 495.171 271.53 Q493.064 272.063 491.12 273.127 L491.12 269.192 Q493.458 268.29 495.657 267.85 Q497.856 267.387 499.939 267.387 Q505.564 267.387 508.342 270.303 Q511.12 273.22 511.12 279.146 Z\" fill=\"#000000\" fill-rule=\"evenodd\" fill-opacity=\"1\" /><path clip-path=\"url(#clip210)\" d=\"M 0 0 M535.286 301.808 L535.286 305.118 L510.657 305.118 L510.657 301.808 L535.286 301.808 Z\" fill=\"#000000\" fill-rule=\"evenodd\" fill-opacity=\"1\" /><path clip-path=\"url(#clip210)\" d=\"M 0 0 M559.939 272.989 Q561.536 270.118 563.758 268.753 Q565.98 267.387 568.99 267.387 Q573.041 267.387 575.24 270.234 Q577.439 273.058 577.439 278.289 L577.439 293.938 L573.156 293.938 L573.156 278.428 Q573.156 274.702 571.837 272.896 Q570.517 271.09 567.809 271.09 Q564.499 271.09 562.578 273.29 Q560.656 275.489 560.656 279.285 L560.656 293.938 L556.374 293.938 L556.374 278.428 Q556.374 274.678 555.055 272.896 Q553.735 271.09 550.981 271.09 Q547.717 271.09 545.795 273.313 Q543.874 275.512 543.874 279.285 L543.874 293.938 L539.592 293.938 L539.592 268.012 L543.874 268.012 L543.874 272.04 Q545.332 269.655 547.369 268.521 Q549.406 267.387 552.207 267.387 Q555.031 267.387 556.999 268.822 Q558.99 270.257 559.939 272.989 Z\" fill=\"#000000\" fill-rule=\"evenodd\" fill-opacity=\"1\" /><path clip-path=\"url(#clip210)\" d=\"M 0 0 M593.689 280.905 Q588.527 280.905 586.536 282.086 Q584.545 283.266 584.545 286.114 Q584.545 288.382 586.027 289.725 Q587.531 291.044 590.101 291.044 Q593.642 291.044 595.772 288.544 Q597.925 286.021 597.925 281.854 L597.925 280.905 L593.689 280.905 M602.184 279.146 L602.184 293.938 L597.925 293.938 L597.925 290.002 Q596.466 292.363 594.291 293.498 Q592.115 294.609 588.966 294.609 Q584.985 294.609 582.624 292.387 Q580.286 290.141 580.286 286.391 Q580.286 282.016 583.203 279.794 Q586.142 277.572 591.953 277.572 L597.925 277.572 L597.925 277.155 Q597.925 274.215 595.98 272.618 Q594.059 270.998 590.564 270.998 Q588.341 270.998 586.235 271.53 Q584.129 272.063 582.184 273.127 L582.184 269.192 Q584.522 268.29 586.721 267.85 Q588.92 267.387 591.003 267.387 Q596.628 267.387 599.406 270.303 Q602.184 273.22 602.184 279.146 Z\" fill=\"#000000\" fill-rule=\"evenodd\" fill-opacity=\"1\" /><path clip-path=\"url(#clip210)\" d=\"M 0 0 M628.202 268.012 L618.827 280.627 L628.688 293.938 L623.665 293.938 L616.119 283.752 L608.573 293.938 L603.55 293.938 L613.619 280.373 L604.406 268.012 L609.429 268.012 L616.304 277.248 L623.179 268.012 L628.202 268.012 Z\" fill=\"#000000\" fill-rule=\"evenodd\" fill-opacity=\"1\" /><polyline clip-path=\"url(#clip210)\" style=\"stroke:#c271d2; stroke-width:4; stroke-opacity:1; fill:none\" points=\"\n",
       "  246.309,337.138 393.27,337.138 \n",
       "  \"/>\n",
       "<path clip-path=\"url(#clip210)\" d=\"M 0 0 M433.782 323.029 Q428.69 323.029 425.68 326.825 Q422.694 330.621 422.694 337.172 Q422.694 343.7 425.68 347.496 Q428.69 351.293 433.782 351.293 Q438.875 351.293 441.838 347.496 Q444.824 343.7 444.824 337.172 Q444.824 330.621 441.838 326.825 Q438.875 323.029 433.782 323.029 M433.782 319.233 Q441.051 319.233 445.402 324.117 Q449.754 328.978 449.754 337.172 Q449.754 345.344 445.402 350.228 Q441.051 355.089 433.782 355.089 Q426.49 355.089 422.116 350.228 Q417.764 345.367 417.764 337.172 Q417.764 328.978 422.116 324.117 Q426.49 319.233 433.782 319.233 Z\" fill=\"#000000\" fill-rule=\"evenodd\" fill-opacity=\"1\" /><path clip-path=\"url(#clip210)\" d=\"M 0 0 M454.407 319.858 L459.083 319.858 L459.083 350.482 L475.912 350.482 L475.912 354.418 L454.407 354.418 L454.407 319.858 Z\" fill=\"#000000\" fill-rule=\"evenodd\" fill-opacity=\"1\" /><path clip-path=\"url(#clip210)\" d=\"M 0 0 M501.282 320.992 L501.282 325.552 Q498.62 324.279 496.259 323.654 Q493.898 323.029 491.698 323.029 Q487.879 323.029 485.796 324.51 Q483.736 325.992 483.736 328.723 Q483.736 331.015 485.101 332.195 Q486.49 333.353 490.333 334.07 L493.157 334.649 Q498.388 335.645 500.865 338.168 Q503.365 340.668 503.365 344.881 Q503.365 349.904 499.985 352.496 Q496.629 355.089 490.124 355.089 Q487.671 355.089 484.893 354.533 Q482.138 353.978 479.175 352.89 L479.175 348.075 Q482.023 349.672 484.754 350.482 Q487.486 351.293 490.124 351.293 Q494.129 351.293 496.305 349.719 Q498.481 348.144 498.481 345.228 Q498.481 342.682 496.907 341.246 Q495.356 339.811 491.791 339.094 L488.944 338.538 Q483.712 337.496 481.374 335.274 Q479.037 333.052 479.037 329.094 Q479.037 324.51 482.254 321.871 Q485.495 319.233 491.166 319.233 Q493.597 319.233 496.12 319.672 Q498.643 320.112 501.282 320.992 Z\" fill=\"#000000\" fill-rule=\"evenodd\" fill-opacity=\"1\" /><path clip-path=\"url(#clip210)\" d=\"M 0 0 M512.694 323.7 L512.694 336.686 L518.573 336.686 Q521.837 336.686 523.62 334.996 Q525.402 333.307 525.402 330.182 Q525.402 327.08 523.62 325.39 Q521.837 323.7 518.573 323.7 L512.694 323.7 M508.018 319.858 L518.573 319.858 Q524.383 319.858 527.346 322.496 Q530.333 325.112 530.333 330.182 Q530.333 335.297 527.346 337.913 Q524.383 340.529 518.573 340.529 L512.694 340.529 L512.694 354.418 L508.018 354.418 L508.018 319.858 Z\" fill=\"#000000\" fill-rule=\"evenodd\" fill-opacity=\"1\" /><path clip-path=\"url(#clip210)\" d=\"M 0 0 M534.8 318.399 L539.059 318.399 L539.059 354.418 L534.8 354.418 L534.8 318.399 Z\" fill=\"#000000\" fill-rule=\"evenodd\" fill-opacity=\"1\" /><path clip-path=\"url(#clip210)\" d=\"M 0 0 M553.573 331.478 Q550.147 331.478 548.157 334.163 Q546.166 336.825 546.166 341.478 Q546.166 346.131 548.133 348.816 Q550.124 351.478 553.573 351.478 Q556.976 351.478 558.967 348.793 Q560.957 346.107 560.957 341.478 Q560.957 336.871 558.967 334.186 Q556.976 331.478 553.573 331.478 M553.573 327.867 Q559.129 327.867 562.3 331.478 Q565.471 335.089 565.471 341.478 Q565.471 347.844 562.3 351.478 Q559.129 355.089 553.573 355.089 Q547.994 355.089 544.823 351.478 Q541.675 347.844 541.675 341.478 Q541.675 335.089 544.823 331.478 Q547.994 327.867 553.573 327.867 Z\" fill=\"#000000\" fill-rule=\"evenodd\" fill-opacity=\"1\" /><path clip-path=\"url(#clip210)\" d=\"M 0 0 M574.152 321.131 L574.152 328.492 L582.925 328.492 L582.925 331.802 L574.152 331.802 L574.152 345.876 Q574.152 349.047 575.008 349.95 Q575.888 350.853 578.55 350.853 L582.925 350.853 L582.925 354.418 L578.55 354.418 Q573.619 354.418 571.744 352.589 Q569.869 350.737 569.869 345.876 L569.869 331.802 L566.744 331.802 L566.744 328.492 L569.869 328.492 L569.869 321.131 L574.152 321.131 Z\" fill=\"#000000\" fill-rule=\"evenodd\" fill-opacity=\"1\" /></svg>\n"
      ]
     },
     "execution_count": 10,
     "metadata": {},
     "output_type": "execute_result"
    }
   ],
   "source": [
    "@df PlotDF plot(:Quantile, [:Beta :Beta_min :Beta_max :OLSPlot], legend=:topleft)"
   ]
  }
 ],
 "metadata": {
  "kernelspec": {
   "display_name": "Julia 1.4.2",
   "language": "julia",
   "name": "julia-1.4"
  },
  "language_info": {
   "file_extension": ".jl",
   "mimetype": "application/julia",
   "name": "julia",
   "version": "1.4.2"
  }
 },
 "nbformat": 4,
 "nbformat_minor": 4
}
