{
 "cells": [
  {
   "cell_type": "code",
   "execution_count": 136,
   "metadata": {},
   "outputs": [],
   "source": [
    "using CSV\n",
    "using DataFrames\n",
    "using GLM\n",
    "using Optim\n",
    "using Statistics\n",
    "using ForwardDiff\n",
    "using NLopt"
   ]
  },
  {
   "cell_type": "markdown",
   "metadata": {},
   "source": [
    "# The Nerlove Model\n",
    "\n",
    "### Theoretical Background\n",
    "For a firm that takes input prices $w$ and the output level $q$\n",
    "as given, the cost minimization problem is to choose the quantities\n",
    "of inputs $x$ to solve the problem\n",
    "$$\n",
    "\\min_{x}w'x\n",
    "$$\n",
    " subject to the restriction\n",
    "$$\n",
    "f(x)=q.\n",
    "$$\n",
    " The solution is the vector of factor demands $x(w,q)$. The cost\n",
    "function is obtained by substituting the factor demands into the\n",
    "criterion function: \n",
    "$$\n",
    "Cw,q)=w'x(w,q).\n",
    "$$\n",
    " \n",
    "- **Monotonicity** Increasing factor prices cannot decrease cost, so \n",
    "$$\\frac{\\partial C(w,q)}{\\partial w}\\geq0$$\n",
    "Remember that these derivatives give the conditional factor demands\n",
    "(Shephard's Lemma).\n",
    "- **Homogeneity** The cost function is homogeneous of degree 1 in input prices: $C(tw,q)=tC(w,q)$ where $t$ is a scalar constant. This is because the factor demands are homogeneous of degree zero in factor prices - they only depend upon relative prices.\n",
    "- **Returns to scale** The returns to scale parameter $\\gamma$ is defined as the inverse of the elasticity of cost with respect to output:\n",
    "$$\n",
    "\\gamma=\\left(\\frac{\\partial C(w,q)}{\\partial q}\\frac{q}{C(w,q)}\\right)^{-1}\n",
    "$$\n",
    "Constant returns to scale is the case where increasing production\n",
    "$q$ implies that cost increases in the proportion 1:1. If this is\n",
    "the case, then $\\gamma=1$.\n",
    "\n",
    "#### Cobb-Douglas functional form\n",
    "\n",
    "The Cobb-Douglas functional form is linear in the logarithms of the\n",
    "regressors and the dependent variable. For a cost function, if there\n",
    "are $g$ factors, the Cobb-Douglas cost function has the form\n",
    "\n",
    "$$\n",
    "C=Aw_{1}^{\\beta_{1}}...w_{g}^{\\beta_{g}}q^{\\beta_{q}}e^{\\varepsilon}\n",
    "$$\n",
    "What is the elasticity of $C$ with respect to $w_{j}$?\n",
    "\\begin{eqnarray*}\n",
    "e_{w_{j}}^{C} & = & \\left(\\frac{\\partial C}{\\partial_{W_{J}}}\\right)\\left(\\frac{w_{j}}{C}\\right)\\\\\n",
    " & = & \\beta_{j}Aw_{1}^{\\beta_{1}}.w_{j}^{\\beta_{j}-1}..w_{g}^{\\beta_{g}}q^{\\beta_{q}}e^{\\varepsilon}\\frac{w_{j}}{Aw_{1}^{\\beta_{1}}...w_{g}^{\\beta_{g}}q^{\\beta_{q}}e^{\\varepsilon}}\\\\\n",
    " & = & \\beta_{j}\n",
    "\\end{eqnarray*}\n",
    "This is one of the reasons the Cobb-Douglas form is popular - the\n",
    "coefficients are easy to interpret, since they are the elasticities\n",
    "of the dependent variable with respect to the explanatory variable.\n",
    "Not that in this case,\n",
    "\\begin{eqnarray*}\n",
    "e_{w_{j}}^{C} & = & \\left(\\frac{\\partial C}{\\partial_{W_{J}}}\\right)\\left(\\frac{w_{j}}{C}\\right)\\\\\n",
    " & = & x_{j}(w,q)\\frac{w_{j}}{C}\\\\\n",
    " & \\equiv & s_{j}(w,q)\n",
    "\\end{eqnarray*}\n",
    "the cost share of the $j^{th}$ input. So with a Cobb-Douglas\n",
    "cost function, $\\beta_{j}=s_{j}(w,q)$. The cost shares are constants.\n",
    "\n",
    "Note that after a logarithmic transformation we obtain\n",
    "$$\n",
    "\\ln C=\\alpha+\\beta_{1}\\ln w_{1}+...+\\beta_{g}\\ln w_{g}+\\beta_{q}\\ln q+\\epsilon\n",
    "$$\n",
    "where $\\alpha=\\ln A$ . So we see that the transformed model is linear\n",
    "in the logs of the data.\n",
    "\n",
    "One can verify that the property of HOD1 implies that \n",
    "$$\n",
    "\\sum_{i=1}^{g}\\beta_{i}=1\n",
    "$$\n",
    "In other words, the cost shares add up to 1. \n",
    "\n",
    "The hypothesis that the technology exhibits CRTS implies that \n",
    "$$\n",
    "\\gamma=\\frac{1}{\\beta_{q}}=1\n",
    "$$\n",
    "so $\\beta_{q}=1.$ Likewise, monotonicity implies that the coefficients\n",
    "$\\beta_{i}\\geq0,i=1,...,g$.\n"
   ]
  },
  {
   "cell_type": "markdown",
   "metadata": {},
   "source": [
    "### The Nerlove Data\n",
    "The file contains data on 145 electric utility companies' cost of production,\n",
    "output and input prices. The data are for the U.S., and were collected\n",
    "by M. Nerlove. The observations are by row, and the columns are \n",
    "- COMPANYCOST $(C)$\n",
    "- OUTPUT $(Q)$ \n",
    "- PRICE OF LABOR $(P_{L})$\n",
    "- PRICE OF FUEL $(P_{F})$\n",
    "- PRICE OF CAPITAL$(P_{K})$ \n",
    "\n",
    "Note that the data are sorted by output level (the third column).\n",
    "\n",
    "We will estimate the Cobb-Douglas model \n",
    "$$\\ln C=\\beta_{1}+\\beta_{Q}\\ln Q+\\beta_{L}\\ln P_{L}+\\beta_{F}\\ln P_{F}+\\beta_{K}\\ln P_{K}+\\epsilon\\label{simple nerlove model}\n",
    "$$ by OLS.\n"
   ]
  },
  {
   "cell_type": "code",
   "execution_count": 137,
   "metadata": {
    "scrolled": false
   },
   "outputs": [
    {
     "data": {
      "text/html": [
       "<table class=\"data-frame\"><thead><tr><th></th><th>firm</th><th>cost</th><th>output</th><th>labor</th><th>fuel</th><th>capital</th></tr><tr><th></th><th>Int64</th><th>Float64</th><th>Int64</th><th>Float64</th><th>Float64</th><th>Int64</th></tr></thead><tbody><p>6 rows × 6 columns</p><tr><th>1</th><td>101</td><td>0.082</td><td>2</td><td>2.09</td><td>17.9</td><td>183</td></tr><tr><th>2</th><td>102</td><td>0.661</td><td>3</td><td>2.05</td><td>35.1</td><td>174</td></tr><tr><th>3</th><td>103</td><td>0.99</td><td>4</td><td>2.05</td><td>35.1</td><td>171</td></tr><tr><th>4</th><td>104</td><td>0.315</td><td>4</td><td>1.83</td><td>32.2</td><td>166</td></tr><tr><th>5</th><td>105</td><td>0.197</td><td>5</td><td>2.12</td><td>28.6</td><td>233</td></tr><tr><th>6</th><td>106</td><td>0.098</td><td>9</td><td>2.12</td><td>28.6</td><td>195</td></tr></tbody></table>"
      ],
      "text/latex": [
       "\\begin{tabular}{r|cccccc}\n",
       "\t& firm & cost & output & labor & fuel & capital\\\\\n",
       "\t\\hline\n",
       "\t& Int64 & Float64 & Int64 & Float64 & Float64 & Int64\\\\\n",
       "\t\\hline\n",
       "\t1 & 101 & 0.082 & 2 & 2.09 & 17.9 & 183 \\\\\n",
       "\t2 & 102 & 0.661 & 3 & 2.05 & 35.1 & 174 \\\\\n",
       "\t3 & 103 & 0.99 & 4 & 2.05 & 35.1 & 171 \\\\\n",
       "\t4 & 104 & 0.315 & 4 & 1.83 & 32.2 & 166 \\\\\n",
       "\t5 & 105 & 0.197 & 5 & 2.12 & 28.6 & 233 \\\\\n",
       "\t6 & 106 & 0.098 & 9 & 2.12 & 28.6 & 195 \\\\\n",
       "\\end{tabular}\n"
      ],
      "text/plain": [
       "\u001b[1m6×6 DataFrame\u001b[0m\n",
       "\u001b[1m Row \u001b[0m│\u001b[1m firm  \u001b[0m\u001b[1m cost    \u001b[0m\u001b[1m output \u001b[0m\u001b[1m labor   \u001b[0m\u001b[1m fuel    \u001b[0m\u001b[1m capital \u001b[0m\n",
       "\u001b[1m     \u001b[0m│\u001b[90m Int64 \u001b[0m\u001b[90m Float64 \u001b[0m\u001b[90m Int64  \u001b[0m\u001b[90m Float64 \u001b[0m\u001b[90m Float64 \u001b[0m\u001b[90m Int64   \u001b[0m\n",
       "─────┼───────────────────────────────────────────────────\n",
       "   1 │   101    0.082       2     2.09     17.9      183\n",
       "   2 │   102    0.661       3     2.05     35.1      174\n",
       "   3 │   103    0.99        4     2.05     35.1      171\n",
       "   4 │   104    0.315       4     1.83     32.2      166\n",
       "   5 │   105    0.197       5     2.12     28.6      233\n",
       "   6 │   106    0.098       9     2.12     28.6      195"
      ]
     },
     "execution_count": 137,
     "metadata": {},
     "output_type": "execute_result"
    }
   ],
   "source": [
    "data = DataFrame(CSV.File(\"../data/nerlove.csv\"))\n",
    "first(data,6)"
   ]
  },
  {
   "cell_type": "code",
   "execution_count": 138,
   "metadata": {
    "scrolled": true
   },
   "outputs": [
    {
     "data": {
      "text/html": [
       "<table class=\"data-frame\"><thead><tr><th></th><th>cost</th><th>output</th><th>labor</th><th>fuel</th><th>capital</th></tr><tr><th></th><th>Float64</th><th>Float64</th><th>Float64</th><th>Float64</th><th>Float64</th></tr></thead><tbody><p>6 rows × 5 columns</p><tr><th>1</th><td>-2.50104</td><td>0.693147</td><td>0.737164</td><td>2.8848</td><td>5.20949</td></tr><tr><th>2</th><td>-0.414001</td><td>1.09861</td><td>0.71784</td><td>3.5582</td><td>5.15906</td></tr><tr><th>3</th><td>-0.0100503</td><td>1.38629</td><td>0.71784</td><td>3.5582</td><td>5.14166</td></tr><tr><th>4</th><td>-1.15518</td><td>1.38629</td><td>0.604316</td><td>3.47197</td><td>5.11199</td></tr><tr><th>5</th><td>-1.62455</td><td>1.60944</td><td>0.751416</td><td>3.35341</td><td>5.45104</td></tr><tr><th>6</th><td>-2.32279</td><td>2.19722</td><td>0.751416</td><td>3.35341</td><td>5.273</td></tr></tbody></table>"
      ],
      "text/latex": [
       "\\begin{tabular}{r|ccccc}\n",
       "\t& cost & output & labor & fuel & capital\\\\\n",
       "\t\\hline\n",
       "\t& Float64 & Float64 & Float64 & Float64 & Float64\\\\\n",
       "\t\\hline\n",
       "\t1 & -2.50104 & 0.693147 & 0.737164 & 2.8848 & 5.20949 \\\\\n",
       "\t2 & -0.414001 & 1.09861 & 0.71784 & 3.5582 & 5.15906 \\\\\n",
       "\t3 & -0.0100503 & 1.38629 & 0.71784 & 3.5582 & 5.14166 \\\\\n",
       "\t4 & -1.15518 & 1.38629 & 0.604316 & 3.47197 & 5.11199 \\\\\n",
       "\t5 & -1.62455 & 1.60944 & 0.751416 & 3.35341 & 5.45104 \\\\\n",
       "\t6 & -2.32279 & 2.19722 & 0.751416 & 3.35341 & 5.273 \\\\\n",
       "\\end{tabular}\n"
      ],
      "text/plain": [
       "\u001b[1m6×5 DataFrame\u001b[0m\n",
       "\u001b[1m Row \u001b[0m│\u001b[1m cost       \u001b[0m\u001b[1m output   \u001b[0m\u001b[1m labor    \u001b[0m\u001b[1m fuel    \u001b[0m\u001b[1m capital \u001b[0m\n",
       "\u001b[1m     \u001b[0m│\u001b[90m Float64    \u001b[0m\u001b[90m Float64  \u001b[0m\u001b[90m Float64  \u001b[0m\u001b[90m Float64 \u001b[0m\u001b[90m Float64 \u001b[0m\n",
       "─────┼──────────────────────────────────────────────────\n",
       "   1 │ -2.50104    0.693147  0.737164  2.8848   5.20949\n",
       "   2 │ -0.414001   1.09861   0.71784   3.5582   5.15906\n",
       "   3 │ -0.0100503  1.38629   0.71784   3.5582   5.14166\n",
       "   4 │ -1.15518    1.38629   0.604316  3.47197  5.11199\n",
       "   5 │ -1.62455    1.60944   0.751416  3.35341  5.45104\n",
       "   6 │ -2.32279    2.19722   0.751416  3.35341  5.273"
      ]
     },
     "execution_count": 138,
     "metadata": {},
     "output_type": "execute_result"
    }
   ],
   "source": [
    "data = log.(data[:,[:cost,:output,:labor,:fuel,:capital]])\n",
    "first(data,6)"
   ]
  },
  {
   "cell_type": "code",
   "execution_count": 139,
   "metadata": {},
   "outputs": [
    {
     "data": {
      "text/plain": [
       "145×5 Array{Float64,2}:\n",
       " 1.0  0.693147  0.737164  2.8848   5.20949\n",
       " 1.0  1.09861   0.71784   3.5582   5.15906\n",
       " 1.0  1.38629   0.71784   3.5582   5.14166\n",
       " 1.0  1.38629   0.604316  3.47197  5.11199\n",
       " 1.0  1.60944   0.751416  3.35341  5.45104\n",
       " 1.0  2.19722   0.751416  3.35341  5.273\n",
       " 1.0  2.3979    0.683097  3.56953  5.32788\n",
       " 1.0  2.56495   0.71784   3.5582   5.01064\n",
       " 1.0  2.56495   0.783902  3.37074  5.04343\n",
       " 1.0  3.09104   0.542324  2.70805  5.23644\n",
       " 1.0  3.21888   0.737164  2.8848   5.1358\n",
       " 1.0  3.21888   0.518794  3.68135  5.11799\n",
       " 1.0  3.55535   0.593327  3.11795  5.36129\n",
       " ⋮                                 \n",
       " 1.0  8.72193   0.652325  3.11352  5.07517\n",
       " 1.0  8.88086   0.751416  3.35341  5.0876\n",
       " 1.0  8.97284   0.476234  2.8792   5.18178\n",
       " 1.0  9.03825   0.841567  3.46261  5.2933\n",
       " 1.0  9.06439   0.806476  3.27714  5.20401\n",
       " 1.0  9.08103   0.837248  3.51155  5.24702\n",
       " 1.0  9.15736   0.746688  3.19458  5.10595\n",
       " 1.0  9.20593   0.518794  3.36038  5.31321\n",
       " 1.0  9.3481    0.806476  3.27714  5.01728\n",
       " 1.0  9.37552   0.751416  3.35341  4.99721\n",
       " 1.0  9.57213   0.837248  3.51155  5.35659\n",
       " 1.0  9.7243    0.832909  3.16125  5.0876"
      ]
     },
     "execution_count": 139,
     "metadata": {},
     "output_type": "execute_result"
    }
   ],
   "source": [
    "n = size(data,1)\n",
    "y = data[:,1]\n",
    "x = data[:,2:end]\n",
    "x[!,:intercept]=ones(size(data,1))\n",
    "x = x[!,[:intercept,:output,:labor,:fuel,:capital]]\n",
    "\n",
    "y = convert(Array,y)\n",
    "x = convert(Array,x)"
   ]
  },
  {
   "cell_type": "code",
   "execution_count": 140,
   "metadata": {
    "scrolled": true
   },
   "outputs": [
    {
     "data": {
      "text/plain": [
       "5-element Array{Float64,1}:\n",
       " -3.5265028449802216\n",
       "  0.7203940758797012\n",
       "  0.4363412007892406\n",
       "  0.4265169530627446\n",
       " -0.2198883507567723"
      ]
     },
     "execution_count": 140,
     "metadata": {},
     "output_type": "execute_result"
    }
   ],
   "source": [
    "inv(x'*x)*x'*y"
   ]
  },
  {
   "cell_type": "markdown",
   "metadata": {},
   "source": [
    "## OLS"
   ]
  },
  {
   "cell_type": "code",
   "execution_count": 141,
   "metadata": {
    "scrolled": false
   },
   "outputs": [
    {
     "data": {
      "text/plain": [
       "StatsModels.TableRegressionModel{LinearModel{GLM.LmResp{Array{Float64,1}},GLM.DensePredChol{Float64,LinearAlgebra.CholeskyPivoted{Float64,Array{Float64,2}}}},Array{Float64,2}}\n",
       "\n",
       "cost ~ 1 + output + labor + fuel + capital\n",
       "\n",
       "Coefficients:\n",
       "──────────────────────────────────────────────────────────────────────────\n",
       "                 Coef.  Std. Error      t  Pr(>|t|)  Lower 95%   Upper 95%\n",
       "──────────────────────────────────────────────────────────────────────────\n",
       "(Intercept)  -3.5265     1.77437    -1.99    0.0488  -7.03452   -0.0184845\n",
       "output        0.720394   0.0174664  41.24    <1e-79   0.685862   0.754926\n",
       "labor         0.436341   0.291048    1.50    0.1361  -0.139076   1.01176\n",
       "fuel          0.426517   0.100369    4.25    <1e-4    0.228082   0.624952\n",
       "capital      -0.219888   0.339429   -0.65    0.5182  -0.890957   0.45118\n",
       "──────────────────────────────────────────────────────────────────────────"
      ]
     },
     "execution_count": 141,
     "metadata": {},
     "output_type": "execute_result"
    }
   ],
   "source": [
    "ols = lm(@formula(cost~output+labor+fuel+capital),data)"
   ]
  },
  {
   "cell_type": "markdown",
   "metadata": {},
   "source": [
    "## MLE"
   ]
  },
  {
   "cell_type": "code",
   "execution_count": 142,
   "metadata": {},
   "outputs": [
    {
     "data": {
      "text/plain": [
       "fminunc (generic function with 1 method)"
      ]
     },
     "execution_count": 142,
     "metadata": {},
     "output_type": "execute_result"
    }
   ],
   "source": [
    "function fminunc(obj, x; tol = 1e-08)\n",
    "results = Optim.optimize(obj, x, LBFGS(),\n",
    "Optim.Options(\n",
    "g_tol = tol,\n",
    "x_tol=tol,\n",
    "f_tol=tol))\n",
    "return results.minimizer, results.minimum, Optim.converged(results)\n",
    "#xopt, objvalue, flag = fmincon(obj, x, tol=tol)\n",
    "#return xopt, objvalue, flag\n",
    "end"
   ]
  },
  {
   "cell_type": "code",
   "execution_count": 143,
   "metadata": {},
   "outputs": [
    {
     "data": {
      "text/plain": [
       "normal (generic function with 1 method)"
      ]
     },
     "execution_count": 143,
     "metadata": {},
     "output_type": "execute_result"
    }
   ],
   "source": [
    "function normal(theta, y, x)\n",
    "b = theta[1:end-1]\n",
    "s = theta[end][1]\n",
    "e = (y - x*b)./s\n",
    "logdensity = -log.(sqrt.(2.0*pi)) .- 0.5*log(s.^2) .- 0.5*e.*e\n",
    "end"
   ]
  },
  {
   "cell_type": "code",
   "execution_count": 144,
   "metadata": {},
   "outputs": [
    {
     "data": {
      "text/plain": [
       "mle (generic function with 1 method)"
      ]
     },
     "execution_count": 144,
     "metadata": {},
     "output_type": "execute_result"
    }
   ],
   "source": [
    "function mle(model, θ)\n",
    "    avg_obj = θ -> -mean(vec(model(θ))) # average log likelihood\n",
    "    thetahat, objvalue, converged = fminunc(avg_obj, θ) # do the minimization of -logL\n",
    "    objvalue = -objvalue\n",
    "    obj = θ -> vec(model(θ)) # unaveraged log likelihood\n",
    "    n = size(obj(θ),1) # how many observations?\n",
    "    scorecontrib = ForwardDiff.jacobian(obj, vec(thetahat))\n",
    "    I = cov(scorecontrib)\n",
    "    J = ForwardDiff.hessian(avg_obj, vec(thetahat))\n",
    "    Jinv = inv(J)\n",
    "    V= Jinv*I*Jinv/n\n",
    "    return thetahat, objvalue, V, converged\n",
    "end"
   ]
  },
  {
   "cell_type": "code",
   "execution_count": 145,
   "metadata": {
    "scrolled": false
   },
   "outputs": [
    {
     "data": {
      "text/plain": [
       "([-3.5265029527984506, 0.7203941307911956, 0.4363410601373892, 0.4265167999256887, -0.21988830342608368, 0.3855314736645991], -0.4658061612351275, [2.871544188031368 -0.013350664827278202 … -0.5341833292561572 0.00758992898888696; -0.01335066482727622 0.0010330820163605126 … 0.0014703347896175387 -0.000888618606090073; … ; -0.5341833292561352 0.0014703347896179168 … 0.10194167672632491 -0.0009345831820626936; 0.00758992898888676 -0.000888618606090018 … -0.0009345831820626361 0.0017343512126735234], true)"
      ]
     },
     "execution_count": 145,
     "metadata": {},
     "output_type": "execute_result"
    }
   ],
   "source": [
    "theta = [zeros(size(x,2)); 1.0] # start values for estimation\n",
    "model = theta -> normal(theta, y, x)\n",
    "thetahat, objvalue, V, converged = mle(model, theta)"
   ]
  },
  {
   "cell_type": "code",
   "execution_count": 146,
   "metadata": {
    "scrolled": true
   },
   "outputs": [
    {
     "data": {
      "text/plain": [
       "6-element Array{Float64,1}:\n",
       " -3.5265029527984506\n",
       "  0.7203941307911956\n",
       "  0.4363410601373892\n",
       "  0.4265167999256887\n",
       " -0.21988830342608368\n",
       "  0.3855314736645991"
      ]
     },
     "execution_count": 146,
     "metadata": {},
     "output_type": "execute_result"
    }
   ],
   "source": [
    "thetahat"
   ]
  },
  {
   "cell_type": "code",
   "execution_count": 147,
   "metadata": {},
   "outputs": [
    {
     "data": {
      "text/plain": [
       "-0.4658061612351275"
      ]
     },
     "execution_count": 147,
     "metadata": {},
     "output_type": "execute_result"
    }
   ],
   "source": [
    "objvalue"
   ]
  },
  {
   "cell_type": "code",
   "execution_count": 148,
   "metadata": {
    "scrolled": false
   },
   "outputs": [
    {
     "data": {
      "text/plain": [
       "true"
      ]
     },
     "execution_count": 148,
     "metadata": {},
     "output_type": "execute_result"
    }
   ],
   "source": [
    "converged"
   ]
  },
  {
   "cell_type": "markdown",
   "metadata": {},
   "source": [
    "## GMM"
   ]
  },
  {
   "cell_type": "code",
   "execution_count": 149,
   "metadata": {},
   "outputs": [
    {
     "data": {
      "text/plain": [
       "gmm (generic function with 1 method)"
      ]
     },
     "execution_count": 149,
     "metadata": {},
     "output_type": "execute_result"
    }
   ],
   "source": [
    "function gmm(moments, theta, weight)\n",
    "    # average moments\n",
    "    m = theta -> vec(mean(moments(theta),dims=1)) # 1Xg\n",
    "    # moment contributions\n",
    "    momentcontrib = theta -> moments(theta) # nXg\n",
    "    # GMM criterion\n",
    "    obj = theta -> ((m(theta))'weight*m(theta))\n",
    "    # do minimization\n",
    "    thetahat, objvalue, converged = fminunc(obj, theta)\n",
    "    # derivative of average moments\n",
    "    D = (ForwardDiff.jacobian(m, vec(thetahat)))' \n",
    "    # moment contributions at estimate\n",
    "    ms = momentcontrib(thetahat)\n",
    "    return thetahat, objvalue, D, ms, converged\n",
    "end"
   ]
  },
  {
   "cell_type": "code",
   "execution_count": 160,
   "metadata": {
    "scrolled": true
   },
   "outputs": [
    {
     "data": {
      "text/plain": [
       "5-element Array{Float64,1}:\n",
       "  1.7246632842783778\n",
       " 13.884929436866436\n",
       "  1.178851571114924\n",
       "  5.511122653204082\n",
       "  8.878930381596613"
      ]
     },
     "execution_count": 160,
     "metadata": {},
     "output_type": "execute_result"
    }
   ],
   "source": [
    "vec(mean(moments(theta),dims=1))"
   ]
  },
  {
   "cell_type": "code",
   "execution_count": 163,
   "metadata": {
    "scrolled": false
   },
   "outputs": [
    {
     "data": {
      "text/plain": [
       "([-3.526502843629834, 0.7203940758779137, 0.4363412007234413, 0.4265169530669924, -0.21988835101027032], 2.0315912495823984e-25, [-1.0 -6.556651068379128 … -3.2088584232140143 -5.15677677573767; -6.556651068379128 -46.62321518989734 … -20.92418272643975 -33.79234977799892; … ; -3.2088584232140143 -20.92418272643975 … -10.424693444784769 -16.552050639682335; -5.15677677573767 -33.79234977799892 … -16.552050639682335 -26.60235530942714], [0.11956154515690232 0.08287374792889741 … 0.3449112306976858 0.622854213907207; 1.6246276007326357 1.7848358466742609 … 5.780751765522584 8.38154363280989; … ; 0.8830924883738982 8.453078045568063 … 3.1010193996152986 4.730361102489577; 0.7151025229149148 6.953872233201762 … 2.260615499330251 3.6381529748973525], true)"
      ]
     },
     "execution_count": 163,
     "metadata": {},
     "output_type": "execute_result"
    }
   ],
   "source": [
    "weight = 1\n",
    "theta = zeros(size(x,2))\n",
    "moments = theta -> (y .- x*theta).*x\n",
    "thetahat1, junk, junk, ms, junk = gmm(moments, theta, weight)"
   ]
  },
  {
   "cell_type": "code",
   "execution_count": 165,
   "metadata": {},
   "outputs": [
    {
     "data": {
      "text/plain": [
       "5-element Array{Float64,1}:\n",
       " -3.526502843629834\n",
       "  0.7203940758779137\n",
       "  0.4363412007234413\n",
       "  0.4265169530669924\n",
       " -0.21988835101027032"
      ]
     },
     "execution_count": 165,
     "metadata": {},
     "output_type": "execute_result"
    }
   ],
   "source": [
    "thetahat1"
   ]
  },
  {
   "cell_type": "code",
   "execution_count": 164,
   "metadata": {
    "scrolled": true
   },
   "outputs": [
    {
     "data": {
      "text/plain": [
       "([-3.526502845237955, 0.7203940758869178, 0.43634120077645283, 0.42651695306397513, -0.21988835071590623], 4.523502175795952e-22, [-1.0 -6.556651068379128 … -3.2088584232140143 -5.15677677573767; -6.556651068379128 -46.62321518989734 … -20.92418272643975 -33.79234977799892; … ; -3.2088584232140143 -20.92418272643975 … -10.424693444784769 -16.552050639682335; -5.15677677573767 -33.79234977799892 … -16.552050639682335 -26.60235530942714], [0.11956154519492257 0.08287374795525106 … 0.34491123080736663 0.6228542141052729; 1.6246276007849059 1.7848358467316856 … 5.7807517657085725 8.381543633079556; … ; 0.8830924882852536 8.453078044719545 … 3.1010193993040187 4.730361102014744; 0.7151025229032566 6.953872233088394 … 2.2606154992933964 3.63815297483804], true)"
      ]
     },
     "execution_count": 164,
     "metadata": {},
     "output_type": "execute_result"
    }
   ],
   "source": [
    "W = inv(cov(ms))\n",
    "thetahat2, junk, junk, ms, junk = gmm(moments, theta, W)"
   ]
  },
  {
   "cell_type": "code",
   "execution_count": 166,
   "metadata": {
    "scrolled": true
   },
   "outputs": [
    {
     "data": {
      "text/plain": [
       "5-element Array{Float64,1}:\n",
       " -3.526502845237955\n",
       "  0.7203940758869178\n",
       "  0.43634120077645283\n",
       "  0.42651695306397513\n",
       " -0.21988835071590623"
      ]
     },
     "execution_count": 166,
     "metadata": {},
     "output_type": "execute_result"
    }
   ],
   "source": [
    "thetahat2"
   ]
  }
 ],
 "metadata": {
  "kernelspec": {
   "display_name": "Julia 1.5.4",
   "language": "julia",
   "name": "julia-1.5"
  },
  "language_info": {
   "file_extension": ".jl",
   "mimetype": "application/julia",
   "name": "julia",
   "version": "1.5.4"
  }
 },
 "nbformat": 4,
 "nbformat_minor": 4
}
