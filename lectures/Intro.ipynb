{
 "cells": [
  {
   "cell_type": "code",
   "execution_count": 14,
   "metadata": {
    "slideshow": {
     "slide_type": "skip"
    }
   },
   "outputs": [
    {
     "name": "stderr",
     "output_type": "stream",
     "text": [
      "┌ Info: Precompiling DataFrames [a93c6f00-e57d-5684-b7b6-d8193f3e46c0]\n",
      "└ @ Base loading.jl:1278\n"
     ]
    }
   ],
   "source": [
    "using CSV\n",
    "using DataFrames"
   ]
  },
  {
   "cell_type": "markdown",
   "metadata": {
    "heading_collapsed": true,
    "slideshow": {
     "slide_type": "slide"
    }
   },
   "source": [
    "# Econometrics II\n",
    "https://github.com/minyoungrho/Econometrics2\n"
   ]
  },
  {
   "cell_type": "markdown",
   "metadata": {
    "hidden": true,
    "slideshow": {
     "slide_type": "slide"
    }
   },
   "source": [
    "## Prerequisites\n",
    "The contents of this course has been created under the assumption that students understands basic statistics, linear algebra, and have taken graduate level Econometrics course including large sample theory, asymptotic properties of ordinary least squares regression models, hypthesis testing.\n",
    "\n",
    "## Syllabus\n",
    "It will be updated regularly, so please check the updated version frequently.\n"
   ]
  },
  {
   "cell_type": "markdown",
   "metadata": {
    "hidden": true,
    "slideshow": {
     "slide_type": "slide"
    }
   },
   "source": [
    "## Programming Language\n",
    "I will use [Julia programming language](https://julialang.org/), because\n",
    "- Free and open-source software (FOSS)\n",
    "- Fast, for a high level language, its speed parallels to that of the lower level language, such as C\n",
    "- Ecosystem developing rapidly\n",
    "\n",
    "Check out: [a TED talk by one of the co-inventors of Julia](https://www.youtube.com/watch?v=qGW0GT1rCvs)"
   ]
  },
  {
   "cell_type": "markdown",
   "metadata": {
    "slideshow": {
     "slide_type": "slide"
    }
   },
   "source": [
    "# Econometrics\n",
    "Let's look at some data\n"
   ]
  },
  {
   "cell_type": "code",
   "execution_count": 37,
   "metadata": {
    "slideshow": {
     "slide_type": "slide"
    }
   },
   "outputs": [
    {
     "data": {
      "text/html": [
       "<table class=\"data-frame\"><thead><tr><th></th><th>Column1</th><th>Column2</th><th>Column3</th></tr><tr><th></th><th>Float64</th><th>Float64</th><th>Float64</th></tr></thead><tbody><p>10 rows × 3 columns</p><tr><th>1</th><td>59.7417</td><td>39.9898</td><td>0.300883</td></tr><tr><th>2</th><td>59.987</td><td>39.9811</td><td>0.437111</td></tr><tr><th>3</th><td>59.4584</td><td>40.5011</td><td>0.545672</td></tr><tr><th>4</th><td>59.5963</td><td>39.8678</td><td>0.574567</td></tr><tr><th>5</th><td>60.7715</td><td>40.399</td><td>0.604033</td></tr><tr><th>6</th><td>59.7878</td><td>39.4423</td><td>0.629612</td></tr><tr><th>7</th><td>61.1404</td><td>41.0072</td><td>0.724331</td></tr><tr><th>8</th><td>59.7776</td><td>40.7407</td><td>0.742034</td></tr><tr><th>9</th><td>60.9996</td><td>40.5388</td><td>0.813239</td></tr><tr><th>10</th><td>62.0706</td><td>40.9443</td><td>0.822884</td></tr></tbody></table>"
      ],
      "text/latex": [
       "\\begin{tabular}{r|ccc}\n",
       "\t& Column1 & Column2 & Column3\\\\\n",
       "\t\\hline\n",
       "\t& Float64 & Float64 & Float64\\\\\n",
       "\t\\hline\n",
       "\t1 & 59.7417 & 39.9898 & 0.300883 \\\\\n",
       "\t2 & 59.987 & 39.9811 & 0.437111 \\\\\n",
       "\t3 & 59.4584 & 40.5011 & 0.545672 \\\\\n",
       "\t4 & 59.5963 & 39.8678 & 0.574567 \\\\\n",
       "\t5 & 60.7715 & 40.399 & 0.604033 \\\\\n",
       "\t6 & 59.7878 & 39.4423 & 0.629612 \\\\\n",
       "\t7 & 61.1404 & 41.0072 & 0.724331 \\\\\n",
       "\t8 & 59.7776 & 40.7407 & 0.742034 \\\\\n",
       "\t9 & 60.9996 & 40.5388 & 0.813239 \\\\\n",
       "\t10 & 62.0706 & 40.9443 & 0.822884 \\\\\n",
       "\\end{tabular}\n"
      ],
      "text/plain": [
       "\u001b[1m10×3 DataFrame\u001b[0m\n",
       "\u001b[1m Row \u001b[0m│\u001b[1m Column1 \u001b[0m\u001b[1m Column2 \u001b[0m\u001b[1m Column3  \u001b[0m\n",
       "\u001b[1m     \u001b[0m│\u001b[90m Float64 \u001b[0m\u001b[90m Float64 \u001b[0m\u001b[90m Float64  \u001b[0m\n",
       "─────┼────────────────────────────\n",
       "   1 │ 59.7417  39.9898  0.300883\n",
       "   2 │ 59.987   39.9811  0.437111\n",
       "   3 │ 59.4584  40.5011  0.545672\n",
       "   4 │ 59.5963  39.8678  0.574567\n",
       "   5 │ 60.7715  40.399   0.604033\n",
       "   6 │ 59.7878  39.4423  0.629612\n",
       "   7 │ 61.1404  41.0072  0.724331\n",
       "   8 │ 59.7776  40.7407  0.742034\n",
       "   9 │ 60.9996  40.5388  0.813239\n",
       "  10 │ 62.0706  40.9443  0.822884"
      ]
     },
     "execution_count": 37,
     "metadata": {},
     "output_type": "execute_result"
    }
   ],
   "source": [
    "begin\n",
    "    data = DataFrame(CSV.File(\"data/qpm.csv\"; datarow=1))\n",
    "    first(data,10)\n",
    "end"
   ]
  },
  {
   "cell_type": "markdown",
   "metadata": {
    "slideshow": {
     "slide_type": "slide"
    }
   },
   "source": [
    "What are these data? How were these data points generated?\n",
    "\n",
    "A theoretical (economic) model, also known as a data generateing procee (DGP), is a  key ingredient to assign **causal relationships**.\n",
    "\n",
    "The variables we were looking at are:\n",
    "- Quantity (q)\n",
    "- Price (p)\n",
    "- Income (m)\n"
   ]
  },
  {
   "cell_type": "markdown",
   "metadata": {
    "slideshow": {
     "slide_type": "slide"
    }
   },
   "source": [
    "The data was generated using the following economic theory. \n",
    "\n",
    "Economic theory tells us that the quantity of a good that consumers will purchase (the demand\n",
    "function) is something like:\n",
    "$$q=d(p,m,Z)$$ \n",
    "where \n",
    "- $q$ is the quantity demanded\n",
    "- $p$ is the price of the good\n",
    "- $m$ is the income\n",
    "- $Z$ is other variables that may affect demand\n",
    "The supply of the good to the market is the aggregation of the firms’ supply functions which looks something like: \n",
    "$$q=s(p,V)$$ \n",
    "- $q$ is quantity supplied\n",
    "- $V$ is other variables that may affect supply\n",
    "\n"
   ]
  },
  {
   "cell_type": "markdown",
   "metadata": {
    "slideshow": {
     "slide_type": "slide"
    }
   },
   "source": [
    "This is the basic economic model of supply and demand: q and p are determined in the market equilibrium, given by the intersection of the two curves. \n",
    "\n",
    "- These two variables are determined jointly by the model and are called the **endogenous variables**.\n",
    "- Income ($m$) is not determined by this model, or its value is determined independently of $q$ and $p$, and is called **exogenous variables**. \n",
    "- m causes $p$ and $q$; $p$ and $q$ do not cause $m$; $p$ and $q$ have a joint causal relationship\n",
    "\n",
    "The model is essentially a theoretical construct up to now. Throughout this course, we will attempt to quantify these theoretical relationships more precisely. For example,\n",
    "- Model and estimate functional forms of s and d\n",
    "- Divide $Z$ into components that are observable and non-observable"
   ]
  },
  {
   "cell_type": "markdown",
   "metadata": {
    "slideshow": {
     "slide_type": "slide"
    }
   },
   "source": [
    "For example, OLS\n",
    "$$q_i=\\alpha_1 + \\alpha_2 p_i + \\alpha_3 m_i + \\epsilon_i$$\n",
    "$$q_j=\\beta_1 + \\beta_2 p_j + \\epsilon_j$$\n",
    "- the functions d and s have been specified (as a linear function, remember OLS?)\n",
    "- the parameters are in place and constant across consumers and firms\n",
    "- there exist an (additively) unobservable component which make up the difference between the realized demand/supply (a.k.a. data) and our model\n",
    "- $E[\\epsilon_i]=0$ and $E[m_i\\epsilon_i]=0$\n",
    "\n",
    "In this course, we will generalize and study estimation of any structural (economic) models. Let us first focus on extreme estimators."
   ]
  }
 ],
 "metadata": {
  "celltoolbar": "Slideshow",
  "kernelspec": {
   "display_name": "Julia 1.5.4",
   "language": "julia",
   "name": "julia-1.5"
  },
  "language_info": {
   "file_extension": ".jl",
   "mimetype": "application/julia",
   "name": "julia",
   "version": "1.5.4"
  }
 },
 "nbformat": 4,
 "nbformat_minor": 4
}
