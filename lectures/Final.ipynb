{
 "cells": [
  {
   "cell_type": "markdown",
   "metadata": {},
   "source": [
    "# Final\n",
    "\n",
    "### Structure\n",
    "\n",
    "1. Open book, open notes, and open internet!\n",
    "2. The content of the final is:\n",
    "    1. EE, MLE, GMM (70% of the final)\n",
    "    2. Bayesian, Time Series, Panel, Nonparametric, and Quantile (30% of the final)\n",
    "    3. NumOp (0% or up to about 65%, because implicitly tested)\n",
    "3. Final will consist of 3 big questions. My guess is that no one will be able to finish all three, so you can pick and choose the question that you are most confident at answering during the 2 hours. Don't worry about finishing the final exam\n",
    "4. I will create a distribution of final score and do a relative grading. Pick the ones that you know how to solve first, and tackle the next one. \n",
    "\n",
    "### Questions & Answers\n",
    "\n",
    "Q: How much algebra do I have to do?\n",
    "\n",
    "A: You do have to do some algebra. However, if you are stuck at algebra, I can give you the answer for that part, but you will be deducted points for the part that I already gave answers to.\n",
    "\n",
    "----\n",
    "Q: Should we bring the computer to the exam?\n",
    "\n",
    "A: Definitely!"
   ]
  }
 ],
 "metadata": {
  "kernelspec": {
   "display_name": "Julia 1.4.2",
   "language": "julia",
   "name": "julia-1.4"
  },
  "language_info": {
   "file_extension": ".jl",
   "mimetype": "application/julia",
   "name": "julia",
   "version": "1.4.2"
  }
 },
 "nbformat": 4,
 "nbformat_minor": 4
}
