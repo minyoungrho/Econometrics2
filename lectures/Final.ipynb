{
 "cells": [
  {
   "cell_type": "markdown",
   "metadata": {},
   "source": [
    "# Final\n",
    "will cover:\n",
    "\n",
    "### EE, MLE, GMM (60-70% of the final):\n",
    "- Theoretical: Any theoretical results + proofs gone over in class or TA session are fair game for the final.\n",
    "- Empirical: Examples (especially Nerlove) should be the best guide for you to learn how the final question is going to look like.\n",
    "- I will give the \"some\" baseline code (more or less). You will have to either sketch the code or \n",
    "\n",
    "### NumOp (0%, because implicitly tested):\n",
    "\n",
    "\n",
    "### Bayesian, Time Series, Panel, Nonparametric, and Quantile (30-40% of the final):\n",
    "- Theoretical: Any theoretical results + proofs gone over in class or TA session are fair fame for the final.\n",
    "- I will give the \"some\" baseline code (more or less). You will have to either sketch the your code or do a simple write up.\n",
    "\n",
    "### Frequently Asked Questions\n",
    "*This will be updated as I receive questions."
   ]
  }
 ],
 "metadata": {
  "kernelspec": {
   "display_name": "Julia 1.4.2",
   "language": "julia",
   "name": "julia-1.4"
  },
  "language_info": {
   "file_extension": ".jl",
   "mimetype": "application/julia",
   "name": "julia",
   "version": "1.4.2"
  }
 },
 "nbformat": 4,
 "nbformat_minor": 4
}
