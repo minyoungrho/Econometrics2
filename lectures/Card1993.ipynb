{
 "cells": [
  {
   "cell_type": "code",
   "execution_count": 18,
   "metadata": {},
   "outputs": [],
   "source": [
    "using DelimitedFiles\n",
    "using Statistics\n",
    "using LinearAlgebra\n",
    "using Plots"
   ]
  },
  {
   "cell_type": "markdown",
   "metadata": {},
   "source": [
    "# Card (1993): Returns to Schooling"
   ]
  },
  {
   "cell_type": "markdown",
   "metadata": {},
   "source": [
    "## Quantile Regression\n",
    "\n",
    "Card (1993) presents an analysis of returns to schooling\n",
    "using the data from the National Longitudinal Survey of Young Men,\n",
    "for those interviewed in 1976. Card presents OLS and instrumental\n",
    "variables estimates for a number of specifications, using college\n",
    "proximity as an instrument for years of education, and age as an instrument\n",
    "for experience. Here, we work with the simple model from column (1)\n",
    "of Card's Table 2. Let's consider estimation of conditional quantiles\n",
    "for the model. The model is \n",
    "\\begin{align*}\n",
    "Q_{\\ln W|X}(\\tau) & =\\beta_{0}(\\tau)+\\beta_{EDUC}(\\tau)EDUC+\\beta_{X}(\\tau)EXP+\\beta_{EXP^{2}}(\\tau)\\frac{EXP^{2}}{100}\\\\\n",
    " & +\\beta_{BLACK}(\\tau)BLACK+\\beta_{SMSA}(\\tau)SMSA+\\beta_{SOUTH}(\\tau)SOUTH\\\\\n",
    " & \\equiv X\\beta(\\tau)\n",
    "\\end{align*}\n",
    "\n",
    "- the dependent variable $\\ln W$ is log hourly earnings (in cents)\n",
    "- the regressors are years of education (EDUC), experience (EXP), experience\n",
    "squared divided by 100, a black indicator (BLACK), a metropolitan\n",
    "area indicator (SMSA), and a South indicator (SOUTH)."
   ]
  },
  {
   "cell_type": "code",
   "execution_count": 19,
   "metadata": {
    "scrolled": true
   },
   "outputs": [],
   "source": [
    "data = readdlm(\"../data/card.data\")\n",
    "LNW = data[:,1]\n",
    "EDUC = data[:,2]\n",
    "EDUC = EDUC .- mean(EDUC)\n",
    "EXPER = data[:,3]\n",
    "EXPER = EXPER .- mean(EXPER)\n",
    "BLACK = data[:,4]\n",
    "SMSA = data[:,5]\n",
    "SOUTH = data[:,6]\n",
    "NEARC4 = data[:,7]\n",
    "AGE = data[:,8]\n",
    "EXPSQ = (EXPER.^2.0);"
   ]
  },
  {
   "cell_type": "code",
   "execution_count": 9,
   "metadata": {
    "scrolled": true
   },
   "outputs": [],
   "source": [
    "constant = ones(size(LNW))\n",
    "LNW = data[:,1]\n",
    "Z = [constant NEARC4 AGE AGE.^2 BLACK SMSA SOUTH]\n",
    "X = [constant EDUC EXPER EXPSQ BLACK SMSA SOUTH];"
   ]
  },
  {
   "cell_type": "markdown",
   "metadata": {},
   "source": [
    "When all variables are exogenous, then quantile regression estimates may be obtained by standard methods.\n"
   ]
  },
  {
   "cell_type": "markdown",
   "metadata": {},
   "source": [
    "QR results for EDUC are below. (Test this at home)\n",
    "\n",
    "![alt text](../images/QReduc.png)\n",
    "\n"
   ]
  },
  {
   "cell_type": "markdown",
   "metadata": {},
   "source": [
    "Note that the QR results are pretty close to the OLS results, for\n",
    "all quantiles, and there's no clear pattern of the effect of education\n",
    "differing across quantiles. \n",
    "\n",
    "\n",
    "The effect of an additional year of education on earnings is about\n",
    "7-8%, all across the distribution."
   ]
  },
  {
   "cell_type": "markdown",
   "metadata": {},
   "source": [
    "## Quantile IV Regression and Bayesian GMM vis MCMC\n",
    "\n",
    "When education and experience are treated as endogenous, we use proximity\n",
    "to an accredited four year college (NEARC4) as an instrumental variable.\n",
    "EXPER is defined as $EXPER = AGE-EDUC-6$, so if EDUC is endogenous,\n",
    "so is EXPER. We use AGE as an instrument for EXPER. \n",
    "\n",
    "We may use an instrumental variables version of quantile regression,\n",
    "due to Chernozhukov and Hansen (2005). They show that the moment conditions\n",
    "$$\n",
    "m_{n}(\\theta)=\\frac{1}{n}\\sum_{i=1}^{n}Z_{i}\\left(\\tau-1\\left[y_{i}\\le X_{i}\\beta(\\tau)\\right]\\right)\n",
    "$$\n",
    "(where $\\theta=\\beta(\\tau))$ have expectation zero at the true parameter\n",
    "values, and thus can be used for GMM estimation. \n",
    "\n",
    "We can show that, at the true parameter values \n",
    "$$\n",
    "\\sqrt{n}m_{n}(\\theta_{0})\\rightarrow^{d}N(0,(\\tau-\\tau^{2})Q_{Z})\n",
    "$$\n",
    "so an estimate of the efficient weight matrix is the inverse of $\\hat{\\Sigma}=\\frac{(\\tau-\\tau^{2})}{n}\\sum_{i}Z_{i}Z_{i}^{\\prime}.$ \n",
    "\n",
    "The problem is that these moment conditions are discontinuous functions\n",
    "of the parameters, due to the indicator function, so gradient-based\n",
    "optimization methods will not work for computing the GMM estimates."
   ]
  },
  {
   "cell_type": "markdown",
   "metadata": {},
   "source": [
    "To deal with this problem, we can consider using the MCMC methods\n",
    "proposed by Chernozhukov and Hong (2003) to compute a Bayesian version\n",
    "of the GMM estimator. \n",
    "\n",
    "This estimator works with the asymptotic distribution of the moment\n",
    "conditions to define the likelihood used in MCMC, rather than the\n",
    "full sample likelihood function, but otherwise, it is standard MCMC.\n",
    "- the use of moment conditions is a dimension reducing operation: the\n",
    "full sample likelihood requires knowing the distribution of $n$ (growing\n",
    "with the sample size) random variables, while the use of moment conditions\n",
    "and their asymptotic distribution only requires knowing the (asymptotic)\n",
    "distribution of $G$ (fixed and finite) random variables\n",
    "- thus, GMM is like a limited information ML estimator, with the asymptotic\n",
    "distribution substituting the actual small sample distribution."
   ]
  },
  {
   "cell_type": "code",
   "execution_count": 20,
   "metadata": {},
   "outputs": [
    {
     "data": {
      "text/plain": [
       "mcmc (generic function with 1 method)"
      ]
     },
     "execution_count": 20,
     "metadata": {},
     "output_type": "execute_result"
    }
   ],
   "source": [
    "# the moments\n",
    "function moments(beta::Array{Float64,1}, y::Array{Float64,1}, x::Array{Float64,2},\n",
    "    z::Array{Float64,2}, tau::Float64)\n",
    "    m = mean(z.*(tau .- (y .<= x*beta)),dims=1)\n",
    "end\n",
    "\n",
    "function likelihood(θ, y, x, z, τ, Σinv)\n",
    "    m = moments(θ, y, x, z, τ)\n",
    "    n = size(x,1)\n",
    "    lnL = log(sqrt(det(Σinv))) + (-0.5*n*m*Σinv*m')[1]\n",
    "end\n",
    "\n",
    "function prior(theta)\n",
    "    lb = [4.0, 0.0, 0.0, -0.1, -0.5, -0.5,  -0.5]\n",
    "    ub = [9.0, 0.5, 0.2, 0.0, 0.5, 0.5,  0.5]\n",
    "    a = 0.0\n",
    "    if(all((theta .>= lb) .& (theta .<= ub)))\n",
    "        a = 1.0\n",
    "    end    \n",
    "    return a\n",
    "end\n",
    "\n",
    "function proposal(current, tuning)\n",
    "    i = rand(1:size(current,1))\n",
    "    trial = copy(current)\n",
    "    #trial[i] = trial[i] + tuning[i]*randn()\n",
    "    trial = trial + tuning.*randn(size(trial))\n",
    "    return trial\n",
    "end\n",
    "\n",
    "function proposal2(current, cholV)\n",
    "    trial = copy(current)\n",
    "    trial = trial + cholV'*randn(size(trial))\n",
    "    return trial\n",
    "end\n",
    "\n",
    "function mcmc(θ, reps::Int64, burnin::Int64, Prior::Function, lnL::Function, Proposal::Function)\n",
    "    lnLθ = lnL(θ)\n",
    "    chain = zeros(reps, size(θ,1)+1)\n",
    "    for rep = 1:burnin+reps\n",
    "        θᵗ = Proposal(θ) # new trial value\n",
    "        pt = Prior(θᵗ)\n",
    "        accept = false\n",
    "        if pt > 0.0\n",
    "            lnLθᵗ = lnL(θᵗ)\n",
    "            accept = rand() < exp(lnLθᵗ-lnLθ) * pt/Prior(θ)\n",
    "            if accept\n",
    "                θ = θᵗ\n",
    "                lnLθ = lnLθᵗ \n",
    "            end\n",
    "        end\n",
    "        if rep > burnin\n",
    "            chain[rep-burnin,:] = [θ; accept]\n",
    "        end    \n",
    "    end\n",
    "    return chain\n",
    "end"
   ]
  },
  {
   "cell_type": "code",
   "execution_count": 31,
   "metadata": {},
   "outputs": [
    {
     "data": {
      "text/plain": [
       "dstats (generic function with 2 methods)"
      ]
     },
     "execution_count": 31,
     "metadata": {},
     "output_type": "execute_result"
    }
   ],
   "source": [
    "function dstats(x, rnames=\"\";short=false)\n",
    "    k = size(x,2)\n",
    "    if rnames==\"\"\n",
    "        rnames = 1:k\n",
    "        rnames = rnames'\n",
    "    end\n",
    "    m = mean(x,dims=1)\n",
    "    mm = median(x,dims=1)\n",
    "    s = std(x,dims=1)\n",
    "    sk = m-m\n",
    "    kt = m-m\n",
    "    mn = minimum(x,dims=1)\n",
    "    mx = maximum(x,dims=1)\n",
    "    q05 = fill(0.0,k)\n",
    "    q25 = fill(0.0,k)\n",
    "    q75 = fill(0.0,k)\n",
    "    q95 = fill(0.0,k)\n",
    "    if short == false\n",
    "        for i = 1:size(x,2) q05[i], q25[i], q75[i],q95[i] = quantile(x[:,i], [0.05,0.25,0.75,0.95]) end\n",
    "        cnames = [\"  mean\", \" median\",\"  std\", \"IQR\", \"min\", \"max\", \"q05\", \"q95\"]\n",
    "        stats = [m' mm' s' (q75-q25) mn' mx' q05 q95] \n",
    "    else\n",
    "        cnames = [\"  mean\", \" median\", \"  std\", \"min\", \"max\"]\n",
    "        stats = [m' mm' s' mn' mx'] \n",
    "    end\n",
    "    return stats\n",
    "end"
   ]
  },
  {
   "cell_type": "code",
   "execution_count": 32,
   "metadata": {},
   "outputs": [],
   "source": [
    "n = size(LNW,1)\n",
    "mcmcreps = 100000\n",
    "burnin = 10000\n",
    "basetuning = [0.1, 0.05, 0.03, 0.005, 0.3, 0.2, 0.2]\n",
    "\n",
    "scale = 0.1 # higher for higher quantiles\n",
    "tuning = scale*basetuning\n",
    "EducEffect = zeros(9,3)\n",
    "Constant = zeros(9,3)\n",
    "for i = 1:9\n",
    "    τ = round(i/10,digits=1)\n",
    "    Σ = τ*(1.0-τ)*Z'Z/n\n",
    "    Σinv = inv(Σ)\n",
    "    θ = X\\LNW  # OLS start values\n",
    "    # to do ordinary QR via MCMC, set Z=X (just to verify that MCMC works!)\n",
    "    lnL = θ -> likelihood(θ, LNW, X, Z, τ, Σinv)\n",
    "    Proposal = θ -> proposal(θ, tuning)\n",
    "    Prior = θ -> prior(θ)\n",
    "    chain = mcmc(θ, mcmcreps, burnin, Prior, lnL, Proposal)\n",
    "    V = cov(chain[:,1:end-1])\n",
    "    d = dstats(chain)\n",
    "    Constant[i,:] = d[1,[1,7,8]] # save posterior mean, 5% and 95% quantile\n",
    "    EducEffect[i,:] = d[2,[1,7,8]] # save posterior mean, 5% and 95% quantile\n",
    "end"
   ]
  },
  {
   "cell_type": "code",
   "execution_count": 33,
   "metadata": {
    "scrolled": true
   },
   "outputs": [
    {
     "data": {
      "image/svg+xml": [
       "<?xml version=\"1.0\" encoding=\"utf-8\"?>\n",
       "<svg xmlns=\"http://www.w3.org/2000/svg\" xmlns:xlink=\"http://www.w3.org/1999/xlink\" width=\"600\" height=\"400\" viewBox=\"0 0 2400 1600\">\n",
       "<defs>\n",
       "  <clipPath id=\"clip990\">\n",
       "    <rect x=\"0\" y=\"0\" width=\"2400\" height=\"1600\"/>\n",
       "  </clipPath>\n",
       "</defs>\n",
       "<path clip-path=\"url(#clip990)\" d=\"\n",
       "M0 1600 L2400 1600 L2400 0 L0 0  Z\n",
       "  \" fill=\"#ffffff\" fill-rule=\"evenodd\" fill-opacity=\"1\"/>\n",
       "<defs>\n",
       "  <clipPath id=\"clip991\">\n",
       "    <rect x=\"480\" y=\"0\" width=\"1681\" height=\"1600\"/>\n",
       "  </clipPath>\n",
       "</defs>\n",
       "<path clip-path=\"url(#clip990)\" d=\"\n",
       "M156.598 1486.45 L2352.76 1486.45 L2352.76 47.2441 L156.598 47.2441  Z\n",
       "  \" fill=\"#ffffff\" fill-rule=\"evenodd\" fill-opacity=\"1\"/>\n",
       "<defs>\n",
       "  <clipPath id=\"clip992\">\n",
       "    <rect x=\"156\" y=\"47\" width=\"2197\" height=\"1440\"/>\n",
       "  </clipPath>\n",
       "</defs>\n",
       "<polyline clip-path=\"url(#clip992)\" style=\"stroke:#000000; stroke-width:2; stroke-opacity:0.1; fill:none\" points=\"\n",
       "  477.734,1486.45 477.734,47.2441 \n",
       "  \"/>\n",
       "<polyline clip-path=\"url(#clip992)\" style=\"stroke:#000000; stroke-width:2; stroke-opacity:0.1; fill:none\" points=\"\n",
       "  995.696,1486.45 995.696,47.2441 \n",
       "  \"/>\n",
       "<polyline clip-path=\"url(#clip992)\" style=\"stroke:#000000; stroke-width:2; stroke-opacity:0.1; fill:none\" points=\"\n",
       "  1513.66,1486.45 1513.66,47.2441 \n",
       "  \"/>\n",
       "<polyline clip-path=\"url(#clip992)\" style=\"stroke:#000000; stroke-width:2; stroke-opacity:0.1; fill:none\" points=\"\n",
       "  2031.62,1486.45 2031.62,47.2441 \n",
       "  \"/>\n",
       "<polyline clip-path=\"url(#clip990)\" style=\"stroke:#000000; stroke-width:4; stroke-opacity:1; fill:none\" points=\"\n",
       "  156.598,1486.45 2352.76,1486.45 \n",
       "  \"/>\n",
       "<polyline clip-path=\"url(#clip990)\" style=\"stroke:#000000; stroke-width:4; stroke-opacity:1; fill:none\" points=\"\n",
       "  477.734,1486.45 477.734,1469.18 \n",
       "  \"/>\n",
       "<polyline clip-path=\"url(#clip990)\" style=\"stroke:#000000; stroke-width:4; stroke-opacity:1; fill:none\" points=\"\n",
       "  995.696,1486.45 995.696,1469.18 \n",
       "  \"/>\n",
       "<polyline clip-path=\"url(#clip990)\" style=\"stroke:#000000; stroke-width:4; stroke-opacity:1; fill:none\" points=\"\n",
       "  1513.66,1486.45 1513.66,1469.18 \n",
       "  \"/>\n",
       "<polyline clip-path=\"url(#clip990)\" style=\"stroke:#000000; stroke-width:4; stroke-opacity:1; fill:none\" points=\"\n",
       "  2031.62,1486.45 2031.62,1469.18 \n",
       "  \"/>\n",
       "<path clip-path=\"url(#clip990)\" d=\"M 0 0 M455.917 1515.64 Q452.306 1515.64 450.478 1519.2 Q448.672 1522.75 448.672 1529.87 Q448.672 1536.98 450.478 1540.55 Q452.306 1544.09 455.917 1544.09 Q459.552 1544.09 461.357 1540.55 Q463.186 1536.98 463.186 1529.87 Q463.186 1522.75 461.357 1519.2 Q459.552 1515.64 455.917 1515.64 M455.917 1511.93 Q461.728 1511.93 464.783 1516.54 Q467.862 1521.12 467.862 1529.87 Q467.862 1538.6 464.783 1543.21 Q461.728 1547.79 455.917 1547.79 Q450.107 1547.79 447.029 1543.21 Q443.973 1538.6 443.973 1529.87 Q443.973 1521.12 447.029 1516.54 Q450.107 1511.93 455.917 1511.93 Z\" fill=\"#000000\" fill-rule=\"evenodd\" fill-opacity=\"1\" /><path clip-path=\"url(#clip990)\" d=\"M 0 0 M476.079 1541.24 L480.964 1541.24 L480.964 1547.12 L476.079 1547.12 L476.079 1541.24 Z\" fill=\"#000000\" fill-rule=\"evenodd\" fill-opacity=\"1\" /><path clip-path=\"url(#clip990)\" d=\"M 0 0 M495.177 1543.18 L511.496 1543.18 L511.496 1547.12 L489.552 1547.12 L489.552 1543.18 Q492.214 1540.43 496.797 1535.8 Q501.403 1531.15 502.584 1529.81 Q504.829 1527.28 505.709 1525.55 Q506.612 1523.79 506.612 1522.1 Q506.612 1519.34 504.667 1517.61 Q502.746 1515.87 499.644 1515.87 Q497.445 1515.87 494.991 1516.63 Q492.561 1517.4 489.783 1518.95 L489.783 1514.23 Q492.607 1513.09 495.061 1512.51 Q497.514 1511.93 499.552 1511.93 Q504.922 1511.93 508.116 1514.62 Q511.311 1517.31 511.311 1521.8 Q511.311 1523.93 510.501 1525.85 Q509.713 1527.74 507.607 1530.34 Q507.028 1531.01 503.926 1534.23 Q500.825 1537.42 495.177 1543.18 Z\" fill=\"#000000\" fill-rule=\"evenodd\" fill-opacity=\"1\" /><path clip-path=\"url(#clip990)\" d=\"M 0 0 M972.838 1515.64 Q969.226 1515.64 967.398 1519.2 Q965.592 1522.75 965.592 1529.87 Q965.592 1536.98 967.398 1540.55 Q969.226 1544.09 972.838 1544.09 Q976.472 1544.09 978.277 1540.55 Q980.106 1536.98 980.106 1529.87 Q980.106 1522.75 978.277 1519.2 Q976.472 1515.64 972.838 1515.64 M972.838 1511.93 Q978.648 1511.93 981.703 1516.54 Q984.782 1521.12 984.782 1529.87 Q984.782 1538.6 981.703 1543.21 Q978.648 1547.79 972.838 1547.79 Q967.027 1547.79 963.949 1543.21 Q960.893 1538.6 960.893 1529.87 Q960.893 1521.12 963.949 1516.54 Q967.027 1511.93 972.838 1511.93 Z\" fill=\"#000000\" fill-rule=\"evenodd\" fill-opacity=\"1\" /><path clip-path=\"url(#clip990)\" d=\"M 0 0 M992.999 1541.24 L997.884 1541.24 L997.884 1547.12 L992.999 1547.12 L992.999 1541.24 Z\" fill=\"#000000\" fill-rule=\"evenodd\" fill-opacity=\"1\" /><path clip-path=\"url(#clip990)\" d=\"M 0 0 M1020.92 1516.63 L1009.11 1535.08 L1020.92 1535.08 L1020.92 1516.63 M1019.69 1512.56 L1025.57 1512.56 L1025.57 1535.08 L1030.5 1535.08 L1030.5 1538.97 L1025.57 1538.97 L1025.57 1547.12 L1020.92 1547.12 L1020.92 1538.97 L1005.31 1538.97 L1005.31 1534.46 L1019.69 1512.56 Z\" fill=\"#000000\" fill-rule=\"evenodd\" fill-opacity=\"1\" /><path clip-path=\"url(#clip990)\" d=\"M 0 0 M1490.96 1515.64 Q1487.35 1515.64 1485.52 1519.2 Q1483.72 1522.75 1483.72 1529.87 Q1483.72 1536.98 1485.52 1540.55 Q1487.35 1544.09 1490.96 1544.09 Q1494.6 1544.09 1496.4 1540.55 Q1498.23 1536.98 1498.23 1529.87 Q1498.23 1522.75 1496.4 1519.2 Q1494.6 1515.64 1490.96 1515.64 M1490.96 1511.93 Q1496.77 1511.93 1499.83 1516.54 Q1502.91 1521.12 1502.91 1529.87 Q1502.91 1538.6 1499.83 1543.21 Q1496.77 1547.79 1490.96 1547.79 Q1485.15 1547.79 1482.07 1543.21 Q1479.02 1538.6 1479.02 1529.87 Q1479.02 1521.12 1482.07 1516.54 Q1485.15 1511.93 1490.96 1511.93 Z\" fill=\"#000000\" fill-rule=\"evenodd\" fill-opacity=\"1\" /><path clip-path=\"url(#clip990)\" d=\"M 0 0 M1511.12 1541.24 L1516.01 1541.24 L1516.01 1547.12 L1511.12 1547.12 L1511.12 1541.24 Z\" fill=\"#000000\" fill-rule=\"evenodd\" fill-opacity=\"1\" /><path clip-path=\"url(#clip990)\" d=\"M 0 0 M1536.77 1527.98 Q1533.62 1527.98 1531.77 1530.13 Q1529.94 1532.28 1529.94 1536.03 Q1529.94 1539.76 1531.77 1541.93 Q1533.62 1544.09 1536.77 1544.09 Q1539.92 1544.09 1541.75 1541.93 Q1543.6 1539.76 1543.6 1536.03 Q1543.6 1532.28 1541.75 1530.13 Q1539.92 1527.98 1536.77 1527.98 M1546.05 1513.32 L1546.05 1517.58 Q1544.29 1516.75 1542.49 1516.31 Q1540.71 1515.87 1538.95 1515.87 Q1534.32 1515.87 1531.86 1519 Q1529.43 1522.12 1529.09 1528.44 Q1530.45 1526.43 1532.51 1525.36 Q1534.57 1524.27 1537.05 1524.27 Q1542.26 1524.27 1545.27 1527.44 Q1548.3 1530.59 1548.3 1536.03 Q1548.3 1541.36 1545.15 1544.57 Q1542 1547.79 1536.77 1547.79 Q1530.78 1547.79 1527.6 1543.21 Q1524.43 1538.6 1524.43 1529.87 Q1524.43 1521.68 1528.32 1516.82 Q1532.21 1511.93 1538.76 1511.93 Q1540.52 1511.93 1542.3 1512.28 Q1544.11 1512.63 1546.05 1513.32 Z\" fill=\"#000000\" fill-rule=\"evenodd\" fill-opacity=\"1\" /><path clip-path=\"url(#clip990)\" d=\"M 0 0 M2009.05 1515.64 Q2005.44 1515.64 2003.61 1519.2 Q2001.8 1522.75 2001.8 1529.87 Q2001.8 1536.98 2003.61 1540.55 Q2005.44 1544.09 2009.05 1544.09 Q2012.68 1544.09 2014.49 1540.55 Q2016.32 1536.98 2016.32 1529.87 Q2016.32 1522.75 2014.49 1519.2 Q2012.68 1515.64 2009.05 1515.64 M2009.05 1511.93 Q2014.86 1511.93 2017.92 1516.54 Q2020.99 1521.12 2020.99 1529.87 Q2020.99 1538.6 2017.92 1543.21 Q2014.86 1547.79 2009.05 1547.79 Q2003.24 1547.79 2000.16 1543.21 Q1997.11 1538.6 1997.11 1529.87 Q1997.11 1521.12 2000.16 1516.54 Q2003.24 1511.93 2009.05 1511.93 Z\" fill=\"#000000\" fill-rule=\"evenodd\" fill-opacity=\"1\" /><path clip-path=\"url(#clip990)\" d=\"M 0 0 M2029.21 1541.24 L2034.1 1541.24 L2034.1 1547.12 L2029.21 1547.12 L2029.21 1541.24 Z\" fill=\"#000000\" fill-rule=\"evenodd\" fill-opacity=\"1\" /><path clip-path=\"url(#clip990)\" d=\"M 0 0 M2054.28 1530.71 Q2050.95 1530.71 2049.03 1532.49 Q2047.13 1534.27 2047.13 1537.4 Q2047.13 1540.52 2049.03 1542.31 Q2050.95 1544.09 2054.28 1544.09 Q2057.61 1544.09 2059.54 1542.31 Q2061.46 1540.5 2061.46 1537.4 Q2061.46 1534.27 2059.54 1532.49 Q2057.64 1530.71 2054.28 1530.71 M2049.61 1528.72 Q2046.6 1527.98 2044.91 1525.92 Q2043.24 1523.86 2043.24 1520.89 Q2043.24 1516.75 2046.18 1514.34 Q2049.14 1511.93 2054.28 1511.93 Q2059.44 1511.93 2062.38 1514.34 Q2065.32 1516.75 2065.32 1520.89 Q2065.32 1523.86 2063.63 1525.92 Q2061.97 1527.98 2058.98 1528.72 Q2062.36 1529.5 2064.24 1531.8 Q2066.13 1534.09 2066.13 1537.4 Q2066.13 1542.42 2063.05 1545.11 Q2060 1547.79 2054.28 1547.79 Q2048.56 1547.79 2045.49 1545.11 Q2042.43 1542.42 2042.43 1537.4 Q2042.43 1534.09 2044.33 1531.8 Q2046.23 1529.5 2049.61 1528.72 M2047.89 1521.33 Q2047.89 1524.02 2049.56 1525.52 Q2051.25 1527.03 2054.28 1527.03 Q2057.29 1527.03 2058.98 1525.52 Q2060.69 1524.02 2060.69 1521.33 Q2060.69 1518.65 2058.98 1517.14 Q2057.29 1515.64 2054.28 1515.64 Q2051.25 1515.64 2049.56 1517.14 Q2047.89 1518.65 2047.89 1521.33 Z\" fill=\"#000000\" fill-rule=\"evenodd\" fill-opacity=\"1\" /><polyline clip-path=\"url(#clip992)\" style=\"stroke:#000000; stroke-width:2; stroke-opacity:0.1; fill:none\" points=\"\n",
       "  156.598,1476.8 2352.76,1476.8 \n",
       "  \"/>\n",
       "<polyline clip-path=\"url(#clip992)\" style=\"stroke:#000000; stroke-width:2; stroke-opacity:0.1; fill:none\" points=\"\n",
       "  156.598,1196.87 2352.76,1196.87 \n",
       "  \"/>\n",
       "<polyline clip-path=\"url(#clip992)\" style=\"stroke:#000000; stroke-width:2; stroke-opacity:0.1; fill:none\" points=\"\n",
       "  156.598,916.945 2352.76,916.945 \n",
       "  \"/>\n",
       "<polyline clip-path=\"url(#clip992)\" style=\"stroke:#000000; stroke-width:2; stroke-opacity:0.1; fill:none\" points=\"\n",
       "  156.598,637.017 2352.76,637.017 \n",
       "  \"/>\n",
       "<polyline clip-path=\"url(#clip992)\" style=\"stroke:#000000; stroke-width:2; stroke-opacity:0.1; fill:none\" points=\"\n",
       "  156.598,357.089 2352.76,357.089 \n",
       "  \"/>\n",
       "<polyline clip-path=\"url(#clip992)\" style=\"stroke:#000000; stroke-width:2; stroke-opacity:0.1; fill:none\" points=\"\n",
       "  156.598,77.1606 2352.76,77.1606 \n",
       "  \"/>\n",
       "<polyline clip-path=\"url(#clip990)\" style=\"stroke:#000000; stroke-width:4; stroke-opacity:1; fill:none\" points=\"\n",
       "  156.598,1486.45 156.598,47.2441 \n",
       "  \"/>\n",
       "<polyline clip-path=\"url(#clip990)\" style=\"stroke:#000000; stroke-width:4; stroke-opacity:1; fill:none\" points=\"\n",
       "  156.598,1476.8 182.952,1476.8 \n",
       "  \"/>\n",
       "<polyline clip-path=\"url(#clip990)\" style=\"stroke:#000000; stroke-width:4; stroke-opacity:1; fill:none\" points=\"\n",
       "  156.598,1196.87 182.952,1196.87 \n",
       "  \"/>\n",
       "<polyline clip-path=\"url(#clip990)\" style=\"stroke:#000000; stroke-width:4; stroke-opacity:1; fill:none\" points=\"\n",
       "  156.598,916.945 182.952,916.945 \n",
       "  \"/>\n",
       "<polyline clip-path=\"url(#clip990)\" style=\"stroke:#000000; stroke-width:4; stroke-opacity:1; fill:none\" points=\"\n",
       "  156.598,637.017 182.952,637.017 \n",
       "  \"/>\n",
       "<polyline clip-path=\"url(#clip990)\" style=\"stroke:#000000; stroke-width:4; stroke-opacity:1; fill:none\" points=\"\n",
       "  156.598,357.089 182.952,357.089 \n",
       "  \"/>\n",
       "<polyline clip-path=\"url(#clip990)\" style=\"stroke:#000000; stroke-width:4; stroke-opacity:1; fill:none\" points=\"\n",
       "  156.598,77.1606 182.952,77.1606 \n",
       "  \"/>\n",
       "<path clip-path=\"url(#clip990)\" d=\"M 0 0 M63.4226 1462.6 Q59.8115 1462.6 57.9828 1466.16 Q56.1773 1469.71 56.1773 1476.84 Q56.1773 1483.94 57.9828 1487.51 Q59.8115 1491.05 63.4226 1491.05 Q67.0569 1491.05 68.8624 1487.51 Q70.6911 1483.94 70.6911 1476.84 Q70.6911 1469.71 68.8624 1466.16 Q67.0569 1462.6 63.4226 1462.6 M63.4226 1458.9 Q69.2328 1458.9 72.2883 1463.5 Q75.367 1468.09 75.367 1476.84 Q75.367 1485.56 72.2883 1490.17 Q69.2328 1494.75 63.4226 1494.75 Q57.6125 1494.75 54.5338 1490.17 Q51.4782 1485.56 51.4782 1476.84 Q51.4782 1468.09 54.5338 1463.5 Q57.6125 1458.9 63.4226 1458.9 Z\" fill=\"#000000\" fill-rule=\"evenodd\" fill-opacity=\"1\" /><path clip-path=\"url(#clip990)\" d=\"M 0 0 M83.5845 1488.2 L88.4688 1488.2 L88.4688 1494.08 L83.5845 1494.08 L83.5845 1488.2 Z\" fill=\"#000000\" fill-rule=\"evenodd\" fill-opacity=\"1\" /><path clip-path=\"url(#clip990)\" d=\"M 0 0 M108.654 1462.6 Q105.043 1462.6 103.214 1466.16 Q101.409 1469.71 101.409 1476.84 Q101.409 1483.94 103.214 1487.51 Q105.043 1491.05 108.654 1491.05 Q112.288 1491.05 114.094 1487.51 Q115.922 1483.94 115.922 1476.84 Q115.922 1469.71 114.094 1466.16 Q112.288 1462.6 108.654 1462.6 M108.654 1458.9 Q114.464 1458.9 117.52 1463.5 Q120.598 1468.09 120.598 1476.84 Q120.598 1485.56 117.52 1490.17 Q114.464 1494.75 108.654 1494.75 Q102.844 1494.75 99.765 1490.17 Q96.7095 1485.56 96.7095 1476.84 Q96.7095 1468.09 99.765 1463.5 Q102.844 1458.9 108.654 1458.9 Z\" fill=\"#000000\" fill-rule=\"evenodd\" fill-opacity=\"1\" /><path clip-path=\"url(#clip990)\" d=\"M 0 0 M64.6495 1182.67 Q61.0384 1182.67 59.2097 1186.24 Q57.4041 1189.78 57.4041 1196.91 Q57.4041 1204.01 59.2097 1207.58 Q61.0384 1211.12 64.6495 1211.12 Q68.2837 1211.12 70.0892 1207.58 Q71.9179 1204.01 71.9179 1196.91 Q71.9179 1189.78 70.0892 1186.24 Q68.2837 1182.67 64.6495 1182.67 M64.6495 1178.97 Q70.4596 1178.97 73.5152 1183.57 Q76.5938 1188.16 76.5938 1196.91 Q76.5938 1205.63 73.5152 1210.24 Q70.4596 1214.82 64.6495 1214.82 Q58.8393 1214.82 55.7606 1210.24 Q52.7051 1205.63 52.7051 1196.91 Q52.7051 1188.16 55.7606 1183.57 Q58.8393 1178.97 64.6495 1178.97 Z\" fill=\"#000000\" fill-rule=\"evenodd\" fill-opacity=\"1\" /><path clip-path=\"url(#clip990)\" d=\"M 0 0 M84.8114 1208.27 L89.6956 1208.27 L89.6956 1214.15 L84.8114 1214.15 L84.8114 1208.27 Z\" fill=\"#000000\" fill-rule=\"evenodd\" fill-opacity=\"1\" /><path clip-path=\"url(#clip990)\" d=\"M 0 0 M100.691 1210.22 L108.33 1210.22 L108.33 1183.85 L100.02 1185.52 L100.02 1181.26 L108.283 1179.59 L112.959 1179.59 L112.959 1210.22 L120.598 1210.22 L120.598 1214.15 L100.691 1214.15 L100.691 1210.22 Z\" fill=\"#000000\" fill-rule=\"evenodd\" fill-opacity=\"1\" /><path clip-path=\"url(#clip990)\" d=\"M 0 0 M65.0198 902.743 Q61.4087 902.743 59.58 906.308 Q57.7745 909.85 57.7745 916.979 Q57.7745 924.086 59.58 927.651 Q61.4087 931.192 65.0198 931.192 Q68.6541 931.192 70.4596 927.651 Q72.2883 924.086 72.2883 916.979 Q72.2883 909.85 70.4596 906.308 Q68.6541 902.743 65.0198 902.743 M65.0198 899.04 Q70.83 899.04 73.8855 903.646 Q76.9642 908.23 76.9642 916.979 Q76.9642 925.706 73.8855 930.313 Q70.83 934.896 65.0198 934.896 Q59.2097 934.896 56.131 930.313 Q53.0754 925.706 53.0754 916.979 Q53.0754 908.23 56.131 903.646 Q59.2097 899.04 65.0198 899.04 Z\" fill=\"#000000\" fill-rule=\"evenodd\" fill-opacity=\"1\" /><path clip-path=\"url(#clip990)\" d=\"M 0 0 M85.1818 928.345 L90.066 928.345 L90.066 934.225 L85.1818 934.225 L85.1818 928.345 Z\" fill=\"#000000\" fill-rule=\"evenodd\" fill-opacity=\"1\" /><path clip-path=\"url(#clip990)\" d=\"M 0 0 M104.279 930.29 L120.598 930.29 L120.598 934.225 L98.6539 934.225 L98.6539 930.29 Q101.316 927.535 105.899 922.905 Q110.506 918.253 111.686 916.91 Q113.932 914.387 114.811 912.651 Q115.714 910.892 115.714 909.202 Q115.714 906.447 113.77 904.711 Q111.848 902.975 108.746 902.975 Q106.547 902.975 104.094 903.739 Q101.663 904.503 98.8854 906.054 L98.8854 901.331 Q101.709 900.197 104.163 899.618 Q106.617 899.04 108.654 899.04 Q114.024 899.04 117.219 901.725 Q120.413 904.41 120.413 908.901 Q120.413 911.03 119.603 912.952 Q118.816 914.85 116.709 917.442 Q116.131 918.114 113.029 921.331 Q109.927 924.526 104.279 930.29 Z\" fill=\"#000000\" fill-rule=\"evenodd\" fill-opacity=\"1\" /><path clip-path=\"url(#clip990)\" d=\"M 0 0 M64.0708 622.815 Q60.4597 622.815 58.631 626.38 Q56.8254 629.922 56.8254 637.051 Q56.8254 644.158 58.631 647.723 Q60.4597 651.264 64.0708 651.264 Q67.705 651.264 69.5105 647.723 Q71.3392 644.158 71.3392 637.051 Q71.3392 629.922 69.5105 626.38 Q67.705 622.815 64.0708 622.815 M64.0708 619.112 Q69.8809 619.112 72.9365 623.718 Q76.0151 628.301 76.0151 637.051 Q76.0151 645.778 72.9365 650.385 Q69.8809 654.968 64.0708 654.968 Q58.2606 654.968 55.1819 650.385 Q52.1264 645.778 52.1264 637.051 Q52.1264 628.301 55.1819 623.718 Q58.2606 619.112 64.0708 619.112 Z\" fill=\"#000000\" fill-rule=\"evenodd\" fill-opacity=\"1\" /><path clip-path=\"url(#clip990)\" d=\"M 0 0 M84.2327 648.417 L89.1169 648.417 L89.1169 654.297 L84.2327 654.297 L84.2327 648.417 Z\" fill=\"#000000\" fill-rule=\"evenodd\" fill-opacity=\"1\" /><path clip-path=\"url(#clip990)\" d=\"M 0 0 M113.469 635.663 Q116.825 636.38 118.7 638.649 Q120.598 640.917 120.598 644.25 Q120.598 649.366 117.08 652.167 Q113.561 654.968 107.08 654.968 Q104.904 654.968 102.589 654.528 Q100.297 654.112 97.8437 653.255 L97.8437 648.741 Q99.7882 649.875 102.103 650.454 Q104.418 651.033 106.941 651.033 Q111.339 651.033 113.631 649.297 Q115.945 647.561 115.945 644.25 Q115.945 641.195 113.793 639.482 Q111.663 637.746 107.844 637.746 L103.816 637.746 L103.816 633.903 L108.029 633.903 Q111.478 633.903 113.307 632.538 Q115.135 631.149 115.135 628.556 Q115.135 625.894 113.237 624.482 Q111.362 623.047 107.844 623.047 Q105.922 623.047 103.723 623.464 Q101.524 623.88 98.8854 624.76 L98.8854 620.593 Q101.547 619.852 103.862 619.482 Q106.2 619.112 108.26 619.112 Q113.584 619.112 116.686 621.542 Q119.788 623.95 119.788 628.07 Q119.788 630.94 118.145 632.931 Q116.501 634.899 113.469 635.663 Z\" fill=\"#000000\" fill-rule=\"evenodd\" fill-opacity=\"1\" /><path clip-path=\"url(#clip990)\" d=\"M 0 0 M62.9365 342.887 Q59.3254 342.887 57.4967 346.452 Q55.6912 349.994 55.6912 357.123 Q55.6912 364.23 57.4967 367.795 Q59.3254 371.336 62.9365 371.336 Q66.5707 371.336 68.3763 367.795 Q70.205 364.23 70.205 357.123 Q70.205 349.994 68.3763 346.452 Q66.5707 342.887 62.9365 342.887 M62.9365 339.184 Q68.7467 339.184 71.8022 343.79 Q74.8809 348.373 74.8809 357.123 Q74.8809 365.85 71.8022 370.457 Q68.7467 375.04 62.9365 375.04 Q57.1264 375.04 54.0477 370.457 Q50.9921 365.85 50.9921 357.123 Q50.9921 348.373 54.0477 343.79 Q57.1264 339.184 62.9365 339.184 Z\" fill=\"#000000\" fill-rule=\"evenodd\" fill-opacity=\"1\" /><path clip-path=\"url(#clip990)\" d=\"M 0 0 M83.0984 368.489 L87.9827 368.489 L87.9827 374.369 L83.0984 374.369 L83.0984 368.489 Z\" fill=\"#000000\" fill-rule=\"evenodd\" fill-opacity=\"1\" /><path clip-path=\"url(#clip990)\" d=\"M 0 0 M111.015 343.883 L99.2095 362.332 L111.015 362.332 L111.015 343.883 M109.788 339.809 L115.668 339.809 L115.668 362.332 L120.598 362.332 L120.598 366.221 L115.668 366.221 L115.668 374.369 L111.015 374.369 L111.015 366.221 L95.4132 366.221 L95.4132 361.707 L109.788 339.809 Z\" fill=\"#000000\" fill-rule=\"evenodd\" fill-opacity=\"1\" /><path clip-path=\"url(#clip990)\" d=\"M 0 0 M64.418 62.9593 Q60.8069 62.9593 58.9782 66.5241 Q57.1726 70.0657 57.1726 77.1953 Q57.1726 84.3018 58.9782 87.8666 Q60.8069 91.4082 64.418 91.4082 Q68.0522 91.4082 69.8578 87.8666 Q71.6865 84.3018 71.6865 77.1953 Q71.6865 70.0657 69.8578 66.5241 Q68.0522 62.9593 64.418 62.9593 M64.418 59.2556 Q70.2281 59.2556 73.2837 63.8621 Q76.3624 68.4454 76.3624 77.1953 Q76.3624 85.9221 73.2837 90.5286 Q70.2281 95.1119 64.418 95.1119 Q58.6078 95.1119 55.5291 90.5286 Q52.4736 85.9221 52.4736 77.1953 Q52.4736 68.4454 55.5291 63.8621 Q58.6078 59.2556 64.418 59.2556 Z\" fill=\"#000000\" fill-rule=\"evenodd\" fill-opacity=\"1\" /><path clip-path=\"url(#clip990)\" d=\"M 0 0 M84.5799 88.561 L89.4641 88.561 L89.4641 94.4406 L84.5799 94.4406 L84.5799 88.561 Z\" fill=\"#000000\" fill-rule=\"evenodd\" fill-opacity=\"1\" /><path clip-path=\"url(#clip990)\" d=\"M 0 0 M99.6956 59.8806 L118.052 59.8806 L118.052 63.8158 L103.978 63.8158 L103.978 72.2879 Q104.996 71.9407 106.015 71.7787 Q107.033 71.5935 108.052 71.5935 Q113.839 71.5935 117.219 74.7648 Q120.598 77.9361 120.598 83.3527 Q120.598 88.9314 117.126 92.0332 Q113.654 95.1119 107.334 95.1119 Q105.159 95.1119 102.89 94.7415 Q100.645 94.3712 98.2372 93.6304 L98.2372 88.9314 Q100.321 90.0656 102.543 90.6212 Q104.765 91.1767 107.242 91.1767 Q111.246 91.1767 113.584 89.0703 Q115.922 86.9638 115.922 83.3527 Q115.922 79.7416 113.584 77.6351 Q111.246 75.5287 107.242 75.5287 Q105.367 75.5287 103.492 75.9453 Q101.64 76.362 99.6956 77.2416 L99.6956 59.8806 Z\" fill=\"#000000\" fill-rule=\"evenodd\" fill-opacity=\"1\" /><path clip-path=\"url(#clip992)\" d=\"\n",
       "M218.754 425.058 L477.734 527.351 L736.715 921.916 L995.696 1000.03 L1254.68 900.909 L1513.66 1196.29 L1772.64 1042.13 L2031.62 939.912 L2290.6 314.997 L2290.6 806.931 \n",
       "  L2031.62 1306.04 L1772.64 1360.84 L1513.66 1386.21 L1254.68 1445.72 L995.696 1431.02 L736.715 1416.44 L477.734 994.988 L218.754 1216.01  Z\n",
       "  \" fill=\"#008000\" fill-rule=\"evenodd\" fill-opacity=\"0.3\"/>\n",
       "<polyline clip-path=\"url(#clip992)\" style=\"stroke:#008000; stroke-width:4; stroke-opacity:1; fill:none\" points=\"\n",
       "  218.754,425.058 477.734,527.351 736.715,921.916 995.696,1000.03 1254.68,900.909 1513.66,1196.29 1772.64,1042.13 2031.62,939.912 2290.6,314.997 \n",
       "  \"/>\n",
       "<path clip-path=\"url(#clip992)\" d=\"\n",
       "M218.754 425.058 L477.734 527.351 L736.715 921.916 L995.696 1000.03 L1254.68 900.909 L1513.66 1196.29 L1772.64 1042.13 L2031.62 939.912 L2290.6 314.997 L2290.6 87.9763 \n",
       "  L2031.62 339.925 L1772.64 628.872 L1513.66 912.244 L1254.68 188.26 L995.696 516.102 L736.715 477.462 L477.734 226.641 L218.754 101.782  Z\n",
       "  \" fill=\"#008000\" fill-rule=\"evenodd\" fill-opacity=\"0.3\"/>\n",
       "<polyline clip-path=\"url(#clip992)\" style=\"stroke:#008000; stroke-width:4; stroke-opacity:1; fill:none\" points=\"\n",
       "  218.754,425.058 477.734,527.351 736.715,921.916 995.696,1000.03 1254.68,900.909 1513.66,1196.29 1772.64,1042.13 2031.62,939.912 2290.6,314.997 \n",
       "  \"/>\n",
       "</svg>\n"
      ]
     },
     "execution_count": 33,
     "metadata": {},
     "output_type": "execute_result"
    }
   ],
   "source": [
    "τ = (1:9)/10\n",
    "plot(reuse=false)\n",
    "educ = EducEffect[:,1]\n",
    "lb = EducEffect[:,2]\n",
    "ub = EducEffect[:,3]\n",
    "plot!(τ, [educ educ], fillrange=[lb ub], fillalpha=0.3, c=:green, legend=:none)"
   ]
  },
  {
   "cell_type": "markdown",
   "metadata": {},
   "source": [
    "We can see that the IVQR results are substantially different from\n",
    "the ordinary QR results. Compare the two graphs in this document.\n",
    "- The effect of education, according to the IVQR results, is substantially\n",
    "larger, for all quantiles, with an additional year of education increasing\n",
    "all quantiles, except the 40th, by more than 20\\%. This is good news\n",
    "for the people in the U.S. that have to take out enormous student\n",
    "loans. Given the cost of college tuition in the U.S., the miserable\n",
    "7\\% return that OLS and ordinary QR find would probably not be enough\n",
    "to induce people to take out loans. So, we have external reasons to\n",
    "believe that this higher number may be more realistic. It would be\n",
    "interesting to study the evolution of returns over time, and compare\n",
    "them to the cost of education.\n",
    "- There is a U shape, with a greater effect at the lower and higher\n",
    "quantiles. \n",
    "- The confidence bands are broader for the IV version, which is to be\n",
    "expected. This is similar to what happens with ordinary IV and OLS.\n",
    "\n",
    "The results are quite similar to those of Chernozhukov and Hansen (2006),\n",
    "who estimate a similar model using the Angrist and Krueger (1991) data\n",
    "(this is the influential paper that used quarter of birth as an instrument\n",
    "for education).\n"
   ]
  }
 ],
 "metadata": {
  "kernelspec": {
   "display_name": "Julia 1.5.4",
   "language": "julia",
   "name": "julia-1.5"
  },
  "language_info": {
   "file_extension": ".jl",
   "mimetype": "application/julia",
   "name": "julia",
   "version": "1.5.4"
  }
 },
 "nbformat": 4,
 "nbformat_minor": 4
}
