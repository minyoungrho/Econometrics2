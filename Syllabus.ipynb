{
 "cells": [
  {
   "cell_type": "markdown",
   "metadata": {},
   "source": [
    "# Syllabus: Econometrics II \n",
    "\n",
    "**Time:** Spring 2021; Mondays 9am; Wednesdays 11:15am\n",
    "\n",
    "**Location:** Seminari C\n",
    "\n",
    "**Faculty:** Minyoung Rho (minyoung.rho@uab.cat)\n",
    "\n",
    "**Teaching Assistance:** Jacek Barszczewski (jacek.barszczewski@gmail.com)\n",
    "\n",
    "\n",
    "**Course Webpage:** https://github.com/minyoungrho/Econometrics2\n",
    "\n",
    "## Description:\n",
    "In this course, we study the estimation of structural economic models. Economic theory implies the structure of the observed variables in the data, which we can exploit to estimate the parameters of the model. We focus on extremum estimators (EE): maximum likelihood estimator (MLE), generalized method of moments (GMM), and etc. For a given estimator, we establish the large sample property (consistency and asymptotic normality) under certain conditions, and test hypotheses about the parameters of interest. \n",
    "\n",
    "We also study other advancements in modern Econometrics such as  nonparmetric estimation, which has no misspecification error but has a slower rate of convergence compared to parametric estimation, bayesian methods and quantile regressions.\n",
    "\n",
    "## Course Schedule\n",
    "\n",
    "**Lectures:**\n",
    "\n",
    "| Date | Keywords* |  Content | Reading  |  Problem Sets  |\n",
    "|---|:---|:---|:---|:---|\n",
    "| April 6 | EE | Extreme Estimators: Introduction; Consistency  | Hayashi, 7.1-7.2  |   |\n",
    "| April 12 | EE | Extreme Estimators: Asymptotic Normality & Hypothesis Testing | Hayashi, 7.3-7.4  | PS1  |\n",
    "\n",
    "*Keywords: extremum estimators (EE), maximum likelihood estimator (MLE), generalized method of moments (GMM)\n",
    "\n",
    "\n",
    "**Problem Sets:**\n",
    "Problem sets are due to Jacek\n",
    "\n",
    "| Problem Set # | Assign Date |  Due Date |\n",
    "|:---:|:---|:---|\n",
    "| 1 | April 12 | April 26 |\n",
    "\n",
    "## Grading: \n",
    "- 4 Problem sets (60%)\n",
    "- Final exam (40%)\n",
    "\n",
    "## References\n",
    "The references for the course materials will be updated throughout the course.\n",
    "- Hayashi, F. (2000). *Econometrics.*\n",
    "- Amemiya, T. (1985). *Advanced Econometrics.*\n",
    "- Davidson, R., MacKinnon, J. G. (2004). *Econometric theory and methods.*\n",
    "\n",
    "\n",
    "- https://github.com/mcreel/Econometrics\n",
    "- https://quantecon.org/"
   ]
  }
 ],
 "metadata": {
  "kernelspec": {
   "display_name": "Python 3",
   "language": "python",
   "name": "python3"
  },
  "language_info": {
   "codemirror_mode": {
    "name": "ipython",
    "version": 3
   },
   "file_extension": ".py",
   "mimetype": "text/x-python",
   "name": "python",
   "nbconvert_exporter": "python",
   "pygments_lexer": "ipython3",
   "version": "3.8.5"
  }
 },
 "nbformat": 4,
 "nbformat_minor": 4
}
